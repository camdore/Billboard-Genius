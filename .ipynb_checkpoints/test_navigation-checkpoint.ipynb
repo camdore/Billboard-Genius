{
 "cells": [
  {
   "cell_type": "code",
   "execution_count": 1,
   "metadata": {},
   "outputs": [
    {
     "name": "stdout",
     "output_type": "stream",
     "text": [
      "Requirement already satisfied: selenium in c:\\users\\thoma\\appdata\\roaming\\python\\python39\\site-packages (3.141.0)\n",
      "Requirement already satisfied: urllib3 in c:\\users\\thoma\\appdata\\roaming\\python\\python39\\site-packages (from selenium) (1.25.7)\n",
      "Collecting webdriver-manager\n",
      "  Using cached webdriver_manager-3.8.5-py2.py3-none-any.whl (27 kB)\n",
      "Requirement already satisfied: tqdm in c:\\users\\thoma\\anaconda3\\lib\\site-packages (from webdriver-manager) (4.62.3)\n",
      "Requirement already satisfied: requests in c:\\users\\thoma\\appdata\\roaming\\python\\python39\\site-packages (from webdriver-manager) (2.22.0)\n",
      "Collecting python-dotenv\n",
      "  Using cached python_dotenv-0.21.1-py3-none-any.whl (19 kB)\n",
      "Requirement already satisfied: packaging in c:\\users\\thoma\\anaconda3\\lib\\site-packages (from webdriver-manager) (21.0)\n",
      "Requirement already satisfied: pyparsing>=2.0.2 in c:\\users\\thoma\\anaconda3\\lib\\site-packages (from packaging->webdriver-manager) (3.0.4)\n",
      "Requirement already satisfied: certifi>=2017.4.17 in c:\\users\\thoma\\appdata\\roaming\\python\\python39\\site-packages (from requests->webdriver-manager) (2019.11.28)\n",
      "Requirement already satisfied: idna<2.9,>=2.5 in c:\\users\\thoma\\appdata\\roaming\\python\\python39\\site-packages (from requests->webdriver-manager) (2.8)\n",
      "Requirement already satisfied: urllib3!=1.25.0,!=1.25.1,<1.26,>=1.21.1 in c:\\users\\thoma\\appdata\\roaming\\python\\python39\\site-packages (from requests->webdriver-manager) (1.25.7)\n",
      "Requirement already satisfied: chardet<3.1.0,>=3.0.2 in c:\\users\\thoma\\appdata\\roaming\\python\\python39\\site-packages (from requests->webdriver-manager) (3.0.4)\n",
      "Requirement already satisfied: colorama in c:\\users\\thoma\\appdata\\roaming\\python\\python39\\site-packages (from tqdm->webdriver-manager) (0.4.3)\n",
      "Installing collected packages: python-dotenv, webdriver-manager\n",
      "Successfully installed python-dotenv-0.21.1 webdriver-manager-3.8.5\n",
      "Collecting bs4\n",
      "  Using cached bs4-0.0.1.tar.gz (1.1 kB)\n",
      "Requirement already satisfied: beautifulsoup4 in c:\\users\\thoma\\anaconda3\\lib\\site-packages (from bs4) (4.10.0)\n",
      "Requirement already satisfied: soupsieve>1.2 in c:\\users\\thoma\\anaconda3\\lib\\site-packages (from beautifulsoup4->bs4) (2.2.1)\n",
      "Building wheels for collected packages: bs4\n",
      "  Building wheel for bs4 (setup.py): started\n",
      "  Building wheel for bs4 (setup.py): finished with status 'done'\n",
      "  Created wheel for bs4: filename=bs4-0.0.1-py3-none-any.whl size=1271 sha256=1bd77ae3a13ebbc1c7645c77cd9892bd926ea128c9fab3533e89f7bbf4ffdeb0\n",
      "  Stored in directory: c:\\users\\thoma\\appdata\\local\\pip\\cache\\wheels\\73\\2b\\cb\\099980278a0c9a3e57ff1a89875ec07bfa0b6fcbebb9a8cad3\n",
      "Successfully built bs4\n",
      "Installing collected packages: bs4\n",
      "Successfully installed bs4-0.0.1\n"
     ]
    }
   ],
   "source": [
    "!pip install selenium\n",
    "!pip install webdriver-manager\n",
    "!pip install bs4"
   ]
  },
  {
   "cell_type": "code",
   "execution_count": 2,
   "metadata": {},
   "outputs": [],
   "source": [
    "from selenium import webdriver\n",
    "from selenium.webdriver.common.keys import Keys\n",
    "from webdriver_manager.chrome import ChromeDriverManager\n",
    "from selenium.webdriver.chrome.service import Service\n",
    "from bs4 import BeautifulSoup\n",
    "from selenium.webdriver.support.ui import WebDriverWait\n",
    "from selenium.webdriver.support import expected_conditions as EC\n",
    "from selenium.webdriver.common.by import By\n",
    "import time \n",
    "import pandas as pd"
   ]
  },
  {
   "cell_type": "code",
   "execution_count": 3,
   "metadata": {},
   "outputs": [
    {
     "name": "stdout",
     "output_type": "stream",
     "text": [
      "                            Title                    Artist Rank Last Week  \\\n",
      "0                         Flowers               Miley Cyrus    1         1   \n",
      "1    Bzrp Music Sessions, Vol. 53        Bizarrap & Shakira    2         2   \n",
      "2                       Kill Bill                       SZA    3         3   \n",
      "3                          Unholy    Sam Smith & Kim Petras    4         5   \n",
      "4                       Calm Down       Rema & Selena Gomez    5         4   \n",
      "..                            ...                       ...  ...       ...   \n",
      "195    Growin' Up And Gettin' Old                Luke Combs  196         -   \n",
      "196                   Besos Moja2  Wisin & Yandel + Rosalia  197       185   \n",
      "197             Murder In My Mind                  Kordhell  198       182   \n",
      "198                  Vista Al Mar                   Quevedo  199       136   \n",
      "199             Super Freaky Girl               Nicki Minaj  200       149   \n",
      "\n",
      "    Peak Positon Weeks on charts  \n",
      "0              1               3  \n",
      "1              2               4  \n",
      "2              1               8  \n",
      "3              1              19  \n",
      "4              3              31  \n",
      "..           ...             ...  \n",
      "195          196               1  \n",
      "196          102              16  \n",
      "197          113              21  \n",
      "198          114              16  \n",
      "199            5              25  \n",
      "\n",
      "[200 rows x 6 columns]\n",
      "temps d'execution : 64.58975315093994 s\n"
     ]
    }
   ],
   "source": [
    "start = time.time()\n",
    "# Initialize the webdriver\n",
    "# de manière basique\n",
    "# driver = webdriver.Chrome()\n",
    "\n",
    "# avec ChromeDriverManager mieux car update du driver automatiquement\n",
    "# options = webdriver.ChromeOptions()\n",
    "# options.add_argument('--headless')\n",
    "driver = webdriver.Chrome(ChromeDriverManager().install())\n",
    "\n",
    "# si on a télécharger le driver directement dans le dossier \n",
    "# service = Service(executable_path=\"./chromedriver.exe\")\n",
    "# driver = webdriver.Chrome(service=service)\n",
    "\n",
    "# Navigate to the website\n",
    "#driver.get(\"https://www.billboard.com/charts/hot-100/\")\n",
    "driver.get(\"https://www.billboard.com/charts/billboard-global-200/\")\n",
    "#driver.get(\"https://www.billboard.com/charts/billboard-200/\")\n",
    "\n",
    "# Wait for the page to load\n",
    "# driver.implicitly_wait(10)\n",
    "time.sleep(10)\n",
    "\n",
    "# reject all cookies\n",
    "driver.find_element(By.XPATH,\"/html/body/div[6]/div[2]/div/div/div[2]/div/div/button[1]\").click()\n",
    "\n",
    "iterateur100 = list(range(1,110,11))\n",
    "iterateur100.remove(1)\n",
    "iterateur200 = list(range(1,220,11))\n",
    "iterateur200.remove(1)\n",
    "\n",
    "# nb_max 111 ou 221\n",
    "def scraper(list,xpath,iterateur,nb_max):\n",
    "    for i in range(2,nb_max):\n",
    "        if i not in iterateur : \n",
    "            WebElement = driver.find_element(By.XPATH,xpath%(i))\n",
    "            list.append(WebElement.text)\n",
    "\n",
    "    return list\n",
    "\n",
    "XpathTitle = \"/html/body/div[4]/main/div[2]/div[3]/div/div/div/div[2]/div[%d]/ul/li[4]/ul/li[1]/h3\"\n",
    "XpathArtist = \"/html/body/div[4]/main/div[2]/div[3]/div/div/div/div[2]/div[%d]/ul/li[4]/ul/li[1]/span\"\n",
    "XpathRank = \"/html/body/div[4]/main/div[2]/div[3]/div/div/div/div[2]/div[%d]/ul/li[1]/span \"\n",
    "XpathLastWeek = \"/html/body/div[4]/main/div[2]/div[3]/div/div/div/div[2]/div[%d]/ul/li[4]/ul/li[4]/span\"\n",
    "XpathPeakPosition = \"/html/body/div[4]/main/div[2]/div[3]/div/div/div/div[2]/div[%d]/ul/li[4]/ul/li[5]/span\"\n",
    "XpathWeeksOnChart = \"/html/body/div[4]/main/div[2]/div[3]/div/div/div/div[2]/div[%d]/ul/li[4]/ul/li[6]/span\"\n",
    "\n",
    "allXpath = [XpathTitle,XpathArtist,XpathRank,XpathLastWeek,XpathPeakPosition,XpathWeeksOnChart]\n",
    "\n",
    "title,artist,rank,last_week,peak_pos,weeks_on_chart = [],[],[],[],[],[]\n",
    "\n",
    "allList = [title,artist,rank,last_week,peak_pos,weeks_on_chart]\n",
    "\n",
    "i = [scraper(i,j,iterateur200,221) for i, j in zip(allList, allXpath)]\n",
    "\n",
    "# for i, j in zip(allList, allXpath):\n",
    "#     i = scraper(i,j,iterateur200,221)\n",
    "\n",
    "df = pd.DataFrame(list(zip(title,artist,rank,last_week,peak_pos,weeks_on_chart)),columns=['Title','Artist','Rank','Last Week','Peak Positon','Weeks on charts'])\n",
    "print(df)\n",
    "\n",
    "# Close the webdriver\n",
    "driver.close()\n",
    "\n",
    "end = time.time()\n",
    "temps = end - start\n",
    "print(\"temps d'execution :\",temps,\"s\")"
   ]
  },
  {
   "cell_type": "code",
   "execution_count": 4,
   "metadata": {},
   "outputs": [
    {
     "name": "stdout",
     "output_type": "stream",
     "text": [
      "[('Miley Cyrus', 'Flowers'), ('Bizarrap & Shakira', 'Bzrp Music Sessions, Vol. 53'), ('SZA', 'Kill Bill'), ('Sam Smith & Kim Petras', 'Unholy'), ('Rema & Selena Gomez', 'Calm Down'), ('Metro Boomin, The Weeknd & 21 Savage', \"Creepin'\"), ('RAYE Featuring 070 Shake', 'Escapism'), ('Taylor Swift', 'Anti-Hero'), ('David Guetta & Bebe Rexha', \"I'm Good (Blue)\"), ('Harry Styles', 'As It Was'), ('NewJeans', 'OMG'), ('NewJeans', 'Ditto'), ('Miguel', 'Sure Thing'), ('Meghan Trainor', 'Made You Look'), ('Stephen Sanchez', 'Until I Found You'), ('Yandel & Feid', 'Yandel 150'), ('Manuel Turizo', 'La Bachata'), ('JVKE', 'Golden Hour'), ('Tom Odell', 'Another Love'), ('OneRepublic', \"I Ain't Worried\"), ('The Weeknd & Ariana Grande', 'Save Your Tears'), ('Arcangel & Bad Bunny', 'La Jumpa'), ('The Weeknd', 'Die For You'), ('Fuerza Regida X Grupo Frontera', 'Bebe Dame'), ('Drake & 21 Savage', 'Rich Flex'), ('Bizarrap & Quevedo', 'Bzrp Music Sessions, Vol. 52'), ('Oliver Tree & Robin Schulz', 'Miss You'), ('The Kid LAROI', 'Love Again'), ('SZA', 'Snooze'), ('Ozuna Featuring Feid', 'Hey Mor'), ('Chris Brown', 'Under The Influence'), ('Metro Boomin, Future & Chris Brown', 'Superhero (Heroes & Villains)'), ('Lil Uzi Vert', 'Just Wanna Rock'), ('d4vd', 'Here With Me'), ('Taylor Swift', 'Lavender Haze'), ('The Kid LAROI & Justin Bieber', 'Stay'), ('Beyonce', 'Cuff It'), ('Tiesto Featuring Tate McRae', '10:35'), ('Zach Bryan', 'Something In The Orange'), ('Gabito Ballesteros, Peso Pluma & Natanael Cano', 'AMG'), ('Steve Lacy', 'Bad Habit'), ('Carin Leon X Grupo Frontera', 'Que Vuelvas'), ('Bad Bunny & Chencho Corleone', 'Me Porto Bonito'), ('TOMORROW X TOGETHER', 'Sugar Rush Ride'), ('Bad Bunny', 'Titi Me Pregunto'), ('The Weeknd', 'Blinding Lights'), ('Lady Gaga', 'Bloody Mary'), ('Central Cee', 'Let Go'), ('Rosa Linn', 'Snap'), ('Coi Leray', 'Players'), ('Rosalia', 'Despecha'), ('Glass Animals', 'Heat Waves'), ('Sam Smith', \"I'm Not Here To Make Friends\"), ('Elton John & Dua Lipa', 'Cold Heart (PNAU Remix)'), ('Eminem', 'Mockingbird'), ('The Weeknd Featuring Daft Punk', 'Starboy'), ('Imagine Dragons', 'Bones'), ('Junior H X Oscar Maydon', 'Fin de Semana'), ('Dua Lipa', 'Levitating'), ('Ed Sheeran', 'Perfect'), ('The Neighbourhood', 'Sweater Weather'), ('NewJeans', 'Hype Boy'), ('Ed Sheeran', 'Shivers'), ('Feid', 'Feliz Cumpleanos Ferxxo'), ('Marilia Mendonca', 'Leao'), ('Rosalia', 'LLYLM'), ('Rihanna', 'Lift Me Up'), ('TWICE', 'Moonlight Sunrise'), ('Nengo Flow & Bad Bunny', 'Gato de Noche'), ('Morgan Wallen', 'Last Night'), ('SZA', 'Nobody Gets Me'), ('SZA', 'Low'), ('Peso Pluma X Natanael Cano', 'PRC'), ('Kenshi Yonezu', 'Kick Back'), ('Bruno Mars', 'When I Was Your Man'), ('Ed Sheeran', 'Bad Habits'), ('LE SSERAFIM', 'Antifragile'), ('Shakira + Ozuna', 'Monotonia'), ('Bad Bunny & Bomba Estereo', 'Ojitos Lindos'), ('Sia', 'Unstoppable'), ('Libianca', 'People'), ('d4vd', 'Romantic Homicide'), ('Quevedo', 'Punto G'), ('Hotel Ugly', 'Shut Up My Moms Calling'), ('Arctic Monkeys', 'I Wanna Be Yours'), ('Cris Mj Featuring Standly', 'Marisola'), ('Grupo Frontera', 'No Se Va'), ('Bad Bunny', 'Efecto'), ('Tory Lanez', 'The Color Violet'), ('Bailey Zimmerman', 'Rock And A Hard Place'), ('Sabrina Carpenter', 'Nonsense'), ('Lewis Capaldi', 'Someone You Loved'), ('Pinkfong', 'Baby Shark'), ('Adele', 'Easy On Me'), ('TAEYANG Featuring Jimin', 'Vibe'), ('Feid', 'Chorrito Pa Las Animas'), ('Imagine Dragons', 'Believer'), ('SZA', 'Shirt'), ('Zach Bryan Featuring Maggie Rogers', 'Dawns'), ('Luke Combs', 'The Kind Of Love We Make'), ('Ed Sheeran', 'Shape Of You'), ('Drake Featuring 21 Savage', 'Jimmy Cooks'), ('Lizzo', 'About Damn Time'), ('Karol G', 'Provenza'), ('Future Featuring Drake & Tems', 'Wait For U'), ('Joji', 'Glimpse Of Us'), ('Karol G & Ovy On The Drums', 'Cairo'), ('Imagine Dragons X JID', 'Enemy'), ('Lil Nas X', \"Star Walkin' (League Of Legends Worlds Anthem)\"), ('Coldplay', 'Viva La Vida'), ('INTERWORLD', 'Metamorphosis'), ('Morgan Wallen', 'You Proof'), ('J. Cole', 'No Role Modelz'), ('Eminem', 'Without Me'), ('Yuridia & Angela Aguilar', 'Que Agonia'), ('Dean Lewis', 'How Do I Say Goodbye'), ('Billie Eilish & Khalid', 'Lovely'), ('Lady Gaga & Bradley Cooper', 'Shallow'), ('Official HIGE DANdism', 'Subtitle'), ('Nicky Youre & dazy', 'Sunroof'), ('Post Malone & Swae Lee', 'Sunflower (Spider-Man: Into The Spider-Verse)'), ('Coldplay', 'Yellow'), ('Harry Styles', 'Late Night Talking'), ('Ruth B.', 'Dandelions'), ('Rauw Alejandro, Lyanno & Brray', 'Lokera'), ('Justine Skye Featuring Tyga', 'Collide'), ('Vance Joy', 'Riptide'), ('Bad Bunny', 'Neverita'), ('Quavo & Takeoff', 'Hotel Lobby (Unc And Phew)'), ('Aerosmith', 'Dream On'), ('Coolio Featuring L.V.', \"Gangsta's Paradise\"), ('Lana Del Rey vs. Cedric Gervais', 'Summertime Sadness'), ('BLACKPINK', 'Shut Down'), ('Yung Baby Tate', 'Hey, Mickey!'), ('Bad Bunny', 'Moscow Mule'), ('Post Malone Featuring Doja Cat', 'I Like You (A Happier Song)'), ('Hozier', 'Take Me To Church'), ('Billie Eilish', 'Happier Than Ever'), ('P!nk', 'Trustfall'), ('Shakira & Rauw Alejandro', 'Te Felicito'), ('Farruko', 'Pepas'), ('Udo Lindenberg & Apache 207', 'Komet'), ('Shakira Featuring Freshlyground', 'Waka Waka (This Time For Africa)'), ('Taylor Swift', 'Blank Space'), ('OneRepublic', 'Counting Stars'), ('BLACKPINK', 'Pink Venom'), ('Tears For Fears', 'Everybody Wants To Rule The World'), ('Morgan Wallen', 'Thought You Should Know'), ('Kane Brown With Katelyn Brown', 'Thank God'), ('The Weeknd', 'The Hills'), ('Quevedo & Mike Towers', 'Playa del Ingles'), ('NewJeans', 'Attention'), ('Fujii Kaze', 'Shinunoga E-Wa'), ('GAYLE', 'abcdefu'), ('Harry Styles', 'Watermelon Sugar'), ('Luke Combs', 'Going, Going, Gone'), ('ThxSoMch', 'Spit In My Face!'), ('Tones And I', 'Dance Monkey'), ('New West', 'Those Eyes'), (\"Guns N' Roses\", \"Sweet Child O' Mine\"), ('Arctic Monkeys', 'Do I Wanna Know?'), ('Sam Smith', \"I'm Not The Only One\"), ('Eminem', 'The Real Slim Shady'), ('50 Cent', 'In Da Club'), ('Ayra Starr', 'Rush'), ('Nirvana', 'Smells Like Teen Spirit'), ('Arctic Monkeys', '505'), ('Kate Bush', 'Running Up That Hill (A Deal With God)'), ('Macklemore & Ryan Lewis Featuring Ray Dalton', \"Can't Hold Us\"), ('Israel & Rodolffo & Ana Castela', 'Bombonzinho'), ('Post Malone', 'Circles'), ('HARDY Featuring Lainey Wilson', 'Wait In The Truck'), ('Miley Cyrus', 'Party In The U.S.A.'), ('James Hype & Miggy Dela Rosa', 'Ferrari'), ('Adele', 'Set Fire To The Rain'), ('a-ha', 'Take On Me'), ('Eminem', 'Lose Yourself'), ('Lil Nas X & Jack Harlow', 'Industry Baby'), ('Eagles', 'Hotel California'), ('Metro Boomin Featuring Don Toliver & Future', 'Too Many Nights'), ('The Weeknd', 'Call Out My Name'), ('Feid', 'Normal'), ('SZA', 'Blind'), ('King', 'Maan Meri Jaan'), ('Billie Eilish', 'TV'), ('Rauw Alejandro & Baby Rasta', 'Punto 40'), ('The Weeknd Featuring Gesaffelstein', 'I Was Never There'), ('Justin Bieber', 'Ghost'), ('Elton John & Britney Spears', 'Hold Me Closer'), ('The Chainsmokers & Coldplay', 'Something Just Like This'), ('Dua Lipa', \"Don't Start Now\"), ('Paloma Faith', 'Only Love Can Hurt Like This'), ('Linkin Park', 'In The End'), ('Beach Weather', 'Sex, Drugs, Etc.'), ('Bruno Mars', 'Locked Out Of Heaven'), ('Luke Combs', \"Growin' Up And Gettin' Old\"), ('Wisin & Yandel + Rosalia', 'Besos Moja2'), ('Kordhell', 'Murder In My Mind'), ('Quevedo', 'Vista Al Mar'), ('Nicki Minaj', 'Super Freaky Girl')]\n"
     ]
    }
   ],
   "source": [
    "song_artists=list(zip( df['Artist'], df['Title'],))\n",
    "print(song_artists)"
   ]
  },
  {
   "cell_type": "code",
   "execution_count": 5,
   "metadata": {},
   "outputs": [
    {
     "ename": "NoSuchElementException",
     "evalue": "Message: no such element: Unable to locate element: {\"method\":\"xpath\",\"selector\":\"/html/body/div[2]/div[3]/div[1]/div/div[2]/div/button[1]\"}\n  (Session info: chrome=109.0.5414.120)\n",
     "output_type": "error",
     "traceback": [
      "\u001b[1;31m---------------------------------------------------------------------------\u001b[0m",
      "\u001b[1;31mNoSuchElementException\u001b[0m                    Traceback (most recent call last)",
      "\u001b[1;32m~\\AppData\\Local\\Temp/ipykernel_17540/1537633726.py\u001b[0m in \u001b[0;36m<module>\u001b[1;34m\u001b[0m\n\u001b[0;32m     18\u001b[0m     \u001b[1;31m# ouvrir le site et accepter les cookies\u001b[0m\u001b[1;33m\u001b[0m\u001b[1;33m\u001b[0m\u001b[0m\n\u001b[0;32m     19\u001b[0m \u001b[0mdriver_genius\u001b[0m\u001b[1;33m.\u001b[0m\u001b[0mget\u001b[0m\u001b[1;33m(\u001b[0m\u001b[1;34m\"https://genius.com/\"\u001b[0m\u001b[1;33m)\u001b[0m\u001b[1;33m\u001b[0m\u001b[1;33m\u001b[0m\u001b[0m\n\u001b[1;32m---> 20\u001b[1;33m \u001b[0mdriver_genius\u001b[0m\u001b[1;33m.\u001b[0m\u001b[0mfind_element\u001b[0m\u001b[1;33m(\u001b[0m\u001b[0mBy\u001b[0m\u001b[1;33m.\u001b[0m\u001b[0mXPATH\u001b[0m\u001b[1;33m,\u001b[0m\u001b[1;34m\"/html/body/div[2]/div[3]/div[1]/div/div[2]/div/button[1]\"\u001b[0m\u001b[1;33m)\u001b[0m\u001b[1;33m.\u001b[0m\u001b[0mclick\u001b[0m\u001b[1;33m(\u001b[0m\u001b[1;33m)\u001b[0m\u001b[1;33m\u001b[0m\u001b[1;33m\u001b[0m\u001b[0m\n\u001b[0m\u001b[0;32m     21\u001b[0m \u001b[1;33m\u001b[0m\u001b[0m\n\u001b[0;32m     22\u001b[0m \u001b[1;31m# activer la recherche\u001b[0m\u001b[1;33m\u001b[0m\u001b[1;33m\u001b[0m\u001b[0m\n",
      "\u001b[1;32m~\\AppData\\Roaming\\Python\\Python39\\site-packages\\selenium\\webdriver\\remote\\webdriver.py\u001b[0m in \u001b[0;36mfind_element\u001b[1;34m(self, by, value)\u001b[0m\n\u001b[0;32m    974\u001b[0m                 \u001b[0mby\u001b[0m \u001b[1;33m=\u001b[0m \u001b[0mBy\u001b[0m\u001b[1;33m.\u001b[0m\u001b[0mCSS_SELECTOR\u001b[0m\u001b[1;33m\u001b[0m\u001b[1;33m\u001b[0m\u001b[0m\n\u001b[0;32m    975\u001b[0m                 \u001b[0mvalue\u001b[0m \u001b[1;33m=\u001b[0m \u001b[1;34m'[name=\"%s\"]'\u001b[0m \u001b[1;33m%\u001b[0m \u001b[0mvalue\u001b[0m\u001b[1;33m\u001b[0m\u001b[1;33m\u001b[0m\u001b[0m\n\u001b[1;32m--> 976\u001b[1;33m         return self.execute(Command.FIND_ELEMENT, {\n\u001b[0m\u001b[0;32m    977\u001b[0m             \u001b[1;34m'using'\u001b[0m\u001b[1;33m:\u001b[0m \u001b[0mby\u001b[0m\u001b[1;33m,\u001b[0m\u001b[1;33m\u001b[0m\u001b[1;33m\u001b[0m\u001b[0m\n\u001b[0;32m    978\u001b[0m             'value': value})['value']\n",
      "\u001b[1;32m~\\AppData\\Roaming\\Python\\Python39\\site-packages\\selenium\\webdriver\\remote\\webdriver.py\u001b[0m in \u001b[0;36mexecute\u001b[1;34m(self, driver_command, params)\u001b[0m\n\u001b[0;32m    319\u001b[0m         \u001b[0mresponse\u001b[0m \u001b[1;33m=\u001b[0m \u001b[0mself\u001b[0m\u001b[1;33m.\u001b[0m\u001b[0mcommand_executor\u001b[0m\u001b[1;33m.\u001b[0m\u001b[0mexecute\u001b[0m\u001b[1;33m(\u001b[0m\u001b[0mdriver_command\u001b[0m\u001b[1;33m,\u001b[0m \u001b[0mparams\u001b[0m\u001b[1;33m)\u001b[0m\u001b[1;33m\u001b[0m\u001b[1;33m\u001b[0m\u001b[0m\n\u001b[0;32m    320\u001b[0m         \u001b[1;32mif\u001b[0m \u001b[0mresponse\u001b[0m\u001b[1;33m:\u001b[0m\u001b[1;33m\u001b[0m\u001b[1;33m\u001b[0m\u001b[0m\n\u001b[1;32m--> 321\u001b[1;33m             \u001b[0mself\u001b[0m\u001b[1;33m.\u001b[0m\u001b[0merror_handler\u001b[0m\u001b[1;33m.\u001b[0m\u001b[0mcheck_response\u001b[0m\u001b[1;33m(\u001b[0m\u001b[0mresponse\u001b[0m\u001b[1;33m)\u001b[0m\u001b[1;33m\u001b[0m\u001b[1;33m\u001b[0m\u001b[0m\n\u001b[0m\u001b[0;32m    322\u001b[0m             response['value'] = self._unwrap_value(\n\u001b[0;32m    323\u001b[0m                 response.get('value', None))\n",
      "\u001b[1;32m~\\AppData\\Roaming\\Python\\Python39\\site-packages\\selenium\\webdriver\\remote\\errorhandler.py\u001b[0m in \u001b[0;36mcheck_response\u001b[1;34m(self, response)\u001b[0m\n\u001b[0;32m    240\u001b[0m                 \u001b[0malert_text\u001b[0m \u001b[1;33m=\u001b[0m \u001b[0mvalue\u001b[0m\u001b[1;33m[\u001b[0m\u001b[1;34m'alert'\u001b[0m\u001b[1;33m]\u001b[0m\u001b[1;33m.\u001b[0m\u001b[0mget\u001b[0m\u001b[1;33m(\u001b[0m\u001b[1;34m'text'\u001b[0m\u001b[1;33m)\u001b[0m\u001b[1;33m\u001b[0m\u001b[1;33m\u001b[0m\u001b[0m\n\u001b[0;32m    241\u001b[0m             \u001b[1;32mraise\u001b[0m \u001b[0mexception_class\u001b[0m\u001b[1;33m(\u001b[0m\u001b[0mmessage\u001b[0m\u001b[1;33m,\u001b[0m \u001b[0mscreen\u001b[0m\u001b[1;33m,\u001b[0m \u001b[0mstacktrace\u001b[0m\u001b[1;33m,\u001b[0m \u001b[0malert_text\u001b[0m\u001b[1;33m)\u001b[0m\u001b[1;33m\u001b[0m\u001b[1;33m\u001b[0m\u001b[0m\n\u001b[1;32m--> 242\u001b[1;33m         \u001b[1;32mraise\u001b[0m \u001b[0mexception_class\u001b[0m\u001b[1;33m(\u001b[0m\u001b[0mmessage\u001b[0m\u001b[1;33m,\u001b[0m \u001b[0mscreen\u001b[0m\u001b[1;33m,\u001b[0m \u001b[0mstacktrace\u001b[0m\u001b[1;33m)\u001b[0m\u001b[1;33m\u001b[0m\u001b[1;33m\u001b[0m\u001b[0m\n\u001b[0m\u001b[0;32m    243\u001b[0m \u001b[1;33m\u001b[0m\u001b[0m\n\u001b[0;32m    244\u001b[0m     \u001b[1;32mdef\u001b[0m \u001b[0m_value_or_default\u001b[0m\u001b[1;33m(\u001b[0m\u001b[0mself\u001b[0m\u001b[1;33m,\u001b[0m \u001b[0mobj\u001b[0m\u001b[1;33m,\u001b[0m \u001b[0mkey\u001b[0m\u001b[1;33m,\u001b[0m \u001b[0mdefault\u001b[0m\u001b[1;33m)\u001b[0m\u001b[1;33m:\u001b[0m\u001b[1;33m\u001b[0m\u001b[1;33m\u001b[0m\u001b[0m\n",
      "\u001b[1;31mNoSuchElementException\u001b[0m: Message: no such element: Unable to locate element: {\"method\":\"xpath\",\"selector\":\"/html/body/div[2]/div[3]/div[1]/div/div[2]/div/button[1]\"}\n  (Session info: chrome=109.0.5414.120)\n"
     ]
    }
   ],
   "source": [
    "\n",
    "# Initialize the webdriver\n",
    "# de manière basique\n",
    "# driver = webdriver.Chrome()\n",
    "\n",
    "# avec ChromeDriverManager mieux car update du driver automatiquement\n",
    "# driver = webdriver.Chrome(ChromeDriverManager().install())\n",
    "# driver.get('https://genius.com/{}'.format(str(\"Sza-sos-lyrics\")))\n",
    "# driver.find_element(By.XPATH,\"/html/body/div[7]/div[3]/div[1]/div/div[2]/div/button[1]\").click()\n",
    "# date = driver.find_element(By.XPATH,\"/html/body/div[1]/main/div[1]/div[4]/div/div[1]/div[2]/div\").text\n",
    "# print(date)\n",
    "\n",
    "# options = webdriver.ChromeOptions()\n",
    "# options.add_argument('--headless')\n",
    "driver_genius = webdriver.Chrome(ChromeDriverManager().install())\n",
    "\n",
    "# for song in song_artists:\n",
    "\n",
    "    # ouvrir le site et accepter les cookies\n",
    "driver_genius.get(\"https://genius.com/\")\n",
    "driver_genius.find_element(By.XPATH,\"/html/body/div[2]/div[3]/div[1]/div/div[2]/div/button[1]\").click()\n",
    "\n",
    "# activer la recherche\n",
    "\n",
    "element = driver_genius.find_element(By.XPATH,\"/html/body/div[1]/div/div[1]/div[1]/form/input\")\n",
    "element.send_keys('Flowers', Keys.ARROW_DOWN)\n",
    "element.submit()\n",
    "driver_genius.find_element(By.XPATH,\"/html/body/routable-page/ng-outlet/search-results-page/div/div[2]/div[1]/div[1]/search-result-section/div/div[2]/search-result-items/div/search-result-item/div/mini-song-card/a/div[2]\").click()\n",
    "\n",
    "driver_genius.find_element(By.XPATH,\"/html/body/div[1]/main/div[3]/div[3]/div[1]/div[7]/div[2]/button\").click()\n",
    "print(driver_genius.find_element(By.XPATH, \"/html/body/div[1]/main/div[3]/div[3]/div[1]/div[7]/div[1]/div/div[5]\").text)\n",
    "\n",
    "time.sleep(100)\n"
   ]
  },
  {
   "cell_type": "code",
   "execution_count": null,
   "metadata": {},
   "outputs": [],
   "source": [
    "# driver.find_element(By.CLASS_NAME,\"HeaderMetadata__ReleaseDate-sc-1p42fnf-4 dEQuaq\")"
   ]
  },
  {
   "cell_type": "code",
   "execution_count": null,
   "metadata": {},
   "outputs": [],
   "source": [
    "# reject all cookies\n",
    "#driver.find_element(By.XPATH,\"/html/body/div[6]/div[2]/div/div/div[2]/div/div/button[1]\").click()"
   ]
  },
  {
   "cell_type": "code",
   "execution_count": null,
   "metadata": {},
   "outputs": [],
   "source": [
    "# for i in range(1,6): \n",
    "#     driver.implicitly_wait(2)\n",
    "#     calendar = driver.find_element(By.XPATH,\"/html/body/div[4]/main/div[2]/div[1]/div/div/div[2]/div[2]/div[2]\").click()\n",
    "#     week_i = driver.find_element(By.XPATH,\"/html/body/div[4]/main/div[2]/div[1]/div/div/div[2]/div[2]/div[2]/div/div/div/div[2]/table/tbody/tr[%d]/td[1]/span\"%(i)).click()\n",
    "#     date = driver.find_element(By.XPATH,\"/html/body/div[4]/main/div[2]/div[1]/div/div/div[2]/div[2]/div[2]/div/div/h2\").text"
   ]
  },
  {
   "cell_type": "code",
   "execution_count": null,
   "metadata": {},
   "outputs": [],
   "source": [
    "# calendar = driver.find_element(By.XPATH,\"/html/body/div[4]/main/div[2]/div[1]/div/div/div[2]/div[2]/div[2]\").click()\n",
    "# driver.find_element(By.XPATH,\"/html/body/div[4]/main/div[2]/div[1]/div/div/div[2]/div[2]/div[2]/div/div/div/div[2]/table/tbody/tr[1]/td[1]/span\").click()\n",
    "# date = driver.find_element(By.XPATH,\"/html/body/div[4]/main/div[2]/div[1]/div/div/div[2]/div[2]/div[2]/div/div/h2\").text\n",
    "# date"
   ]
  },
  {
   "cell_type": "code",
   "execution_count": null,
   "metadata": {},
   "outputs": [],
   "source": [
    "# calendar = driver.find_element(By.XPATH,\"/html/body/div[4]/main/div[2]/div[1]/div/div/div[2]/div[2]/div[2]\").click()\n",
    "# previous_month = driver.find_element(By.XPATH,\"/html/body/div[4]/main/div[2]/div[1]/div/div/div[2]/div[2]/div[2]/div/div/div/div[1]/div[2]/button[1]\").click()"
   ]
  },
  {
   "cell_type": "code",
   "execution_count": null,
   "metadata": {},
   "outputs": [],
   "source": [
    "# /html/body/div[4]/main/div[2]/div[1]/div/div/div[2]/div[2]/div[2]/div/div/div/div[2]/table/tbody/tr[4]/td[1] # s3\n",
    "# /html/body/div[4]/main/div[2]/div[1]/div/div/div[2]/div[2]/div[2]/div/div/div/div[2]/table/tbody/tr[3]/td[1] # s2\n",
    "# /html/body/div[4]/main/div[2]/div[1]/div/div/div[2]/div[2]/div[2]/div/div/div/div[2]/table/tbody/tr[2]/td[1] # xpath S1\n",
    "# /html/body/div[4]/main/div[2]/div[1]/div/div/div[2]/div[2]/div[2]/div/div/div/div[2]/table/tbody/tr[5]/td[1] # s4 actuellement \n",
    "# /html/body/div[4]/main/div[2]/div[1]/div/div/div[2]/div[2]/div[2]/div/div/div/div[2]/table/tbody/tr[1]/td[1]/span\n",
    "# /html/body/div[4]/main/div[2]/div[1]/div/div/div[2]/div[2]/div[2]/div/div/div/div[2]/table/tbody/tr[4]/td[1]/span\n",
    "# /html/body/div[4]/main/div[2]/div[1]/div/div/div[2]/div[2]/div[2]/div/div/div/div[2]/table/tbody/tr[%d]/td[1]"
   ]
  },
  {
   "cell_type": "code",
   "execution_count": null,
   "metadata": {},
   "outputs": [],
   "source": [
    "# /html/body/div[4]/main/div[2]/div[1]/div/div/div[2]/div[2]/div[2]/div/div/h2\n",
    "# /html/body/div[4]/main/div[2]/div[1]/div/div/div[2]/div[2]/div[2]/div/div/h2\n",
    "# /html/body/div[4]/main/div[2]/div[1]/div/div/div[2]/div[2]/div[2]/div/div/h2"
   ]
  }
 ],
 "metadata": {
  "kernelspec": {
   "display_name": "Python 3 (ipykernel)",
   "language": "python",
   "name": "python3"
  },
  "language_info": {
   "codemirror_mode": {
    "name": "ipython",
    "version": 3
   },
   "file_extension": ".py",
   "mimetype": "text/x-python",
   "name": "python",
   "nbconvert_exporter": "python",
   "pygments_lexer": "ipython3",
   "version": "3.9.7"
  },
  "vscode": {
   "interpreter": {
    "hash": "509621bd8abb40b46c08361ccf2f563f55d5d1490dc44b0b43bb6ec8108ed8e9"
   }
  }
 },
 "nbformat": 4,
 "nbformat_minor": 2
}
