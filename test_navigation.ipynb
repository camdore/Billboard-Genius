{
 "cells": [
  {
   "cell_type": "code",
   "execution_count": 146,
   "metadata": {},
   "outputs": [
    {
     "name": "stdout",
     "output_type": "stream",
     "text": [
      "Requirement already satisfied: selenium in c:\\users\\thoma\\appdata\\local\\packages\\pythonsoftwarefoundation.python.3.9_qbz5n2kfra8p0\\localcache\\local-packages\\python39\\site-packages (4.8.0)\n",
      "Requirement already satisfied: certifi>=2021.10.8 in c:\\users\\thoma\\appdata\\local\\packages\\pythonsoftwarefoundation.python.3.9_qbz5n2kfra8p0\\localcache\\local-packages\\python39\\site-packages (from selenium) (2022.12.7)\n",
      "Requirement already satisfied: urllib3[socks]~=1.26 in c:\\users\\thoma\\appdata\\local\\packages\\pythonsoftwarefoundation.python.3.9_qbz5n2kfra8p0\\localcache\\local-packages\\python39\\site-packages (from selenium) (1.26.14)\n",
      "Requirement already satisfied: trio-websocket~=0.9 in c:\\users\\thoma\\appdata\\local\\packages\\pythonsoftwarefoundation.python.3.9_qbz5n2kfra8p0\\localcache\\local-packages\\python39\\site-packages (from selenium) (0.9.2)\n",
      "Requirement already satisfied: trio~=0.17 in c:\\users\\thoma\\appdata\\local\\packages\\pythonsoftwarefoundation.python.3.9_qbz5n2kfra8p0\\localcache\\local-packages\\python39\\site-packages (from selenium) (0.22.0)\n",
      "Requirement already satisfied: cffi>=1.14 in c:\\users\\thoma\\appdata\\local\\packages\\pythonsoftwarefoundation.python.3.9_qbz5n2kfra8p0\\localcache\\local-packages\\python39\\site-packages (from trio~=0.17->selenium) (1.15.1)\n",
      "Requirement already satisfied: sortedcontainers in c:\\users\\thoma\\appdata\\local\\packages\\pythonsoftwarefoundation.python.3.9_qbz5n2kfra8p0\\localcache\\local-packages\\python39\\site-packages (from trio~=0.17->selenium) (2.4.0)\n",
      "Requirement already satisfied: idna in c:\\users\\thoma\\appdata\\local\\packages\\pythonsoftwarefoundation.python.3.9_qbz5n2kfra8p0\\localcache\\local-packages\\python39\\site-packages (from trio~=0.17->selenium) (3.4)\n",
      "Requirement already satisfied: outcome in c:\\users\\thoma\\appdata\\local\\packages\\pythonsoftwarefoundation.python.3.9_qbz5n2kfra8p0\\localcache\\local-packages\\python39\\site-packages (from trio~=0.17->selenium) (1.2.0)\n",
      "Requirement already satisfied: exceptiongroup>=1.0.0rc9 in c:\\users\\thoma\\appdata\\local\\packages\\pythonsoftwarefoundation.python.3.9_qbz5n2kfra8p0\\localcache\\local-packages\\python39\\site-packages (from trio~=0.17->selenium) (1.1.0)\n",
      "Requirement already satisfied: async-generator>=1.9 in c:\\users\\thoma\\appdata\\local\\packages\\pythonsoftwarefoundation.python.3.9_qbz5n2kfra8p0\\localcache\\local-packages\\python39\\site-packages (from trio~=0.17->selenium) (1.10)\n",
      "Requirement already satisfied: sniffio in c:\\users\\thoma\\appdata\\local\\packages\\pythonsoftwarefoundation.python.3.9_qbz5n2kfra8p0\\localcache\\local-packages\\python39\\site-packages (from trio~=0.17->selenium) (1.3.0)\n",
      "Requirement already satisfied: attrs>=19.2.0 in c:\\users\\thoma\\appdata\\local\\packages\\pythonsoftwarefoundation.python.3.9_qbz5n2kfra8p0\\localcache\\local-packages\\python39\\site-packages (from trio~=0.17->selenium) (22.1.0)\n",
      "Requirement already satisfied: wsproto>=0.14 in c:\\users\\thoma\\appdata\\local\\packages\\pythonsoftwarefoundation.python.3.9_qbz5n2kfra8p0\\localcache\\local-packages\\python39\\site-packages (from trio-websocket~=0.9->selenium) (1.2.0)\n",
      "Requirement already satisfied: PySocks!=1.5.7,<2.0,>=1.5.6 in c:\\users\\thoma\\appdata\\local\\packages\\pythonsoftwarefoundation.python.3.9_qbz5n2kfra8p0\\localcache\\local-packages\\python39\\site-packages (from urllib3[socks]~=1.26->selenium) (1.7.1)\n",
      "Requirement already satisfied: pycparser in c:\\users\\thoma\\appdata\\local\\packages\\pythonsoftwarefoundation.python.3.9_qbz5n2kfra8p0\\localcache\\local-packages\\python39\\site-packages (from cffi>=1.14->trio~=0.17->selenium) (2.21)\n",
      "Requirement already satisfied: h11<1,>=0.9.0 in c:\\users\\thoma\\appdata\\local\\packages\\pythonsoftwarefoundation.python.3.9_qbz5n2kfra8p0\\localcache\\local-packages\\python39\\site-packages (from wsproto>=0.14->trio-websocket~=0.9->selenium) (0.14.0)\n"
     ]
    },
    {
     "name": "stderr",
     "output_type": "stream",
     "text": [
      "WARNING: You are using pip version 22.0.4; however, version 23.0 is available.\n",
      "You should consider upgrading via the 'C:\\Users\\thoma\\AppData\\Local\\Microsoft\\WindowsApps\\PythonSoftwareFoundation.Python.3.9_qbz5n2kfra8p0\\python.exe -m pip install --upgrade pip' command.\n"
     ]
    },
    {
     "name": "stdout",
     "output_type": "stream",
     "text": [
      "Requirement already satisfied: webdriver-manager in c:\\users\\thoma\\appdata\\local\\packages\\pythonsoftwarefoundation.python.3.9_qbz5n2kfra8p0\\localcache\\local-packages\\python39\\site-packages (3.8.5)\n",
      "Requirement already satisfied: requests in c:\\users\\thoma\\appdata\\local\\packages\\pythonsoftwarefoundation.python.3.9_qbz5n2kfra8p0\\localcache\\local-packages\\python39\\site-packages (from webdriver-manager) (2.28.2)\n",
      "Requirement already satisfied: packaging in c:\\users\\thoma\\appdata\\local\\packages\\pythonsoftwarefoundation.python.3.9_qbz5n2kfra8p0\\localcache\\local-packages\\python39\\site-packages (from webdriver-manager) (21.3)\n",
      "Requirement already satisfied: python-dotenv in c:\\users\\thoma\\appdata\\local\\packages\\pythonsoftwarefoundation.python.3.9_qbz5n2kfra8p0\\localcache\\local-packages\\python39\\site-packages (from webdriver-manager) (0.21.1)\n",
      "Requirement already satisfied: tqdm in c:\\users\\thoma\\appdata\\local\\packages\\pythonsoftwarefoundation.python.3.9_qbz5n2kfra8p0\\localcache\\local-packages\\python39\\site-packages (from webdriver-manager) (4.64.1)\n",
      "Requirement already satisfied: pyparsing!=3.0.5,>=2.0.2 in c:\\users\\thoma\\appdata\\local\\packages\\pythonsoftwarefoundation.python.3.9_qbz5n2kfra8p0\\localcache\\local-packages\\python39\\site-packages (from packaging->webdriver-manager) (3.0.8)\n",
      "Requirement already satisfied: charset-normalizer<4,>=2 in c:\\users\\thoma\\appdata\\local\\packages\\pythonsoftwarefoundation.python.3.9_qbz5n2kfra8p0\\localcache\\local-packages\\python39\\site-packages (from requests->webdriver-manager) (3.0.1)\n",
      "Requirement already satisfied: certifi>=2017.4.17 in c:\\users\\thoma\\appdata\\local\\packages\\pythonsoftwarefoundation.python.3.9_qbz5n2kfra8p0\\localcache\\local-packages\\python39\\site-packages (from requests->webdriver-manager) (2022.12.7)\n",
      "Requirement already satisfied: idna<4,>=2.5 in c:\\users\\thoma\\appdata\\local\\packages\\pythonsoftwarefoundation.python.3.9_qbz5n2kfra8p0\\localcache\\local-packages\\python39\\site-packages (from requests->webdriver-manager) (3.4)\n",
      "Requirement already satisfied: urllib3<1.27,>=1.21.1 in c:\\users\\thoma\\appdata\\local\\packages\\pythonsoftwarefoundation.python.3.9_qbz5n2kfra8p0\\localcache\\local-packages\\python39\\site-packages (from requests->webdriver-manager) (1.26.14)\n",
      "Requirement already satisfied: colorama in c:\\users\\thoma\\appdata\\local\\packages\\pythonsoftwarefoundation.python.3.9_qbz5n2kfra8p0\\localcache\\local-packages\\python39\\site-packages (from tqdm->webdriver-manager) (0.4.5)\n"
     ]
    },
    {
     "name": "stderr",
     "output_type": "stream",
     "text": [
      "WARNING: You are using pip version 22.0.4; however, version 23.0 is available.\n",
      "You should consider upgrading via the 'C:\\Users\\thoma\\AppData\\Local\\Microsoft\\WindowsApps\\PythonSoftwareFoundation.Python.3.9_qbz5n2kfra8p0\\python.exe -m pip install --upgrade pip' command.\n"
     ]
    },
    {
     "name": "stdout",
     "output_type": "stream",
     "text": [
      "Requirement already satisfied: bs4 in c:\\users\\thoma\\appdata\\local\\packages\\pythonsoftwarefoundation.python.3.9_qbz5n2kfra8p0\\localcache\\local-packages\\python39\\site-packages (0.0.1)\n",
      "Requirement already satisfied: beautifulsoup4 in c:\\users\\thoma\\appdata\\local\\packages\\pythonsoftwarefoundation.python.3.9_qbz5n2kfra8p0\\localcache\\local-packages\\python39\\site-packages (from bs4) (4.11.2)\n",
      "Requirement already satisfied: soupsieve>1.2 in c:\\users\\thoma\\appdata\\local\\packages\\pythonsoftwarefoundation.python.3.9_qbz5n2kfra8p0\\localcache\\local-packages\\python39\\site-packages (from beautifulsoup4->bs4) (2.3.2.post1)\n"
     ]
    },
    {
     "name": "stderr",
     "output_type": "stream",
     "text": [
      "WARNING: You are using pip version 22.0.4; however, version 23.0 is available.\n",
      "You should consider upgrading via the 'C:\\Users\\thoma\\AppData\\Local\\Microsoft\\WindowsApps\\PythonSoftwareFoundation.Python.3.9_qbz5n2kfra8p0\\python.exe -m pip install --upgrade pip' command.\n"
     ]
    }
   ],
   "source": [
    "!pip install selenium\n",
    "!pip install webdriver-manager\n",
    "!pip install bs4"
   ]
  },
  {
   "cell_type": "code",
   "execution_count": 147,
   "metadata": {},
   "outputs": [],
   "source": [
    "from selenium import webdriver\n",
    "from selenium.webdriver.common.keys import Keys\n",
    "from webdriver_manager.chrome import ChromeDriverManager\n",
    "from selenium.webdriver.chrome.service import Service\n",
    "from bs4 import BeautifulSoup\n",
    "from selenium.webdriver.support.ui import WebDriverWait\n",
    "from selenium.webdriver.support import expected_conditions as EC\n",
    "from selenium.webdriver.common.by import By\n",
    "import time \n",
    "import pandas as pd"
   ]
  },
  {
   "cell_type": "code",
   "execution_count": 148,
   "metadata": {},
   "outputs": [
    {
     "name": "stderr",
     "output_type": "stream",
     "text": [
      "C:\\Users\\thoma\\AppData\\Local\\Temp\\ipykernel_2900\\1042360766.py:9: DeprecationWarning: executable_path has been deprecated, please pass in a Service object\n",
      "  driver = webdriver.Chrome(ChromeDriverManager().install(),options=options )\n"
     ]
    },
    {
     "name": "stdout",
     "output_type": "stream",
     "text": [
      "                            Title                  Artist Rank Last Week  \\\n",
      "0                         Flowers             Miley Cyrus    1         1   \n",
      "1    Bzrp Music Sessions, Vol. 53      Bizarrap & Shakira    2         2   \n",
      "2                       Kill Bill                     SZA    3         3   \n",
      "3                       Calm Down     Rema & Selena Gomez    4         4   \n",
      "4                          Unholy  Sam Smith & Kim Petras    5         6   \n",
      "..                            ...                     ...  ...       ...   \n",
      "195                 Wasted On You           Morgan Wallen  196         -   \n",
      "196                        Gatita               Bellakath  197       147   \n",
      "197                   Wake Me Up!                  Avicii  198       200   \n",
      "198  Only Love Can Hurt Like This            Paloma Faith  199         -   \n",
      "199                 The Loneliest                Maneskin  200         -   \n",
      "\n",
      "    Peak Positon Weeks on charts  \n",
      "0              1               2  \n",
      "1              2               3  \n",
      "2              1               7  \n",
      "3              3              30  \n",
      "4              1              18  \n",
      "..           ...             ...  \n",
      "195           19              49  \n",
      "196          113               6  \n",
      "197          154              34  \n",
      "198           75              26  \n",
      "199           75               5  \n",
      "\n",
      "[200 rows x 6 columns]\n",
      "temps d'execution : 82.95677757263184 s\n"
     ]
    }
   ],
   "source": [
    "start = time.time()\n",
    "# Initialize the webdriver\n",
    "# de manière basique\n",
    "# driver = webdriver.Chrome()\n",
    "\n",
    "# avec ChromeDriverManager mieux car update du driver automatiquement\n",
    "options = webdriver.ChromeOptions()\n",
    "options.add_argument('--headless')\n",
    "driver = webdriver.Chrome(ChromeDriverManager().install(),options=options )\n",
    "\n",
    "# si on a télécharger le driver directement dans le dossier \n",
    "# service = Service(executable_path=\"./chromedriver.exe\")\n",
    "# driver = webdriver.Chrome(service=service)\n",
    "\n",
    "# Navigate to the website\n",
    "#driver.get(\"https://www.billboard.com/charts/hot-100/\")\n",
    "driver.get(\"https://www.billboard.com/charts/billboard-global-200/\")\n",
    "#driver.get(\"https://www.billboard.com/charts/billboard-200/\")\n",
    "\n",
    "# Wait for the page to load\n",
    "# driver.implicitly_wait(10)\n",
    "time.sleep(10)\n",
    "\n",
    "# reject all cookies\n",
    "driver.find_element(By.XPATH,\"/html/body/div[6]/div[2]/div/div/div[2]/div/div/button[1]\").click()\n",
    "\n",
    "iterateur100 = list(range(1,110,11))\n",
    "iterateur100.remove(1)\n",
    "iterateur200 = list(range(1,220,11))\n",
    "iterateur200.remove(1)\n",
    "\n",
    "# nb_max 111 ou 221\n",
    "def scraper(list,xpath,iterateur,nb_max):\n",
    "    for i in range(2,nb_max):\n",
    "        if i not in iterateur : \n",
    "            WebElement = driver.find_element(By.XPATH,xpath%(i))\n",
    "            list.append(WebElement.text)\n",
    "\n",
    "    return list\n",
    "\n",
    "XpathTitle = \"/html/body/div[4]/main/div[2]/div[3]/div/div/div/div[2]/div[%d]/ul/li[4]/ul/li[1]/h3\"\n",
    "XpathArtist = \"/html/body/div[4]/main/div[2]/div[3]/div/div/div/div[2]/div[%d]/ul/li[4]/ul/li[1]/span\"\n",
    "XpathRank = \"/html/body/div[4]/main/div[2]/div[3]/div/div/div/div[2]/div[%d]/ul/li[1]/span \"\n",
    "XpathLastWeek = \"/html/body/div[4]/main/div[2]/div[3]/div/div/div/div[2]/div[%d]/ul/li[4]/ul/li[4]/span\"\n",
    "XpathPeakPosition = \"/html/body/div[4]/main/div[2]/div[3]/div/div/div/div[2]/div[%d]/ul/li[4]/ul/li[5]/span\"\n",
    "XpathWeeksOnChart = \"/html/body/div[4]/main/div[2]/div[3]/div/div/div/div[2]/div[%d]/ul/li[4]/ul/li[6]/span\"\n",
    "\n",
    "allXpath = [XpathTitle,XpathArtist,XpathRank,XpathLastWeek,XpathPeakPosition,XpathWeeksOnChart]\n",
    "\n",
    "title,artist,rank,last_week,peak_pos,weeks_on_chart = [],[],[],[],[],[]\n",
    "\n",
    "allList = [title,artist,rank,last_week,peak_pos,weeks_on_chart]\n",
    "\n",
    "i = [scraper(i,j,iterateur200,221) for i, j in zip(allList, allXpath)]\n",
    "\n",
    "# for i, j in zip(allList, allXpath):\n",
    "#     i = scraper(i,j,iterateur200,221)\n",
    "\n",
    "df = pd.DataFrame(list(zip(title,artist,rank,last_week,peak_pos,weeks_on_chart)),columns=['Title','Artist','Rank','Last Week','Peak Positon','Weeks on charts'])\n",
    "print(df)\n",
    "\n",
    "# Close the webdriver\n",
    "driver.close()\n",
    "\n",
    "end = time.time()\n",
    "temps = end - start\n",
    "print(\"temps d'execution :\",temps,\"s\")"
   ]
  },
  {
   "cell_type": "code",
   "execution_count": 149,
   "metadata": {},
   "outputs": [
    {
     "name": "stdout",
     "output_type": "stream",
     "text": [
      "[('Miley Cyrus', 'Flowers'), ('Bizarrap & Shakira', 'Bzrp Music Sessions, Vol. 53'), ('SZA', 'Kill Bill'), ('Rema & Selena Gomez', 'Calm Down'), ('Sam Smith & Kim Petras', 'Unholy'), ('Metro Boomin, The Weeknd & 21 Savage', \"Creepin'\"), ('RAYE Featuring 070 Shake', 'Escapism'), ('David Guetta & Bebe Rexha', \"I'm Good (Blue)\"), ('Taylor Swift', 'Anti-Hero'), ('Harry Styles', 'As It Was'), ('NewJeans', 'Ditto'), ('NewJeans', 'OMG'), ('JVKE', 'Golden Hour'), ('Manuel Turizo', 'La Bachata'), ('Miguel', 'Sure Thing'), ('Arcangel & Bad Bunny', 'La Jumpa'), ('Stephen Sanchez', 'Until I Found You'), ('OneRepublic', \"I Ain't Worried\"), ('Tom Odell', 'Another Love'), ('Meghan Trainor', 'Made You Look'), ('Fuerza Regida X Grupo Frontera', 'Bebe Dame'), ('TWICE', 'Moonlight Sunrise'), ('Drake & 21 Savage', 'Rich Flex'), ('Bizarrap & Quevedo', 'Bzrp Music Sessions, Vol. 52'), ('Yandel & Feid', 'Yandel 150'), ('Oliver Tree & Robin Schulz', 'Miss You'), ('Metro Boomin, Future & Chris Brown', 'Superhero (Heroes & Villains)'), ('The Weeknd & Ariana Grande', 'Save Your Tears'), ('The Weeknd', 'Die For You'), ('Ozuna Featuring Feid', 'Hey Mor'), ('Chris Brown', 'Under The Influence'), ('SZA', 'Snooze'), ('Lady Gaga', 'Bloody Mary'), ('Central Cee', 'Let Go'), ('d4vd', 'Here With Me'), ('Sabrina Carpenter', 'Nonsense'), ('Zach Bryan', 'Something In The Orange'), ('Carin Leon X Grupo Frontera', 'Que Vuelvas'), ('Tiesto Featuring Tate McRae', '10:35'), ('Bad Bunny', 'Titi Me Pregunto'), ('Bad Bunny & Chencho Corleone', 'Me Porto Bonito'), ('Beyonce', 'Cuff It'), ('Steve Lacy', 'Bad Habit'), ('Lil Uzi Vert', 'Just Wanna Rock'), ('Glass Animals', 'Heat Waves'), ('Rosalia', 'Despecha'), ('Rosa Linn', 'Snap'), ('Eminem', 'Mockingbird'), ('The Weeknd', 'Blinding Lights'), ('Gabito Ballesteros, Peso Pluma & Natanael Cano', 'AMG'), ('Elton John & Dua Lipa', 'Cold Heart (PNAU Remix)'), ('Imagine Dragons', 'Bones'), ('SZA', 'Nobody Gets Me'), ('The Neighbourhood', 'Sweater Weather'), ('Shakira + Ozuna', 'Monotonia'), ('The Weeknd Featuring Daft Punk', 'Starboy'), ('SZA', 'Low'), ('Nengo Flow & Bad Bunny', 'Gato de Noche'), ('Rihanna', 'Lift Me Up'), ('The Kid LAROI & Justin Bieber', 'Stay'), ('Marilia Mendonca', 'Leao'), ('Dua Lipa', 'Levitating'), ('Ed Sheeran', 'Perfect'), ('NewJeans', 'Hype Boy'), ('Ed Sheeran', 'Shivers'), ('Quevedo', 'Punto G'), ('Kenshi Yonezu', 'Kick Back'), ('Feid', 'Feliz Cumpleanos Ferxxo'), ('Libianca', 'People'), ('Coi Leray', 'Players'), ('TAEYANG Featuring Jimin', 'Vibe'), ('Grupo Frontera', 'No Se Va'), ('Bad Bunny & Bomba Estereo', 'Ojitos Lindos'), ('d4vd', 'Romantic Homicide'), ('LE SSERAFIM', 'Antifragile'), ('SZA', 'Shirt'), ('Bruno Mars', 'When I Was Your Man'), ('Arctic Monkeys', 'I Wanna Be Yours'), ('Junior H X Oscar Maydon', 'Fin de Semana'), ('Ed Sheeran', 'Bad Habits'), ('Cris Mj Featuring Standly', 'Marisola'), ('Taylor Swift', 'Lavender Haze'), ('Bad Bunny', 'Efecto'), ('Sia', 'Unstoppable'), ('Hotel Ugly', 'Shut Up My Moms Calling'), ('Lewis Capaldi', 'Someone You Loved'), ('Tory Lanez', 'The Color Violet'), ('Adele', 'Easy On Me'), ('Feid', 'Chorrito Pa Las Animas'), ('Pinkfong', 'Baby Shark'), ('Bailey Zimmerman', 'Rock And A Hard Place'), ('Lil Nas X', \"Star Walkin' (League Of Legends Worlds Anthem)\"), ('Ed Sheeran', 'Shape Of You'), ('Drake Featuring 21 Savage', 'Jimmy Cooks'), ('Yuridia & Angela Aguilar', 'Que Agonia'), ('Dean Lewis', 'How Do I Say Goodbye'), ('Joji', 'Glimpse Of Us'), ('Imagine Dragons', 'Believer'), ('Karol G', 'Provenza'), ('Karol G & Ovy On The Drums', 'Cairo'), ('Future Featuring Drake & Tems', 'Wait For U'), ('INTERWORLD', 'Metamorphosis'), ('Lizzo', 'About Damn Time'), ('Shakira & Rauw Alejandro', 'Te Felicito'), ('Nicky Youre & dazy', 'Sunroof'), ('Imagine Dragons X JID', 'Enemy'), ('Bad Bunny', 'Moscow Mule'), ('Trippie Redd & Juice WRLD', 'Knight Crawler'), ('Eminem', 'Without Me'), ('Lady Gaga & Bradley Cooper', 'Shallow'), ('Quavo & Takeoff', 'Hotel Lobby (Unc And Phew)'), ('Coldplay', 'Viva La Vida'), ('Official HIGE DANdism', 'Subtitle'), ('Rauw Alejandro, Lyanno & Brray', 'Lokera'), ('Billie Eilish & Khalid', 'Lovely'), ('Miley Cyrus', 'Party In The U.S.A.'), ('Ruth B.', 'Dandelions'), ('HARDY Featuring Lainey Wilson', 'Wait In The Truck'), ('Post Malone Featuring Doja Cat', 'I Like You (A Happier Song)'), ('Vance Joy', 'Riptide'), ('ThxSoMch', 'Spit In My Face!'), ('Bad Bunny', 'Neverita'), ('Coldplay', 'Yellow'), ('Post Malone & Swae Lee', 'Sunflower (Spider-Man: Into The Spider-Verse)'), ('BLACKPINK', 'Shut Down'), ('Harry Styles', 'Late Night Talking'), ('Shakira Featuring Freshlyground', 'Waka Waka (This Time For Africa)'), ('Quevedo & Mike Towers', 'Playa del Ingles'), ('Coolio Featuring L.V.', \"Gangsta's Paradise\"), ('J. Cole', 'No Role Modelz'), ('Luke Combs', 'The Kind Of Love We Make'), ('Hozier', 'Take Me To Church'), ('Justine Skye Featuring Tyga', 'Collide'), ('Morgan Wallen', 'You Proof'), ('Lana Del Rey vs. Cedric Gervais', 'Summertime Sadness'), ('Quevedo', 'Vista Al Mar'), ('SZA', 'Blind'), ('Farruko', 'Pepas'), ('Billie Eilish', 'Happier Than Ever'), ('OneRepublic', 'Counting Stars'), ('BLACKPINK', 'Pink Venom'), ('Kane Brown With Katelyn Brown', 'Thank God'), ('Tears For Fears', 'Everybody Wants To Rule The World'), ('Metro Boomin Featuring Don Toliver & Future', 'Too Many Nights'), ('The Weeknd', 'The Hills'), ('Udo Lindenberg & Apache 207', 'Komet'), ('Arctic Monkeys', 'Do I Wanna Know?'), ('Fujii Kaze', 'Shinunoga E-Wa'), ('Nicki Minaj', 'Super Freaky Girl'), ('Arctic Monkeys', '505'), ('GAYLE', 'abcdefu'), ('NewJeans', 'Attention'), ('Israel & Rodolffo & Ana Castela', 'Bombonzinho'), ('Tones And I', 'Dance Monkey'), ('The Weeknd', 'Call Out My Name'), ('King', 'Maan Meri Jaan'), ('James Hype & Miggy Dela Rosa', 'Ferrari'), (\"Guns N' Roses\", \"Sweet Child O' Mine\"), ('Harry Styles', 'Watermelon Sugar'), ('Rauw Alejandro & Baby Rasta', 'Punto 40'), ('Aerosmith', 'Dream On'), ('Taylor Swift', 'Blank Space'), ('Eminem', 'The Real Slim Shady'), ('Lil Nas X & Jack Harlow', 'Industry Baby'), ('Kate Bush', 'Running Up That Hill (A Deal With God)'), ('Luke Combs', 'Going, Going, Gone'), ('Billie Eilish', 'TV'), ('Sam Smith', \"I'm Not The Only One\"), ('SZA', 'Good Days'), ('Nirvana', 'Smells Like Teen Spirit'), ('The Weeknd Featuring Gesaffelstein', 'I Was Never There'), ('Elton John & Britney Spears', 'Hold Me Closer'), ('Eminem', 'Lose Yourself'), ('Macklemore & Ryan Lewis Featuring Ray Dalton', \"Can't Hold Us\"), ('50 Cent', 'In Da Club'), ('Justin Bieber', 'Ghost'), ('Taylor Swift', 'Midnight Rain'), ('Miley Cyrus', 'Wrecking Ball'), ('Post Malone', 'Circles'), ('Adele', 'Set Fire To The Rain'), ('Lewis Capaldi', 'Forget Me'), ('Kordhell', 'Murder In My Mind'), ('Eagles', 'Hotel California'), ('Mac DeMarco', 'Heart To Heart'), ('Wisin & Yandel + Rosalia', 'Besos Moja2'), ('The Chainsmokers & Coldplay', 'Something Just Like This'), ('Miley Cyrus', 'Midnight Sky'), ('Ayra Starr', 'Rush'), ('Dua Lipa', \"Don't Start Now\"), ('Lainey Wilson', 'Heart Like A Truck'), ('Linkin Park', 'In The End'), ('Queen', 'Bohemian Rhapsody'), ('Bruno Mars', 'Locked Out Of Heaven'), ('Feid', 'Normal'), ('a-ha', 'Take On Me'), ('Morgan Wallen', 'Wasted On You'), ('Bellakath', 'Gatita'), ('Avicii', 'Wake Me Up!'), ('Paloma Faith', 'Only Love Can Hurt Like This'), ('Maneskin', 'The Loneliest')]\n"
     ]
    }
   ],
   "source": [
    "song_artists=list(zip( df['Artist'], df['Title'],))\n",
    "print(song_artists)"
   ]
  },
  {
   "cell_type": "code",
   "execution_count": 151,
   "metadata": {},
   "outputs": [
    {
     "name": "stderr",
     "output_type": "stream",
     "text": [
      "C:\\Users\\thoma\\AppData\\Local\\Temp\\ipykernel_2900\\1223571975.py:14: DeprecationWarning: executable_path has been deprecated, please pass in a Service object\n",
      "  driver = webdriver.Chrome(ChromeDriverManager().install(),options=options )\n"
     ]
    },
    {
     "ename": "NoSuchElementException",
     "evalue": "Message: no such element: Unable to locate element: {\"method\":\"xpath\",\"selector\":\"/html/body/div[2]/div[3]/div[1]/div/div[2]/div/button[1]\"}\n  (Session info: headless chrome=109.0.5414.120)\nStacktrace:\nBacktrace:\n\t(No symbol) [0x00776643]\n\t(No symbol) [0x0070BE21]\n\t(No symbol) [0x0060DA9D]\n\t(No symbol) [0x00641342]\n\t(No symbol) [0x0064147B]\n\t(No symbol) [0x00678DC2]\n\t(No symbol) [0x0065FDC4]\n\t(No symbol) [0x00676B09]\n\t(No symbol) [0x0065FB76]\n\t(No symbol) [0x006349C1]\n\t(No symbol) [0x00635E5D]\n\tGetHandleVerifier [0x009EA142+2497106]\n\tGetHandleVerifier [0x00A185D3+2686691]\n\tGetHandleVerifier [0x00A1BB9C+2700460]\n\tGetHandleVerifier [0x00823B10+635936]\n\t(No symbol) [0x00714A1F]\n\t(No symbol) [0x0071A418]\n\t(No symbol) [0x0071A505]\n\t(No symbol) [0x0072508B]\n\tBaseThreadInitThunk [0x770A7D69+25]\n\tRtlInitializeExceptionChain [0x776EBB9B+107]\n\tRtlClearBits [0x776EBB1F+191]\n",
     "output_type": "error",
     "traceback": [
      "\u001b[1;31m---------------------------------------------------------------------------\u001b[0m",
      "\u001b[1;31mNoSuchElementException\u001b[0m                    Traceback (most recent call last)",
      "\u001b[1;32mc:\\Users\\thoma\\OneDrive\\Documenti\\ESIEEParis\\Couretexopython\\Python\\exercices\\tdpython\\Billboard-Genius\\test_navigation.ipynb Cellule 5\u001b[0m in \u001b[0;36m<cell line: 17>\u001b[1;34m()\u001b[0m\n\u001b[0;32m     <a href='vscode-notebook-cell:/c%3A/Users/thoma/OneDrive/Documenti/ESIEEParis/Couretexopython/Python/exercices/tdpython/Billboard-Genius/test_navigation.ipynb#W4sZmlsZQ%3D%3D?line=16'>17</a>\u001b[0m \u001b[39mfor\u001b[39;00m song \u001b[39min\u001b[39;00m song_artists[:\u001b[39m3\u001b[39m]:\n\u001b[0;32m     <a href='vscode-notebook-cell:/c%3A/Users/thoma/OneDrive/Documenti/ESIEEParis/Couretexopython/Python/exercices/tdpython/Billboard-Genius/test_navigation.ipynb#W4sZmlsZQ%3D%3D?line=18'>19</a>\u001b[0m     driver\u001b[39m.\u001b[39mget(\u001b[39m\"\u001b[39m\u001b[39mhttps://genius.com/\u001b[39m\u001b[39m\"\u001b[39m)\n\u001b[1;32m---> <a href='vscode-notebook-cell:/c%3A/Users/thoma/OneDrive/Documenti/ESIEEParis/Couretexopython/Python/exercices/tdpython/Billboard-Genius/test_navigation.ipynb#W4sZmlsZQ%3D%3D?line=21'>22</a>\u001b[0m     driver\u001b[39m.\u001b[39;49mfind_element(By\u001b[39m.\u001b[39;49mXPATH,\u001b[39m\"\u001b[39;49m\u001b[39m/html/body/div[2]/div[3]/div[1]/div/div[2]/div/button[1]\u001b[39;49m\u001b[39m\"\u001b[39;49m)\u001b[39m.\u001b[39mclick()\n\u001b[0;32m     <a href='vscode-notebook-cell:/c%3A/Users/thoma/OneDrive/Documenti/ESIEEParis/Couretexopython/Python/exercices/tdpython/Billboard-Genius/test_navigation.ipynb#W4sZmlsZQ%3D%3D?line=23'>24</a>\u001b[0m     element \u001b[39m=\u001b[39m driver\u001b[39m.\u001b[39mfind_element(By\u001b[39m.\u001b[39mXPATH,\u001b[39m\"\u001b[39m\u001b[39m/html/body/div[1]/div/div[1]/div[1]/form/input\u001b[39m\u001b[39m\"\u001b[39m)\n\u001b[0;32m     <a href='vscode-notebook-cell:/c%3A/Users/thoma/OneDrive/Documenti/ESIEEParis/Couretexopython/Python/exercices/tdpython/Billboard-Genius/test_navigation.ipynb#W4sZmlsZQ%3D%3D?line=25'>26</a>\u001b[0m     element\u001b[39m.\u001b[39msend_keys(song[\u001b[39m1\u001b[39m], Keys\u001b[39m.\u001b[39mARROW_DOWN)\n",
      "File \u001b[1;32m~\\AppData\\Local\\Packages\\PythonSoftwareFoundation.Python.3.9_qbz5n2kfra8p0\\LocalCache\\local-packages\\Python39\\site-packages\\selenium\\webdriver\\remote\\webdriver.py:830\u001b[0m, in \u001b[0;36mWebDriver.find_element\u001b[1;34m(self, by, value)\u001b[0m\n\u001b[0;32m    827\u001b[0m     by \u001b[39m=\u001b[39m By\u001b[39m.\u001b[39mCSS_SELECTOR\n\u001b[0;32m    828\u001b[0m     value \u001b[39m=\u001b[39m \u001b[39mf\u001b[39m\u001b[39m'\u001b[39m\u001b[39m[name=\u001b[39m\u001b[39m\"\u001b[39m\u001b[39m{\u001b[39;00mvalue\u001b[39m}\u001b[39;00m\u001b[39m\"\u001b[39m\u001b[39m]\u001b[39m\u001b[39m'\u001b[39m\n\u001b[1;32m--> 830\u001b[0m \u001b[39mreturn\u001b[39;00m \u001b[39mself\u001b[39;49m\u001b[39m.\u001b[39;49mexecute(Command\u001b[39m.\u001b[39;49mFIND_ELEMENT, {\u001b[39m\"\u001b[39;49m\u001b[39musing\u001b[39;49m\u001b[39m\"\u001b[39;49m: by, \u001b[39m\"\u001b[39;49m\u001b[39mvalue\u001b[39;49m\u001b[39m\"\u001b[39;49m: value})[\u001b[39m\"\u001b[39m\u001b[39mvalue\u001b[39m\u001b[39m\"\u001b[39m]\n",
      "File \u001b[1;32m~\\AppData\\Local\\Packages\\PythonSoftwareFoundation.Python.3.9_qbz5n2kfra8p0\\LocalCache\\local-packages\\Python39\\site-packages\\selenium\\webdriver\\remote\\webdriver.py:440\u001b[0m, in \u001b[0;36mWebDriver.execute\u001b[1;34m(self, driver_command, params)\u001b[0m\n\u001b[0;32m    438\u001b[0m response \u001b[39m=\u001b[39m \u001b[39mself\u001b[39m\u001b[39m.\u001b[39mcommand_executor\u001b[39m.\u001b[39mexecute(driver_command, params)\n\u001b[0;32m    439\u001b[0m \u001b[39mif\u001b[39;00m response:\n\u001b[1;32m--> 440\u001b[0m     \u001b[39mself\u001b[39;49m\u001b[39m.\u001b[39;49merror_handler\u001b[39m.\u001b[39;49mcheck_response(response)\n\u001b[0;32m    441\u001b[0m     response[\u001b[39m\"\u001b[39m\u001b[39mvalue\u001b[39m\u001b[39m\"\u001b[39m] \u001b[39m=\u001b[39m \u001b[39mself\u001b[39m\u001b[39m.\u001b[39m_unwrap_value(response\u001b[39m.\u001b[39mget(\u001b[39m\"\u001b[39m\u001b[39mvalue\u001b[39m\u001b[39m\"\u001b[39m, \u001b[39mNone\u001b[39;00m))\n\u001b[0;32m    442\u001b[0m     \u001b[39mreturn\u001b[39;00m response\n",
      "File \u001b[1;32m~\\AppData\\Local\\Packages\\PythonSoftwareFoundation.Python.3.9_qbz5n2kfra8p0\\LocalCache\\local-packages\\Python39\\site-packages\\selenium\\webdriver\\remote\\errorhandler.py:245\u001b[0m, in \u001b[0;36mErrorHandler.check_response\u001b[1;34m(self, response)\u001b[0m\n\u001b[0;32m    243\u001b[0m         alert_text \u001b[39m=\u001b[39m value[\u001b[39m\"\u001b[39m\u001b[39malert\u001b[39m\u001b[39m\"\u001b[39m]\u001b[39m.\u001b[39mget(\u001b[39m\"\u001b[39m\u001b[39mtext\u001b[39m\u001b[39m\"\u001b[39m)\n\u001b[0;32m    244\u001b[0m     \u001b[39mraise\u001b[39;00m exception_class(message, screen, stacktrace, alert_text)  \u001b[39m# type: ignore[call-arg]  # mypy is not smart enough here\u001b[39;00m\n\u001b[1;32m--> 245\u001b[0m \u001b[39mraise\u001b[39;00m exception_class(message, screen, stacktrace)\n",
      "\u001b[1;31mNoSuchElementException\u001b[0m: Message: no such element: Unable to locate element: {\"method\":\"xpath\",\"selector\":\"/html/body/div[2]/div[3]/div[1]/div/div[2]/div/button[1]\"}\n  (Session info: headless chrome=109.0.5414.120)\nStacktrace:\nBacktrace:\n\t(No symbol) [0x00776643]\n\t(No symbol) [0x0070BE21]\n\t(No symbol) [0x0060DA9D]\n\t(No symbol) [0x00641342]\n\t(No symbol) [0x0064147B]\n\t(No symbol) [0x00678DC2]\n\t(No symbol) [0x0065FDC4]\n\t(No symbol) [0x00676B09]\n\t(No symbol) [0x0065FB76]\n\t(No symbol) [0x006349C1]\n\t(No symbol) [0x00635E5D]\n\tGetHandleVerifier [0x009EA142+2497106]\n\tGetHandleVerifier [0x00A185D3+2686691]\n\tGetHandleVerifier [0x00A1BB9C+2700460]\n\tGetHandleVerifier [0x00823B10+635936]\n\t(No symbol) [0x00714A1F]\n\t(No symbol) [0x0071A418]\n\t(No symbol) [0x0071A505]\n\t(No symbol) [0x0072508B]\n\tBaseThreadInitThunk [0x770A7D69+25]\n\tRtlInitializeExceptionChain [0x776EBB9B+107]\n\tRtlClearBits [0x776EBB1F+191]\n"
     ]
    }
   ],
   "source": [
    "\n",
    "# Initialize the webdriver\n",
    "# de manière basique\n",
    "# driver = webdriver.Chrome()\n",
    "\n",
    "# avec ChromeDriverManager mieux car update du driver automatiquement\n",
    "# driver = webdriver.Chrome(ChromeDriverManager().install())\n",
    "# driver.get('https://genius.com/{}'.format(str(\"Sza-sos-lyrics\")))\n",
    "# driver.find_element(By.XPATH,\"/html/body/div[7]/div[3]/div[1]/div/div[2]/div/button[1]\").click()\n",
    "# date = driver.find_element(By.XPATH,\"/html/body/div[1]/main/div[1]/div[4]/div/div[1]/div[2]/div\").text\n",
    "# print(date)\n",
    "\n",
    "options = webdriver.ChromeOptions()\n",
    "options.add_argument('--headless')\n",
    "driver = webdriver.Chrome(ChromeDriverManager().install(),options=options )\n",
    "\n",
    "for song in song_artists:\n",
    "\n",
    "    # ouvrir le site et accepter les cookies\n",
    "    driver.get(\"https://genius.com/\")\n",
    "    driver.find_element(By.XPATH,\"/html/body/div[2]/div[3]/div[1]/div/div[2]/div/button[1]\").click()\n",
    "\n",
    "    # activer la recherche\n",
    "    element = driver.find_element(By.XPATH,\"/html/body/div[1]/div/div[1]/div[1]/form/input\")\n",
    "    element.send_keys(song[1], Keys.ARROW_DOWN)\n",
    "    element.submit()\n",
    "    driver.find_element(By.XPATH,\"/html/body/routable-page/ng-outlet/search-results-page/div/div[2]/div[1]/div[1]/search-result-section/div/div[2]/search-result-items/div/search-result-item/div/mini-song-card/a/div[2]\").click()\n",
    "    \n",
    "    \n",
    "    \n",
    "    #print(driver.find_element(By.XPATH, \"/html/body/div[1]/main/div[1]/div[4]/div/div[1]/div[2]/div\").text)\n",
    "\n",
    "time.sleep(100)\n"
   ]
  },
  {
   "cell_type": "code",
   "execution_count": null,
   "metadata": {},
   "outputs": [],
   "source": [
    "# driver.find_element(By.CLASS_NAME,\"HeaderMetadata__ReleaseDate-sc-1p42fnf-4 dEQuaq\")"
   ]
  },
  {
   "cell_type": "code",
   "execution_count": null,
   "metadata": {},
   "outputs": [],
   "source": [
    "# reject all cookies\n",
    "#driver.find_element(By.XPATH,\"/html/body/div[6]/div[2]/div/div/div[2]/div/div/button[1]\").click()"
   ]
  },
  {
   "cell_type": "code",
   "execution_count": null,
   "metadata": {},
   "outputs": [],
   "source": [
    "# for i in range(1,6): \n",
    "#     driver.implicitly_wait(2)\n",
    "#     calendar = driver.find_element(By.XPATH,\"/html/body/div[4]/main/div[2]/div[1]/div/div/div[2]/div[2]/div[2]\").click()\n",
    "#     week_i = driver.find_element(By.XPATH,\"/html/body/div[4]/main/div[2]/div[1]/div/div/div[2]/div[2]/div[2]/div/div/div/div[2]/table/tbody/tr[%d]/td[1]/span\"%(i)).click()\n",
    "#     date = driver.find_element(By.XPATH,\"/html/body/div[4]/main/div[2]/div[1]/div/div/div[2]/div[2]/div[2]/div/div/h2\").text"
   ]
  },
  {
   "cell_type": "code",
   "execution_count": null,
   "metadata": {},
   "outputs": [],
   "source": [
    "# calendar = driver.find_element(By.XPATH,\"/html/body/div[4]/main/div[2]/div[1]/div/div/div[2]/div[2]/div[2]\").click()\n",
    "# driver.find_element(By.XPATH,\"/html/body/div[4]/main/div[2]/div[1]/div/div/div[2]/div[2]/div[2]/div/div/div/div[2]/table/tbody/tr[1]/td[1]/span\").click()\n",
    "# date = driver.find_element(By.XPATH,\"/html/body/div[4]/main/div[2]/div[1]/div/div/div[2]/div[2]/div[2]/div/div/h2\").text\n",
    "# date"
   ]
  },
  {
   "cell_type": "code",
   "execution_count": null,
   "metadata": {},
   "outputs": [],
   "source": [
    "# calendar = driver.find_element(By.XPATH,\"/html/body/div[4]/main/div[2]/div[1]/div/div/div[2]/div[2]/div[2]\").click()\n",
    "# previous_month = driver.find_element(By.XPATH,\"/html/body/div[4]/main/div[2]/div[1]/div/div/div[2]/div[2]/div[2]/div/div/div/div[1]/div[2]/button[1]\").click()"
   ]
  },
  {
   "cell_type": "code",
   "execution_count": null,
   "metadata": {},
   "outputs": [],
   "source": [
    "# /html/body/div[4]/main/div[2]/div[1]/div/div/div[2]/div[2]/div[2]/div/div/div/div[2]/table/tbody/tr[4]/td[1] # s3\n",
    "# /html/body/div[4]/main/div[2]/div[1]/div/div/div[2]/div[2]/div[2]/div/div/div/div[2]/table/tbody/tr[3]/td[1] # s2\n",
    "# /html/body/div[4]/main/div[2]/div[1]/div/div/div[2]/div[2]/div[2]/div/div/div/div[2]/table/tbody/tr[2]/td[1] # xpath S1\n",
    "# /html/body/div[4]/main/div[2]/div[1]/div/div/div[2]/div[2]/div[2]/div/div/div/div[2]/table/tbody/tr[5]/td[1] # s4 actuellement \n",
    "# /html/body/div[4]/main/div[2]/div[1]/div/div/div[2]/div[2]/div[2]/div/div/div/div[2]/table/tbody/tr[1]/td[1]/span\n",
    "# /html/body/div[4]/main/div[2]/div[1]/div/div/div[2]/div[2]/div[2]/div/div/div/div[2]/table/tbody/tr[4]/td[1]/span\n",
    "# /html/body/div[4]/main/div[2]/div[1]/div/div/div[2]/div[2]/div[2]/div/div/div/div[2]/table/tbody/tr[%d]/td[1]"
   ]
  },
  {
   "cell_type": "code",
   "execution_count": null,
   "metadata": {},
   "outputs": [],
   "source": [
    "# /html/body/div[4]/main/div[2]/div[1]/div/div/div[2]/div[2]/div[2]/div/div/h2\n",
    "# /html/body/div[4]/main/div[2]/div[1]/div/div/div[2]/div[2]/div[2]/div/div/h2\n",
    "# /html/body/div[4]/main/div[2]/div[1]/div/div/div[2]/div[2]/div[2]/div/div/h2"
   ]
  }
 ],
 "metadata": {
  "kernelspec": {
   "display_name": "Python 3",
   "language": "python",
   "name": "python3"
  },
  "language_info": {
   "codemirror_mode": {
    "name": "ipython",
    "version": 3
   },
   "file_extension": ".py",
   "mimetype": "text/x-python",
   "name": "python",
   "nbconvert_exporter": "python",
   "pygments_lexer": "ipython3",
   "version": "3.9.13"
  },
  "orig_nbformat": 4,
  "vscode": {
   "interpreter": {
    "hash": "509621bd8abb40b46c08361ccf2f563f55d5d1490dc44b0b43bb6ec8108ed8e9"
   }
  }
 },
 "nbformat": 4,
 "nbformat_minor": 2
}
