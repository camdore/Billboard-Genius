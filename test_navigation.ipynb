{
 "cells": [
  {
   "cell_type": "code",
   "execution_count": 1,
   "metadata": {},
   "outputs": [],
   "source": [
    "# !pip install selenium\n",
    "# !pip install webdriver-manager\n",
    "# !pip install bs4"
   ]
  },
  {
   "cell_type": "code",
   "execution_count": 1,
   "metadata": {},
   "outputs": [],
   "source": [
    "from selenium import webdriver\n",
    "from selenium.webdriver.common.keys import Keys\n",
    "from webdriver_manager.chrome import ChromeDriverManager\n",
    "from selenium.webdriver.chrome.service import Service\n",
    "from bs4 import BeautifulSoup\n",
    "from selenium.webdriver.support.ui import WebDriverWait\n",
    "from selenium.webdriver.support import expected_conditions as EC\n",
    "from selenium.webdriver.common.by import By\n",
    "import time \n",
    "import pandas as pd"
   ]
  },
  {
   "cell_type": "code",
   "execution_count": 76,
   "metadata": {},
   "outputs": [
    {
     "name": "stderr",
     "output_type": "stream",
     "text": [
      "C:\\Users\\thoma\\AppData\\Local\\Temp\\ipykernel_21568\\3835546797.py:9: DeprecationWarning: executable_path has been deprecated, please pass in a Service object\n",
      "  driver = webdriver.Chrome(ChromeDriverManager().install())\n"
     ]
    },
    {
     "name": "stdout",
     "output_type": "stream",
     "text": [
      "                            Title                    Artist Rank Last Week  \\\n",
      "0                         Flowers               Miley Cyrus    1         1   \n",
      "1    Bzrp Music Sessions, Vol. 53        Bizarrap & Shakira    2         2   \n",
      "2                       Kill Bill                       SZA    3         3   \n",
      "3                          Unholy    Sam Smith & Kim Petras    4         5   \n",
      "4                       Calm Down       Rema & Selena Gomez    5         4   \n",
      "..                            ...                       ...  ...       ...   \n",
      "195    Growin' Up And Gettin' Old                Luke Combs  196         -   \n",
      "196                   Besos Moja2  Wisin & Yandel + Rosalia  197       185   \n",
      "197             Murder In My Mind                  Kordhell  198       182   \n",
      "198                  Vista Al Mar                   Quevedo  199       136   \n",
      "199             Super Freaky Girl               Nicki Minaj  200       149   \n",
      "\n",
      "    Peak Positon Weeks on charts  \n",
      "0              1               3  \n",
      "1              2               4  \n",
      "2              1               8  \n",
      "3              1              19  \n",
      "4              3              31  \n",
      "..           ...             ...  \n",
      "195          196               1  \n",
      "196          102              16  \n",
      "197          113              21  \n",
      "198          114              16  \n",
      "199            5              25  \n",
      "\n",
      "[200 rows x 6 columns]\n",
      "temps d'execution : 73.57456374168396 s\n"
     ]
    }
   ],
   "source": [
    "start = time.time()\n",
    "# Initialize the webdriver\n",
    "# de manière basique\n",
    "# driver = webdriver.Chrome()\n",
    "\n",
    "# avec ChromeDriverManager mieux car update du driver automatiquement\n",
    "# options = webdriver.ChromeOptions()\n",
    "# options.add_argument('--headless')\n",
    "driver = webdriver.Chrome(ChromeDriverManager().install())\n",
    "\n",
    "# si on a télécharger le driver directement dans le dossier \n",
    "# service = Service(executable_path=\"./chromedriver.exe\")\n",
    "# driver = webdriver.Chrome(service=service)\n",
    "\n",
    "# Navigate to the website\n",
    "#driver.get(\"https://www.billboard.com/charts/hot-100/\")\n",
    "driver.get(\"https://www.billboard.com/charts/billboard-global-200/\")\n",
    "#driver.get(\"https://www.billboard.com/charts/billboard-200/\")\n",
    "\n",
    "# Wait for the page to load\n",
    "# driver.implicitly_wait(10)\n",
    "time.sleep(10)\n",
    "\n",
    "# reject all cookies\n",
    "driver.find_element(By.XPATH,\"/html/body/div[6]/div[2]/div/div/div[2]/div/div/button[1]\").click()\n",
    "\n",
    "iterateur100 = list(range(1,110,11))\n",
    "iterateur100.remove(1)\n",
    "iterateur200 = list(range(1,220,11))\n",
    "iterateur200.remove(1)\n",
    "\n",
    "# nb_max 111 ou 221\n",
    "def scraper(list,xpath,iterateur,nb_max):\n",
    "    for i in range(2,nb_max):\n",
    "        if i not in iterateur : \n",
    "            WebElement = driver.find_element(By.XPATH,xpath%(i))\n",
    "            list.append(WebElement.text)\n",
    "\n",
    "    return list\n",
    "\n",
    "XpathTitle = \"/html/body/div[4]/main/div[2]/div[3]/div/div/div/div[2]/div[%d]/ul/li[4]/ul/li[1]/h3\"\n",
    "XpathArtist = \"/html/body/div[4]/main/div[2]/div[3]/div/div/div/div[2]/div[%d]/ul/li[4]/ul/li[1]/span\"\n",
    "XpathRank = \"/html/body/div[4]/main/div[2]/div[3]/div/div/div/div[2]/div[%d]/ul/li[1]/span \"\n",
    "XpathLastWeek = \"/html/body/div[4]/main/div[2]/div[3]/div/div/div/div[2]/div[%d]/ul/li[4]/ul/li[4]/span\"\n",
    "XpathPeakPosition = \"/html/body/div[4]/main/div[2]/div[3]/div/div/div/div[2]/div[%d]/ul/li[4]/ul/li[5]/span\"\n",
    "XpathWeeksOnChart = \"/html/body/div[4]/main/div[2]/div[3]/div/div/div/div[2]/div[%d]/ul/li[4]/ul/li[6]/span\"\n",
    "\n",
    "allXpath = [XpathTitle,XpathArtist,XpathRank,XpathLastWeek,XpathPeakPosition,XpathWeeksOnChart]\n",
    "\n",
    "title,artist,rank,last_week,peak_pos,weeks_on_chart = [],[],[],[],[],[]\n",
    "\n",
    "allList = [title,artist,rank,last_week,peak_pos,weeks_on_chart]\n",
    "\n",
    "i = [scraper(i,j,iterateur200,221) for i, j in zip(allList, allXpath)]\n",
    "\n",
    "# for i, j in zip(allList, allXpath):\n",
    "#     i = scraper(i,j,iterateur200,221)\n",
    "\n",
    "df = pd.DataFrame(list(zip(title,artist,rank,last_week,peak_pos,weeks_on_chart)),columns=['Title','Artist','Rank','Last Week','Peak Positon','Weeks on charts'])\n",
    "print(df)\n",
    "\n",
    "# Close the webdriver\n",
    "# driver.close()\n",
    "\n",
    "end = time.time()\n",
    "temps = end - start\n",
    "print(\"temps d'execution :\",temps,\"s\")"
   ]
  },
  {
   "cell_type": "code",
   "execution_count": 21,
   "metadata": {},
   "outputs": [],
   "source": [
    "# song_artists=list(zip( df['Artist'], df['Title'],))\n",
    "# print(song_artists)"
   ]
  },
  {
   "cell_type": "code",
   "execution_count": 94,
   "metadata": {},
   "outputs": [
    {
     "name": "stderr",
     "output_type": "stream",
     "text": [
      "C:\\Users\\thoma\\AppData\\Local\\Temp\\ipykernel_21568\\2369115226.py:14: DeprecationWarning: executable_path has been deprecated, please pass in a Service object\n",
      "  driver_genius = webdriver.Chrome(ChromeDriverManager().install())\n"
     ]
    },
    {
     "ename": "NoSuchElementException",
     "evalue": "Message: no such element: Unable to locate element: {\"method\":\"xpath\",\"selector\":\"/html/body/div[2]/div[3]/div[1]/div/div[2]/div/button[1]\"}\n  (Session info: chrome=109.0.5414.120)\nStacktrace:\nBacktrace:\n\t(No symbol) [0x00B16643]\n\t(No symbol) [0x00AABE21]\n\t(No symbol) [0x009ADA9D]\n\t(No symbol) [0x009E1342]\n\t(No symbol) [0x009E147B]\n\t(No symbol) [0x00A18DC2]\n\t(No symbol) [0x009FFDC4]\n\t(No symbol) [0x00A16B09]\n\t(No symbol) [0x009FFB76]\n\t(No symbol) [0x009D49C1]\n\t(No symbol) [0x009D5E5D]\n\tGetHandleVerifier [0x00D8A142+2497106]\n\tGetHandleVerifier [0x00DB85D3+2686691]\n\tGetHandleVerifier [0x00DBBB9C+2700460]\n\tGetHandleVerifier [0x00BC3B10+635936]\n\t(No symbol) [0x00AB4A1F]\n\t(No symbol) [0x00ABA418]\n\t(No symbol) [0x00ABA505]\n\t(No symbol) [0x00AC508B]\n\tBaseThreadInitThunk [0x761B7D69+25]\n\tRtlInitializeExceptionChain [0x772BBB9B+107]\n\tRtlClearBits [0x772BBB1F+191]\n",
     "output_type": "error",
     "traceback": [
      "\u001b[1;31m---------------------------------------------------------------------------\u001b[0m",
      "\u001b[1;31mNoSuchElementException\u001b[0m                    Traceback (most recent call last)",
      "\u001b[1;32mc:\\Users\\thoma\\OneDrive\\Documenti\\ESIEEParis\\Couretexopython\\Python\\exercices\\tdpython\\Billboard-Genius\\test_navigation.ipynb Cellule 5\u001b[0m in \u001b[0;36m<cell line: 20>\u001b[1;34m()\u001b[0m\n\u001b[0;32m     <a href='vscode-notebook-cell:/c%3A/Users/thoma/OneDrive/Documenti/ESIEEParis/Couretexopython/Python/exercices/tdpython/Billboard-Genius/test_navigation.ipynb#X22sZmlsZQ%3D%3D?line=15'>16</a>\u001b[0m \u001b[39m# for song in song_artists:\u001b[39;00m\n\u001b[0;32m     <a href='vscode-notebook-cell:/c%3A/Users/thoma/OneDrive/Documenti/ESIEEParis/Couretexopython/Python/exercices/tdpython/Billboard-Genius/test_navigation.ipynb#X22sZmlsZQ%3D%3D?line=16'>17</a>\u001b[0m \n\u001b[0;32m     <a href='vscode-notebook-cell:/c%3A/Users/thoma/OneDrive/Documenti/ESIEEParis/Couretexopython/Python/exercices/tdpython/Billboard-Genius/test_navigation.ipynb#X22sZmlsZQ%3D%3D?line=17'>18</a>\u001b[0m     \u001b[39m# ouvrir le site et accepter les cookies\u001b[39;00m\n\u001b[0;32m     <a href='vscode-notebook-cell:/c%3A/Users/thoma/OneDrive/Documenti/ESIEEParis/Couretexopython/Python/exercices/tdpython/Billboard-Genius/test_navigation.ipynb#X22sZmlsZQ%3D%3D?line=18'>19</a>\u001b[0m driver_genius\u001b[39m.\u001b[39mget(\u001b[39m\"\u001b[39m\u001b[39mhttps://genius.com/\u001b[39m\u001b[39m\"\u001b[39m)\n\u001b[1;32m---> <a href='vscode-notebook-cell:/c%3A/Users/thoma/OneDrive/Documenti/ESIEEParis/Couretexopython/Python/exercices/tdpython/Billboard-Genius/test_navigation.ipynb#X22sZmlsZQ%3D%3D?line=19'>20</a>\u001b[0m driver_genius\u001b[39m.\u001b[39;49mfind_element(By\u001b[39m.\u001b[39;49mXPATH,\u001b[39m\"\u001b[39;49m\u001b[39m/html/body/div[2]/div[3]/div[1]/div/div[2]/div/button[1]\u001b[39;49m\u001b[39m\"\u001b[39;49m)\u001b[39m.\u001b[39mclick()\n\u001b[0;32m     <a href='vscode-notebook-cell:/c%3A/Users/thoma/OneDrive/Documenti/ESIEEParis/Couretexopython/Python/exercices/tdpython/Billboard-Genius/test_navigation.ipynb#X22sZmlsZQ%3D%3D?line=21'>22</a>\u001b[0m \u001b[39m# activer la recherche\u001b[39;00m\n\u001b[0;32m     <a href='vscode-notebook-cell:/c%3A/Users/thoma/OneDrive/Documenti/ESIEEParis/Couretexopython/Python/exercices/tdpython/Billboard-Genius/test_navigation.ipynb#X22sZmlsZQ%3D%3D?line=23'>24</a>\u001b[0m element \u001b[39m=\u001b[39m driver_genius\u001b[39m.\u001b[39mfind_element(By\u001b[39m.\u001b[39mXPATH,\u001b[39m\"\u001b[39m\u001b[39m/html/body/div[1]/div/div[1]/div[1]/form/input\u001b[39m\u001b[39m\"\u001b[39m)\n",
      "File \u001b[1;32m~\\AppData\\Local\\Packages\\PythonSoftwareFoundation.Python.3.9_qbz5n2kfra8p0\\LocalCache\\local-packages\\Python39\\site-packages\\selenium\\webdriver\\remote\\webdriver.py:830\u001b[0m, in \u001b[0;36mWebDriver.find_element\u001b[1;34m(self, by, value)\u001b[0m\n\u001b[0;32m    827\u001b[0m     by \u001b[39m=\u001b[39m By\u001b[39m.\u001b[39mCSS_SELECTOR\n\u001b[0;32m    828\u001b[0m     value \u001b[39m=\u001b[39m \u001b[39mf\u001b[39m\u001b[39m'\u001b[39m\u001b[39m[name=\u001b[39m\u001b[39m\"\u001b[39m\u001b[39m{\u001b[39;00mvalue\u001b[39m}\u001b[39;00m\u001b[39m\"\u001b[39m\u001b[39m]\u001b[39m\u001b[39m'\u001b[39m\n\u001b[1;32m--> 830\u001b[0m \u001b[39mreturn\u001b[39;00m \u001b[39mself\u001b[39;49m\u001b[39m.\u001b[39;49mexecute(Command\u001b[39m.\u001b[39;49mFIND_ELEMENT, {\u001b[39m\"\u001b[39;49m\u001b[39musing\u001b[39;49m\u001b[39m\"\u001b[39;49m: by, \u001b[39m\"\u001b[39;49m\u001b[39mvalue\u001b[39;49m\u001b[39m\"\u001b[39;49m: value})[\u001b[39m\"\u001b[39m\u001b[39mvalue\u001b[39m\u001b[39m\"\u001b[39m]\n",
      "File \u001b[1;32m~\\AppData\\Local\\Packages\\PythonSoftwareFoundation.Python.3.9_qbz5n2kfra8p0\\LocalCache\\local-packages\\Python39\\site-packages\\selenium\\webdriver\\remote\\webdriver.py:440\u001b[0m, in \u001b[0;36mWebDriver.execute\u001b[1;34m(self, driver_command, params)\u001b[0m\n\u001b[0;32m    438\u001b[0m response \u001b[39m=\u001b[39m \u001b[39mself\u001b[39m\u001b[39m.\u001b[39mcommand_executor\u001b[39m.\u001b[39mexecute(driver_command, params)\n\u001b[0;32m    439\u001b[0m \u001b[39mif\u001b[39;00m response:\n\u001b[1;32m--> 440\u001b[0m     \u001b[39mself\u001b[39;49m\u001b[39m.\u001b[39;49merror_handler\u001b[39m.\u001b[39;49mcheck_response(response)\n\u001b[0;32m    441\u001b[0m     response[\u001b[39m\"\u001b[39m\u001b[39mvalue\u001b[39m\u001b[39m\"\u001b[39m] \u001b[39m=\u001b[39m \u001b[39mself\u001b[39m\u001b[39m.\u001b[39m_unwrap_value(response\u001b[39m.\u001b[39mget(\u001b[39m\"\u001b[39m\u001b[39mvalue\u001b[39m\u001b[39m\"\u001b[39m, \u001b[39mNone\u001b[39;00m))\n\u001b[0;32m    442\u001b[0m     \u001b[39mreturn\u001b[39;00m response\n",
      "File \u001b[1;32m~\\AppData\\Local\\Packages\\PythonSoftwareFoundation.Python.3.9_qbz5n2kfra8p0\\LocalCache\\local-packages\\Python39\\site-packages\\selenium\\webdriver\\remote\\errorhandler.py:245\u001b[0m, in \u001b[0;36mErrorHandler.check_response\u001b[1;34m(self, response)\u001b[0m\n\u001b[0;32m    243\u001b[0m         alert_text \u001b[39m=\u001b[39m value[\u001b[39m\"\u001b[39m\u001b[39malert\u001b[39m\u001b[39m\"\u001b[39m]\u001b[39m.\u001b[39mget(\u001b[39m\"\u001b[39m\u001b[39mtext\u001b[39m\u001b[39m\"\u001b[39m)\n\u001b[0;32m    244\u001b[0m     \u001b[39mraise\u001b[39;00m exception_class(message, screen, stacktrace, alert_text)  \u001b[39m# type: ignore[call-arg]  # mypy is not smart enough here\u001b[39;00m\n\u001b[1;32m--> 245\u001b[0m \u001b[39mraise\u001b[39;00m exception_class(message, screen, stacktrace)\n",
      "\u001b[1;31mNoSuchElementException\u001b[0m: Message: no such element: Unable to locate element: {\"method\":\"xpath\",\"selector\":\"/html/body/div[2]/div[3]/div[1]/div/div[2]/div/button[1]\"}\n  (Session info: chrome=109.0.5414.120)\nStacktrace:\nBacktrace:\n\t(No symbol) [0x00B16643]\n\t(No symbol) [0x00AABE21]\n\t(No symbol) [0x009ADA9D]\n\t(No symbol) [0x009E1342]\n\t(No symbol) [0x009E147B]\n\t(No symbol) [0x00A18DC2]\n\t(No symbol) [0x009FFDC4]\n\t(No symbol) [0x00A16B09]\n\t(No symbol) [0x009FFB76]\n\t(No symbol) [0x009D49C1]\n\t(No symbol) [0x009D5E5D]\n\tGetHandleVerifier [0x00D8A142+2497106]\n\tGetHandleVerifier [0x00DB85D3+2686691]\n\tGetHandleVerifier [0x00DBBB9C+2700460]\n\tGetHandleVerifier [0x00BC3B10+635936]\n\t(No symbol) [0x00AB4A1F]\n\t(No symbol) [0x00ABA418]\n\t(No symbol) [0x00ABA505]\n\t(No symbol) [0x00AC508B]\n\tBaseThreadInitThunk [0x761B7D69+25]\n\tRtlInitializeExceptionChain [0x772BBB9B+107]\n\tRtlClearBits [0x772BBB1F+191]\n"
     ]
    }
   ],
   "source": [
    "\n",
    "# Initialize the webdriver\n",
    "# de manière basique\n",
    "# driver = webdriver.Chrome()\n",
    "\n",
    "# avec ChromeDriverManager mieux car update du driver automatiquement\n",
    "# driver = webdriver.Chrome(ChromeDriverManager().install())\n",
    "# driver.get('https://genius.com/{}'.format(str(\"Sza-sos-lyrics\")))\n",
    "# driver.find_element(By.XPATH,\"/html/body/div[7]/div[3]/div[1]/div/div[2]/div/button[1]\").click()\n",
    "# date = driver.find_element(By.XPATH,\"/html/body/div[1]/main/div[1]/div[4]/div/div[1]/div[2]/div\").text\n",
    "# print(date)\n",
    "\n",
    "# options = webdriver.ChromeOptions()\n",
    "# # options.add_argument('--headless')\n",
    "# driver_genius = webdriver.Chrome(ChromeDriverManager().install())\n",
    "\n",
    "# # for song in song_artists:\n",
    "\n",
    "#     # ouvrir le site et accepter les cookies\n",
    "# driver_genius.get(\"https://genius.com/\")\n",
    "# driver_genius.find_element(By.XPATH,\"/html/body/div[2]/div[3]/div[1]/div/div[2]/div/button[1]\").click()\n",
    "\n",
    "# # activer la recherche\n",
    "\n",
    "# element = driver_genius.find_element(By.XPATH,\"/html/body/div[1]/div/div[1]/div[1]/form/input\")\n",
    "# element.send_keys('Flowers', Keys.ARROW_DOWN)\n",
    "# element.submit()\n",
    "# driver_genius.find_element(By.XPATH,\"/html/body/routable-page/ng-outlet/search-results-page/div/div[2]/div[1]/div[1]/search-result-section/div/div[2]/search-result-items/div/search-result-item/div/mini-song-card/a/div[2]\").click()\n",
    "# driver_genius.find_element(By.XPATH,\"/html/body/div[1]/main/div[3]/div[3]/div[1]/div[7]/div[2]/button\").click()\n",
    "# print(driver_genius.find_element(By.XPATH, \"/html/body/div[1]/main/div[3]/div[3]/div[1]/div[7]/div[1]/div/div[5]/a[1]\").text)\n",
    "\n",
    "# time.sleep(150)\n"
   ]
  },
  {
   "cell_type": "code",
   "execution_count": 79,
   "metadata": {},
   "outputs": [],
   "source": [
    "# driver.find_element(By.CLASS_NAME,\"HeaderMetadata__ReleaseDate-sc-1p42fnf-4 dEQuaq\")"
   ]
  },
  {
   "cell_type": "code",
   "execution_count": 80,
   "metadata": {},
   "outputs": [],
   "source": [
    "# reject all cookies\n",
    "#driver.find_element(By.XPATH,\"/html/body/div[6]/div[2]/div/div/div[2]/div/div/button[1]\").click()"
   ]
  },
  {
   "cell_type": "code",
   "execution_count": 178,
   "metadata": {},
   "outputs": [
    {
     "name": "stderr",
     "output_type": "stream",
     "text": [
      "C:\\Users\\camil\\AppData\\Local\\Temp\\ipykernel_30900\\993751244.py:1: DeprecationWarning: executable_path has been deprecated, please pass in a Service object\n",
      "  driver = webdriver.Chrome(ChromeDriverManager().install())\n"
     ]
    }
   ],
   "source": [
    "driver = webdriver.Chrome(ChromeDriverManager().install())\n",
    "driver.get(\"https://www.billboard.com/charts/billboard-global-200/\")\n",
    "driver.find_element(By.XPATH,\"/html/body/div[6]/div[2]/div/div/div[2]/div/div/button[1]\").click()\n",
    "# enlever la box privacy policy\n",
    "driver.find_element(By.XPATH,\"/html/body/div[5]/div[1]/span\").click()\n",
    "\n",
    "nb_mois = 4\n",
    "calendar = driver.find_element(By.XPATH,\"/html/body/div[4]/main/div[2]/div[1]/div/div/div[2]/div[2]/div[2]\").click()\n",
    "for i in range(nb_mois):\n",
    "    previous_month = driver.find_element(By.XPATH,\"/html/body/div[4]/main/div[2]/div[1]/div/div/div[2]/div[2]/div[2]/div/div/div/div[1]/div[2]/button[1]/span\").click()"
   ]
  },
  {
   "cell_type": "code",
   "execution_count": 179,
   "metadata": {},
   "outputs": [],
   "source": [
    "# for i in range(1,6):\n",
    "#     calendar = driver.find_element(By.XPATH,\"/html/body/div[4]/main/div[2]/div[1]/div/div/div[2]/div[2]/div[2]\").click()\n",
    "#     week_i = driver.find_element(By.XPATH,\"/html/body/div[4]/main/div[2]/div[1]/div/div/div[2]/div[2]/div[2]/div/div/div/div[2]/table/tbody/tr[%d]/td[1]/span\"%(i)).click()\n",
    "#     date = driver.find_element(By.XPATH,\"/html/body/div[4]/main/div[2]/div[1]/div/div/div[2]/div[2]/div[2]/div/div/h2\").text\n",
    "\n",
    "# actions = ActionChains(driver)\n",
    "# actions.move_to_element(week_i).perform()"
   ]
  },
  {
   "cell_type": "code",
   "execution_count": 180,
   "metadata": {},
   "outputs": [
    {
     "name": "stdout",
     "output_type": "stream",
     "text": [
      "6\n",
      "next_month 0\n",
      "6\n",
      "next_month 1\n",
      "6\n",
      "next_month 2\n"
     ]
    }
   ],
   "source": [
    "for j in range(nb_mois-1):\n",
    "    # clique sur la 1ere semaine du mois\n",
    "    week_i = driver.find_element(By.XPATH,\"/html/body/div[4]/main/div[2]/div[1]/div/div/div[2]/div[2]/div[2]/div/div/div/div[2]/table/tbody/tr[1]/td[1]/span\").click()\n",
    "    # calcule le nb de semaine de ce mois\n",
    "    taille_month = len(driver.find_elements(By.TAG_NAME,'tr'))-1\n",
    "    print(taille_month)\n",
    "    # clique sur le calendrier\n",
    "    calendar = driver.find_element(By.XPATH,\"/html/body/div[4]/main/div[2]/div[1]/div/div/div[2]/div[2]/div[2]\").click()\n",
    "    wait = WebDriverWait(driver, 3)\n",
    "    # passe au mois suivant\n",
    "    next_month = driver.find_element(By.XPATH,\"/html/body/div[4]/main/div[2]/div[1]/div/div/div[2]/div[2]/div[2]/div/div/div/div[1]/div[2]/button[2]/span\").click()\n",
    "    print(\"next_month\",j)\n"
   ]
  },
  {
   "cell_type": "code",
   "execution_count": 181,
   "metadata": {},
   "outputs": [],
   "source": [
    "# list_date = []\n",
    "# for j in range(nb_mois-1):\n",
    "#     week_i = driver.find_element(By.XPATH,\"/html/body/div[4]/main/div[2]/div[1]/div/div/div[2]/div[2]/div[2]/div/div/div/div[2]/table/tbody/tr[1]/td[1]/span\").click()\n",
    "#     month = driver.find_elements(By.TAG_NAME,'tr')\n",
    "#     print(len(month)-1)\n",
    "#     calendar = driver.find_element(By.XPATH,\"/html/body/div[4]/main/div[2]/div[1]/div/div/div[2]/div[2]/div[2]\").click()\n",
    "    # for i in range(2,len(month)-1): \n",
    "    #     driver.implicitly_wait(2)\n",
    "    #     week_i = driver.find_element(By.XPATH,\"/html/body/div[4]/main/div[2]/div[1]/div/div/div[2]/div[2]/div[2]/div/div/div/div[2]/table/tbody/tr[%d]/td[1]/span\"%(i)).click()\n",
    "    #     # driver.execute_script(\"arguments[0].scrollIntoView();\", week_i)\n",
    "    #     # wait = WebDriverWait(driver, 3)\n",
    "    #     date = driver.find_element(By.XPATH,\"/html/body/div[4]/main/div[2]/div[3]/div/div/div/div[1]/p\")\n",
    "    #     print(date.text,i)\n",
    "    #     list_date.append(date.text)\n",
    "    #     calendar = driver.find_element(By.XPATH,\"/html/body/div[4]/main/div[2]/div[1]/div/div/div[2]/div[2]/div[2]\").click()\n",
    "    # next_month = driver.find_element(By.XPATH,\"/html/body/div[4]/main/div[2]/div[1]/div/div/div[2]/div[2]/div[2]/div/div/div/div[1]/div[2]/button[2]/span\").click()\n",
    "    # print(\"next_month\",j)\n",
    "    # print(list_date)"
   ]
  },
  {
   "cell_type": "code",
   "execution_count": 182,
   "metadata": {},
   "outputs": [],
   "source": [
    "# calendar = driver.find_element(By.XPATH,\"/html/body/div[4]/main/div[2]/div[1]/div/div/div[2]/div[2]/div[2]\").click()\n",
    "# driver.find_element(By.XPATH,\"/html/body/div[4]/main/div[2]/div[1]/div/div/div[2]/div[2]/div[2]/div/div/div/div[2]/table/tbody/tr[1]/td[1]/span\").click()\n",
    "# date = driver.find_element(By.XPATH,\"/html/body/div[4]/main/div[2]/div[1]/div/div/div[2]/div[2]/div[2]/div/div/h2\").text\n",
    "# date"
   ]
  },
  {
   "cell_type": "code",
   "execution_count": 183,
   "metadata": {},
   "outputs": [],
   "source": [
    "# calendar = driver.find_element(By.XPATH,\"/html/body/div[4]/main/div[2]/div[1]/div/div/div[2]/div[2]/div[2]\").click()\n",
    "# previous_month = driver.find_element(By.XPATH,\"/html/body/div[4]/main/div[2]/div[1]/div/div/div[2]/div[2]/div[2]/div/div/div/div[1]/div[2]/button[1]\").click()"
   ]
  },
  {
   "cell_type": "code",
   "execution_count": 184,
   "metadata": {},
   "outputs": [],
   "source": [
    "driver.close()"
   ]
  },
  {
   "cell_type": "code",
   "execution_count": 185,
   "metadata": {},
   "outputs": [],
   "source": [
    "# /html/body/div[4]/main/div[2]/div[1]/div/div/div[2]/div[2]/div[2]/div/div/h2\n",
    "# /html/body/div[4]/main/div[2]/div[1]/div/div/div[2]/div[2]/div[2]/div/div/h2\n",
    "# /html/body/div[4]/main/div[2]/div[1]/div/div/div[2]/div[2]/div[2]/div/div/h2"
   ]
  }
 ],
 "metadata": {
  "kernelspec": {
   "display_name": "Python 3",
   "language": "python",
   "name": "python3"
  },
  "language_info": {
   "codemirror_mode": {
    "name": "ipython",
    "version": 3
   },
   "file_extension": ".py",
   "mimetype": "text/x-python",
   "name": "python",
   "nbconvert_exporter": "python",
   "pygments_lexer": "ipython3",
   "version": "3.10.2"
  },
  "vscode": {
   "interpreter": {
    "hash": "680909a85cd0f96ba1c50ae49c7276dc4874e63b5fd1d1624a0b59680dc2cd74"
   }
  }
 },
 "nbformat": 4,
 "nbformat_minor": 2
}
