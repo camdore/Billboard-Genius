{
 "cells": [
  {
   "cell_type": "code",
   "execution_count": 2,
   "metadata": {},
   "outputs": [],
   "source": [
    "from selenium import webdriver\n",
    "from selenium.webdriver.common.keys import Keys\n",
    "from webdriver_manager.chrome import ChromeDriverManager\n",
    "from selenium.webdriver.chrome.service import Service\n",
    "from bs4 import BeautifulSoup\n",
    "from selenium.webdriver.support.ui import WebDriverWait\n",
    "from selenium.webdriver.support import expected_conditions as EC\n",
    "from selenium.webdriver.common.by import By\n",
    "import time \n",
    "import pandas as pd\n",
    "import re"
   ]
  },
  {
   "cell_type": "code",
   "execution_count": 19,
   "metadata": {},
   "outputs": [
    {
     "name": "stderr",
     "output_type": "stream",
     "text": [
      "C:\\Users\\thoma\\AppData\\Local\\Temp\\ipykernel_25068\\4163854915.py:1: DeprecationWarning: executable_path has been deprecated, please pass in a Service object\n",
      "  driver_m = webdriver.Chrome(ChromeDriverManager().install())\n"
     ]
    },
    {
     "name": "stdout",
     "output_type": "stream",
     "text": [
      "Date September 22, 2022\n",
      "Producers Blake Slatkin, Cirkut, ILYA, Jimmy Napes, Omer Fedi & Sam Smith\n",
      "Writers Blake Slatkin, Cirkut, ILYA, Jimmy Napes, Kim Petras, Omer Fedi & Sam Smith\n",
      "R&B, Pop, UK Pop, Electronic, TikTok, Dark Pop, Electro-Industrial, LGBTQ+, Alternative Pop, Alternative, Deutschland, UK, Alternative R&B, Dance-Pop\n"
     ]
    }
   ],
   "source": [
    "driver_m = webdriver.Chrome(ChromeDriverManager().install())\n",
    "\n",
    "    # ouvrir le site et accepter les cookies\n",
    "\n",
    "driver_m.get(\"https://genius.com/Sam-smith-and-kim-petras-unholy-lyrics\")\n",
    "driver_m.implicitly_wait(10)\n",
    "driver_m.find_element(By.ID,\"onetrust-accept-btn-handler\").click()\n",
    "time.sleep(3)\n",
    "\n",
    "#scroll to credits\n",
    "\n",
    "target_credits = driver_m.find_element(By.CSS_SELECTOR,\"div.SongInfo__Title-nekw6x-1\")\n",
    "driver_m.execute_script(\"arguments[0].scrollIntoView();\", target_credits)\n",
    "\n",
    "time.sleep(5)\n",
    "\n",
    "#click on expand\n",
    "\n",
    "all_elements_after_target_credit = target_credits.find_elements(By.XPATH, \".//following::*\")\n",
    "\n",
    "# trouve le 1er element dont le tag_name est \"button\"\n",
    "\n",
    "for element in all_elements_after_target_credit:\n",
    "    if element.tag_name == \"button\":\n",
    "        element.click()\n",
    "        break\n",
    "\n",
    "driver_m.implicitly_wait(10)\n",
    "\n",
    "\n",
    "\n",
    "###################################################DATE##########################################################\n",
    "\n",
    "# Localiser la balise \"div\" contenant la date en utilisant son contenu texte\n",
    "\n",
    "date_element = driver_m.find_element(By.XPATH,\"//div[contains(text(),'Release Date')]\")\n",
    "\n",
    "# Extraire la date à partir du texte en utilisant des expressions régulières\n",
    "if date_element:\n",
    "    date_text = date_element.find_element(By.XPATH,'./following-sibling::div').text\n",
    "    date_regex = r\"\\w+\\s+\\d{1,2},\\s+\\d{4}\"\n",
    "    match = re.search(date_regex, date_text)\n",
    "    if match:\n",
    "        date = match.group()\n",
    "        \n",
    "print(\"Date\",date)\n",
    "\n",
    "\n",
    "############################################PRODUCTEURS###########################################################\n",
    "time.sleep(2)\n",
    "\n",
    "producteurs_element = driver_m.find_element(By.XPATH,\"//div[contains(text(),'Produced By')]\")\n",
    "producteurs_text = producteurs_element.find_element(By.XPATH,'./following-sibling::div').text\n",
    "print(\"Producers\",producteurs_text)\n",
    "\n",
    "############################################ECRIVAINS#############################################################\n",
    "time.sleep(2)\n",
    "\n",
    "ecrivains_element = driver_m.find_element(By.XPATH,\"//div[contains(text(),'Written By')]\")\n",
    "ecrivains_text = ecrivains_element.find_element(By.XPATH,'./following-sibling::div').text\n",
    "print(\"Writers\",ecrivains_text)\n",
    "\n",
    "######################################PUBLICATEURS############################################################\n",
    "time.sleep(2)\n",
    "\n",
    "# publisher_element = driver_m.find_element(By.XPATH,\"//div[contains(text(),'Publisher')]\")\n",
    "# publisher_text = publisher_element.find_element(By.XPATH,'./following-sibling::div').text\n",
    "# print(\"Publisher\",publisher_text)\n",
    "\n",
    "#######################################DISTRIBUTORS#####################################################\n",
    "time.sleep(2)\n",
    "\n",
    "# distributor_element = driver_m.find_element(By.XPATH,\"//div[contains(text(),'Distributor')]\")\n",
    "# distributor_text = distributor_element.find_element(By.XPATH,'./following-sibling::div').text\n",
    "# print(\"Distributor\",distributor_text)\n",
    "\n",
    "##########################################################################################################\n",
    "\n",
    "driver_m.implicitly_wait(10)\n",
    "#recherche de realease dates\n",
    "\n",
    "# recherche des tags\n",
    "tag_pos = driver_m.find_element(By.CLASS_NAME,\"SongTags__Title-xixwg3-0\")\n",
    "driver_m.execute_script(\"arguments[0].scrollIntoView();\", tag_pos)\n",
    "name = driver_m.find_elements(By.CLASS_NAME, \"SongTags__Container-xixwg3-1\")\n",
    "\n",
    "tags=''\n",
    "for elt in name:\n",
    "\n",
    "    tags+=elt.text\n",
    "    print(tags)\n",
    "\n",
    "tags =tags.replace('\\n',', ')\n",
    "\n",
    "print(tags)\n",
    "\n",
    "\n",
    "# l = [date,producteurs_text,publisher_text,distributor_text,tags]\n",
    "\n",
    "\n",
    "# print(l)\n"
   ]
  },
  {
   "cell_type": "code",
   "execution_count": 20,
   "metadata": {},
   "outputs": [
    {
     "data": {
      "text/plain": [
       "'R&B, Pop, UK Pop, Electronic, TikTok, Dark Pop, Electro-Industrial, LGBTQ+, Alternative Pop, Alternative, Deutschland, UK, Alternative R&B, Dance-Pop'"
      ]
     },
     "execution_count": 20,
     "metadata": {},
     "output_type": "execute_result"
    }
   ],
   "source": [
    "tags"
   ]
  },
  {
   "cell_type": "code",
   "execution_count": 41,
   "metadata": {},
   "outputs": [
    {
     "name": "stdout",
     "output_type": "stream",
     "text": [
      "0    Rap, Hip-Hop, Pop Rap, Trap, Canada\n",
      "Name: Tags, dtype: object\n"
     ]
    }
   ],
   "source": [
    "print(df['Tags'])"
   ]
  },
  {
   "cell_type": "code",
   "execution_count": 38,
   "metadata": {},
   "outputs": [
    {
     "name": "stdout",
     "output_type": "stream",
     "text": [
      "Rap, Hip-Hop, Pop Rap, Trap, Canada \n"
     ]
    }
   ],
   "source": [
    "a ='Rap\\nHip-Hop\\nPop Rap\\nTrap\\nCanada '\n",
    "a = a.replace('\\n',', ')\n",
    "print(a)"
   ]
  }
 ],
 "metadata": {
  "kernelspec": {
   "display_name": "Python 3",
   "language": "python",
   "name": "python3"
  },
  "language_info": {
   "codemirror_mode": {
    "name": "ipython",
    "version": 3
   },
   "file_extension": ".py",
   "mimetype": "text/x-python",
   "name": "python",
   "nbconvert_exporter": "python",
   "pygments_lexer": "ipython3",
   "version": "3.10.7"
  },
  "orig_nbformat": 4,
  "vscode": {
   "interpreter": {
    "hash": "2881cb102472c0a2cc7b98c9f5b468e81049b20ea6d80c54eb33ba6f13a3277c"
   }
  }
 },
 "nbformat": 4,
 "nbformat_minor": 2
}
