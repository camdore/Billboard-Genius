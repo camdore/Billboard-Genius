{
 "cells": [
  {
   "cell_type": "code",
   "execution_count": 4,
   "metadata": {},
   "outputs": [],
   "source": [
    "from selenium import webdriver\n",
    "from selenium.webdriver.common.keys import Keys\n",
    "from webdriver_manager.chrome import ChromeDriverManager\n",
    "from selenium.webdriver.chrome.service import Service\n",
    "from selenium.common.exceptions import NoSuchElementException, TimeoutException\n",
    "from bs4 import BeautifulSoup\n",
    "from selenium.webdriver.support.ui import WebDriverWait\n",
    "from selenium.webdriver.support import expected_conditions as EC\n",
    "from selenium.webdriver.common.by import By\n",
    "import time \n",
    "import pandas as pd\n",
    "import re"
   ]
  },
  {
   "cell_type": "code",
   "execution_count": 12,
   "metadata": {},
   "outputs": [
    {
     "name": "stderr",
     "output_type": "stream",
     "text": [
      "C:\\Users\\thoma\\AppData\\Local\\Temp\\ipykernel_19776\\2923569320.py:1: DeprecationWarning: executable_path has been deprecated, please pass in a Service object\n",
      "  driver_m = webdriver.Chrome(ChromeDriverManager().install())\n"
     ]
    },
    {
     "ename": "NoSuchElementException",
     "evalue": "Message: no such element: Unable to locate element: {\"method\":\"xpath\",\"selector\":\"//div[contains(text(),'Release Date')]\"}\n  (Session info: chrome=109.0.5414.120)\nStacktrace:\nBacktrace:\n\t(No symbol) [0x00C56643]\n\t(No symbol) [0x00BEBE21]\n\t(No symbol) [0x00AEDA9D]\n\t(No symbol) [0x00B21342]\n\t(No symbol) [0x00B2147B]\n\t(No symbol) [0x00B58DC2]\n\t(No symbol) [0x00B3FDC4]\n\t(No symbol) [0x00B56B09]\n\t(No symbol) [0x00B3FB76]\n\t(No symbol) [0x00B149C1]\n\t(No symbol) [0x00B15E5D]\n\tGetHandleVerifier [0x00ECA142+2497106]\n\tGetHandleVerifier [0x00EF85D3+2686691]\n\tGetHandleVerifier [0x00EFBB9C+2700460]\n\tGetHandleVerifier [0x00D03B10+635936]\n\t(No symbol) [0x00BF4A1F]\n\t(No symbol) [0x00BFA418]\n\t(No symbol) [0x00BFA505]\n\t(No symbol) [0x00C0508B]\n\tBaseThreadInitThunk [0x76147D69+25]\n\tRtlInitializeExceptionChain [0x7728BB9B+107]\n\tRtlClearBits [0x7728BB1F+191]\n",
     "output_type": "error",
     "traceback": [
      "\u001b[1;31m---------------------------------------------------------------------------\u001b[0m",
      "\u001b[1;31mNoSuchElementException\u001b[0m                    Traceback (most recent call last)",
      "Cell \u001b[1;32mIn[12], line 40\u001b[0m\n\u001b[0;32m     33\u001b[0m     \u001b[39mprint\u001b[39m(\u001b[39m\"\u001b[39m\u001b[39mLe bouton n\u001b[39m\u001b[39m'\u001b[39m\u001b[39mexiste pas sur la page\u001b[39m\u001b[39m\"\u001b[39m)\n\u001b[0;32m     36\u001b[0m \u001b[39m###################################################DATE##########################################################\u001b[39;00m\n\u001b[0;32m     37\u001b[0m \n\u001b[0;32m     38\u001b[0m \u001b[39m# Localiser la balise \"div\" contenant la date en utilisant son contenu texte\u001b[39;00m\n\u001b[1;32m---> 40\u001b[0m date_element \u001b[39m=\u001b[39m driver_m\u001b[39m.\u001b[39;49mfind_element(By\u001b[39m.\u001b[39;49mXPATH,\u001b[39m\"\u001b[39;49m\u001b[39m//div[contains(text(),\u001b[39;49m\u001b[39m'\u001b[39;49m\u001b[39mRelease Date\u001b[39;49m\u001b[39m'\u001b[39;49m\u001b[39m)]\u001b[39;49m\u001b[39m\"\u001b[39;49m)\n\u001b[0;32m     42\u001b[0m \u001b[39m# Extraire la date à partir du texte en utilisant des expressions régulières\u001b[39;00m\n\u001b[0;32m     43\u001b[0m \u001b[39mif\u001b[39;00m date_element:\n",
      "File \u001b[1;32mc:\\Users\\thoma\\AppData\\Local\\Programs\\Python\\Python310\\lib\\site-packages\\selenium\\webdriver\\remote\\webdriver.py:830\u001b[0m, in \u001b[0;36mWebDriver.find_element\u001b[1;34m(self, by, value)\u001b[0m\n\u001b[0;32m    827\u001b[0m     by \u001b[39m=\u001b[39m By\u001b[39m.\u001b[39mCSS_SELECTOR\n\u001b[0;32m    828\u001b[0m     value \u001b[39m=\u001b[39m \u001b[39mf\u001b[39m\u001b[39m'\u001b[39m\u001b[39m[name=\u001b[39m\u001b[39m\"\u001b[39m\u001b[39m{\u001b[39;00mvalue\u001b[39m}\u001b[39;00m\u001b[39m\"\u001b[39m\u001b[39m]\u001b[39m\u001b[39m'\u001b[39m\n\u001b[1;32m--> 830\u001b[0m \u001b[39mreturn\u001b[39;00m \u001b[39mself\u001b[39;49m\u001b[39m.\u001b[39;49mexecute(Command\u001b[39m.\u001b[39;49mFIND_ELEMENT, {\u001b[39m\"\u001b[39;49m\u001b[39musing\u001b[39;49m\u001b[39m\"\u001b[39;49m: by, \u001b[39m\"\u001b[39;49m\u001b[39mvalue\u001b[39;49m\u001b[39m\"\u001b[39;49m: value})[\u001b[39m\"\u001b[39m\u001b[39mvalue\u001b[39m\u001b[39m\"\u001b[39m]\n",
      "File \u001b[1;32mc:\\Users\\thoma\\AppData\\Local\\Programs\\Python\\Python310\\lib\\site-packages\\selenium\\webdriver\\remote\\webdriver.py:440\u001b[0m, in \u001b[0;36mWebDriver.execute\u001b[1;34m(self, driver_command, params)\u001b[0m\n\u001b[0;32m    438\u001b[0m response \u001b[39m=\u001b[39m \u001b[39mself\u001b[39m\u001b[39m.\u001b[39mcommand_executor\u001b[39m.\u001b[39mexecute(driver_command, params)\n\u001b[0;32m    439\u001b[0m \u001b[39mif\u001b[39;00m response:\n\u001b[1;32m--> 440\u001b[0m     \u001b[39mself\u001b[39;49m\u001b[39m.\u001b[39;49merror_handler\u001b[39m.\u001b[39;49mcheck_response(response)\n\u001b[0;32m    441\u001b[0m     response[\u001b[39m\"\u001b[39m\u001b[39mvalue\u001b[39m\u001b[39m\"\u001b[39m] \u001b[39m=\u001b[39m \u001b[39mself\u001b[39m\u001b[39m.\u001b[39m_unwrap_value(response\u001b[39m.\u001b[39mget(\u001b[39m\"\u001b[39m\u001b[39mvalue\u001b[39m\u001b[39m\"\u001b[39m, \u001b[39mNone\u001b[39;00m))\n\u001b[0;32m    442\u001b[0m     \u001b[39mreturn\u001b[39;00m response\n",
      "File \u001b[1;32mc:\\Users\\thoma\\AppData\\Local\\Programs\\Python\\Python310\\lib\\site-packages\\selenium\\webdriver\\remote\\errorhandler.py:245\u001b[0m, in \u001b[0;36mErrorHandler.check_response\u001b[1;34m(self, response)\u001b[0m\n\u001b[0;32m    243\u001b[0m         alert_text \u001b[39m=\u001b[39m value[\u001b[39m\"\u001b[39m\u001b[39malert\u001b[39m\u001b[39m\"\u001b[39m]\u001b[39m.\u001b[39mget(\u001b[39m\"\u001b[39m\u001b[39mtext\u001b[39m\u001b[39m\"\u001b[39m)\n\u001b[0;32m    244\u001b[0m     \u001b[39mraise\u001b[39;00m exception_class(message, screen, stacktrace, alert_text)  \u001b[39m# type: ignore[call-arg]  # mypy is not smart enough here\u001b[39;00m\n\u001b[1;32m--> 245\u001b[0m \u001b[39mraise\u001b[39;00m exception_class(message, screen, stacktrace)\n",
      "\u001b[1;31mNoSuchElementException\u001b[0m: Message: no such element: Unable to locate element: {\"method\":\"xpath\",\"selector\":\"//div[contains(text(),'Release Date')]\"}\n  (Session info: chrome=109.0.5414.120)\nStacktrace:\nBacktrace:\n\t(No symbol) [0x00C56643]\n\t(No symbol) [0x00BEBE21]\n\t(No symbol) [0x00AEDA9D]\n\t(No symbol) [0x00B21342]\n\t(No symbol) [0x00B2147B]\n\t(No symbol) [0x00B58DC2]\n\t(No symbol) [0x00B3FDC4]\n\t(No symbol) [0x00B56B09]\n\t(No symbol) [0x00B3FB76]\n\t(No symbol) [0x00B149C1]\n\t(No symbol) [0x00B15E5D]\n\tGetHandleVerifier [0x00ECA142+2497106]\n\tGetHandleVerifier [0x00EF85D3+2686691]\n\tGetHandleVerifier [0x00EFBB9C+2700460]\n\tGetHandleVerifier [0x00D03B10+635936]\n\t(No symbol) [0x00BF4A1F]\n\t(No symbol) [0x00BFA418]\n\t(No symbol) [0x00BFA505]\n\t(No symbol) [0x00C0508B]\n\tBaseThreadInitThunk [0x76147D69+25]\n\tRtlInitializeExceptionChain [0x7728BB9B+107]\n\tRtlClearBits [0x7728BB1F+191]\n"
     ]
    }
   ],
   "source": [
    "driver_m = webdriver.Chrome(ChromeDriverManager().install())\n",
    "\n",
    "    # ouvrir le site et accepter les cookies\n",
    "\n",
    "driver_m.get(\"https://genius.com/Cant-hold-us-cant-hold-us-tribute-to-macklemore-ryan-lewis-and-ray-dalton-instrumental-version-lyrics\") #https://genius.com/Libianca-people-lyrics\n",
    "driver_m.implicitly_wait(10)\n",
    "driver_m.find_element(By.ID,\"onetrust-accept-btn-handler\").click()\n",
    "time.sleep(3)\n",
    "\n",
    "#scroll to credits\n",
    "\n",
    "target_credits = driver_m.find_element(By.CSS_SELECTOR,\"div.SongInfo__Title-nekw6x-1\")\n",
    "driver_m.execute_script(\"arguments[0].scrollIntoView();\", target_credits)\n",
    "\n",
    "time.sleep(5)\n",
    "\n",
    "#click on expand\n",
    "\n",
    "all_elements_after_target_credit = target_credits.find_elements(By.XPATH, \".//following::*\")\n",
    "\n",
    "try:\n",
    "    # trouve le 1er element dont le tag_name est \"button\"\n",
    "\n",
    "    for element in all_elements_after_target_credit:\n",
    "        if element.tag_name == \"button\" and \"Expand\" in element.text:\n",
    "            element.click()\n",
    "            break\n",
    "\n",
    "    driver_m.implicitly_wait(10)\n",
    "\n",
    "except:\n",
    "    # Le bouton n'a pas été trouvé sur la page\n",
    "    print(\"Le bouton n'existe pas sur la page\")\n",
    "\n",
    "\n",
    "###################################################DATE##########################################################\n",
    "try:\n",
    "    # Localiser la balise \"div\" contenant la date en utilisant son contenu texte\n",
    "\n",
    "    date_element = driver_m.find_element(By.XPATH,\"//div[contains(text(),'Release Date')]\")\n",
    "\n",
    "    # Extraire la date à partir du texte en utilisant des expressions régulières\n",
    "    if date_element:\n",
    "        date_text = date_element.find_element(By.XPATH,'./following-sibling::div').text\n",
    "        date_regex = r\"\\w+\\s+\\d{1,2},\\s+\\d{4}\"\n",
    "        match = re.search(date_regex, date_text)\n",
    "        if match:\n",
    "            date = match.group()\n",
    "        \n",
    "    print(\"Date\",date)\n",
    "\n",
    "except:\n",
    "\n",
    "    print(\"la date est absente\")\n",
    "\n",
    "\n",
    "############################################PRODUCTEURS###########################################################\n",
    "time.sleep(2)\n",
    "try:\n",
    "    producteurs_element = driver_m.find_element(By.XPATH,\"//div[contains(text(),'Produced By')]\")\n",
    "    producteurs_text = producteurs_element.find_element(By.XPATH,'./following-sibling::div').text\n",
    "    print(\"Producers\",producteurs_text)\n",
    "\n",
    "except: \n",
    "\n",
    "    print(\"Nan\")\n",
    "\n",
    "############################################ECRIVAINS#############################################################\n",
    "time.sleep(2)\n",
    "try:\n",
    "    ecrivains_element = driver_m.find_element(By.XPATH,\"//div[contains(text(),'Written By')]\")\n",
    "    ecrivains_text = ecrivains_element.find_element(By.XPATH,'./following-sibling::div').text\n",
    "    print(\"Writers\",ecrivains_text)\n",
    "except:\n",
    "\n",
    "    print(\"Nan\")\n",
    "\n",
    "######################################PUBLICATEURS############################################################\n",
    "time.sleep(2)\n",
    "\n",
    "try:\n",
    "    publisher_element = driver_m.find_element(By.XPATH,\"//div[contains(text(),'Publisher')]\")\n",
    "    publisher_text = publisher_element.find_element(By.XPATH,'./following-sibling::div').text\n",
    "    print(\"Publisher\",publisher_text)\n",
    "except:\n",
    "    print(\"Nan\")\n",
    "\n",
    "#######################################DISTRIBUTORS#####################################################\n",
    "time.sleep(2)\n",
    "try:\n",
    "    distributor_element = driver_m.find_element(By.XPATH,\"//div[contains(text(),'Distributor')]\")\n",
    "    distributor_text = distributor_element.find_element(By.XPATH,'./following-sibling::div').text\n",
    "    print(\"Distributor\",distributor_text)\n",
    "except:\n",
    "\n",
    "    print(\"Nan\")\n",
    "\n",
    "##########################################################################################################\n",
    "\n",
    "driver_m.implicitly_wait(10)\n",
    "#recherche de realease dates\n",
    "\n",
    "# recherche des tags\n",
    "tag_pos = driver_m.find_element(By.CLASS_NAME,\"SongTags__Title-xixwg3-0\")\n",
    "driver_m.execute_script(\"arguments[0].scrollIntoView();\", tag_pos)\n",
    "name = driver_m.find_elements(By.CLASS_NAME, \"SongTags__Container-xixwg3-1\")\n",
    "\n",
    "tags=''\n",
    "for elt in name:\n",
    "\n",
    "    tags+=elt.text\n",
    "    print(tags)\n",
    "\n",
    "tags =tags.replace('\\n',', ')\n",
    "\n",
    "print(tags)\n",
    "\n",
    "\n",
    "# l = [date,producteurs_text,publisher_text,distributor_text,tags]\n",
    "\n",
    "\n",
    "# print(l)\n"
   ]
  },
  {
   "cell_type": "code",
   "execution_count": 20,
   "metadata": {},
   "outputs": [
    {
     "data": {
      "text/plain": [
       "'R&B, Pop, UK Pop, Electronic, TikTok, Dark Pop, Electro-Industrial, LGBTQ+, Alternative Pop, Alternative, Deutschland, UK, Alternative R&B, Dance-Pop'"
      ]
     },
     "execution_count": 20,
     "metadata": {},
     "output_type": "execute_result"
    }
   ],
   "source": [
    "tags"
   ]
  },
  {
   "cell_type": "code",
   "execution_count": 41,
   "metadata": {},
   "outputs": [
    {
     "name": "stdout",
     "output_type": "stream",
     "text": [
      "0    Rap, Hip-Hop, Pop Rap, Trap, Canada\n",
      "Name: Tags, dtype: object\n"
     ]
    }
   ],
   "source": [
    "print(df['Tags'])"
   ]
  },
  {
   "cell_type": "code",
   "execution_count": 38,
   "metadata": {},
   "outputs": [
    {
     "name": "stdout",
     "output_type": "stream",
     "text": [
      "Rap, Hip-Hop, Pop Rap, Trap, Canada \n"
     ]
    }
   ],
   "source": [
    "a ='Rap\\nHip-Hop\\nPop Rap\\nTrap\\nCanada '\n",
    "a = a.replace('\\n',', ')\n",
    "print(a)"
   ]
  }
 ],
 "metadata": {
  "kernelspec": {
   "display_name": "Python 3",
   "language": "python",
   "name": "python3"
  },
  "language_info": {
   "codemirror_mode": {
    "name": "ipython",
    "version": 3
   },
   "file_extension": ".py",
   "mimetype": "text/x-python",
   "name": "python",
   "nbconvert_exporter": "python",
   "pygments_lexer": "ipython3",
   "version": "3.10.2"
  },
  "orig_nbformat": 4,
  "vscode": {
   "interpreter": {
    "hash": "680909a85cd0f96ba1c50ae49c7276dc4874e63b5fd1d1624a0b59680dc2cd74"
   }
  }
 },
 "nbformat": 4,
 "nbformat_minor": 2
}
