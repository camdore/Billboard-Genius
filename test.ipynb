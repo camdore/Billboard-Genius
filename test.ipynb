{
 "cells": [
  {
   "cell_type": "code",
   "execution_count": 1,
   "metadata": {},
   "outputs": [],
   "source": [
    "from selenium import webdriver\n",
    "from webdriver_manager.chrome import ChromeDriverManager\n",
    "from selenium.webdriver.support.wait import WebDriverWait \n",
    "from selenium.webdriver.chrome.service import Service\n",
    "from selenium.webdriver.common.keys import Keys\n",
    "from selenium.webdriver.common.by import By\n",
    "import time \n",
    "import pandas as pd\n",
    "import pymongo\n",
    "from pymongo import MongoClient\n",
    "from elasticsearch import Elasticsearch\n",
    "from elasticsearch_dsl import Document, Text, Integer\n",
    "from elasticsearch.helpers import bulk"
   ]
  },
  {
   "cell_type": "code",
   "execution_count": 2,
   "metadata": {},
   "outputs": [],
   "source": [
    "# driver_genius = webdriver.Chrome(ChromeDriverManager().install())\n",
    "# ouvrir le site et accepter les cookies\n",
    "# driver_genius.get(\"https://genius.com/Miley-cyrus-flowers-lyrics\")\n",
    "# driver_genius.find_element(By.XPATH,\"/html/body/div[2]/div[3]/div[1]/div/div[2]/div/button[1]\").click()\n",
    "# driver_genius.find_element(By.CSS_SELECTOR,\"SongInfo__Title-nekw6x-1 iRKrFW\").text\n",
    "# for i in range(len(genius)):\n",
    "\n",
    "#     # activer la recherche\n",
    "#     element = driver_genius.find_element(By.XPATH,\"/html/body/div[1]/div/div[1]/div[1]/form/input\")\n",
    "#     element.send_keys(genius[i][0]+' '+genius[i][1], Keys.ENTER)\n",
    "\n",
    "\n",
    "#     # clicker sur la chanson\n",
    "#     driver_genius.find_element(By.XPATH,\"/html/body/routable-page/ng-outlet/search-results-page/div/div[2]/div[1]/div[1]/search-result-section/div/div[2]/search-result-items/div/search-result-item/div/mini-song-card/a/div[2]\").click()\n",
    "#     # date = driver_genius.find_element(By.XPATH,\"/html/body/div[1]/main/div[1]/div[4]/div/div[1]/div[2]/div\")\n",
    "#     # print(date.text)\n",
    "#     # print(driver_genius.find_element(By.XPATH, \"/html/body/div[1]/main/div[1]/div[4]/div/div[1]/div[2]/div\").text)\n",
    "#     print(i)\n",
    "#     driver_genius.get(\"https://genius.com/\")\n",
    "#     # on revient à l'accueil\n",
    "#     driver_genius.back()\n",
    "#     driver_genius.back()\n",
    "\n",
    "\n",
    "#     WebDriverWait(driver_genius, timeout=10)\n",
    "# time.sleep(100)\n"
   ]
  },
  {
   "cell_type": "code",
   "execution_count": 3,
   "metadata": {},
   "outputs": [
    {
     "name": "stdout",
     "output_type": "stream",
     "text": [
      "<class 'pandas.core.frame.DataFrame'>\n",
      "RangeIndex: 2400 entries, 0 to 2399\n",
      "Data columns (total 7 columns):\n",
      " #   Column           Non-Null Count  Dtype \n",
      "---  ------           --------------  ----- \n",
      " 0   Title            2400 non-null   object\n",
      " 1   Artist           2400 non-null   object\n",
      " 2   Rank             2400 non-null   int64 \n",
      " 3   Last Week        2400 non-null   object\n",
      " 4   Peak Positon     2400 non-null   int64 \n",
      " 5   Weeks on charts  2400 non-null   int64 \n",
      " 6   Date             2400 non-null   object\n",
      "dtypes: int64(3), object(4)\n",
      "memory usage: 131.4+ KB\n"
     ]
    }
   ],
   "source": [
    "df = pd.read_csv('dataframe.csv',delimiter=';')\n",
    "df.info()"
   ]
  },
  {
   "cell_type": "code",
   "execution_count": 4,
   "metadata": {},
   "outputs": [],
   "source": [
    "data = df.to_dict('records')\n",
    "# data = df.to_json(date_format='dd/mm/yyyy',orient='records')\n",
    "# data"
   ]
  },
  {
   "cell_type": "code",
   "execution_count": 5,
   "metadata": {},
   "outputs": [],
   "source": [
    "# client = MongoClient(\"mongodb://localhost:27017/\")\n",
    "# db = client[\"mydatabase\"]\n",
    "# collection = db[\"mycollection\"]\n",
    "\n",
    "# print(client.list_database_names())\n",
    "# print(db.list_collection_names())\n",
    "# client.drop_database(db)\n",
    "# collection.drop()\n",
    "# print(client.list_database_names())\n",
    "# print(db.list_collection_names())\n",
    "\n",
    "# db = client[\"mydatabase\"]\n",
    "# collection = db[\"mycollection\"]\n",
    "# print(type(client))\n",
    "# print(type(db))\n",
    "# print(collection)\n",
    "\n",
    "# collection.insert_many(data)\n",
    "# collection.find_one()\n",
    "\n",
    "# cursor = collection.find()\n",
    "# # next(cursor)\n",
    "# for document in cursor :\n",
    "#     # print('-----')\n",
    "#     print(document)"
   ]
  },
  {
   "cell_type": "code",
   "execution_count": 6,
   "metadata": {},
   "outputs": [],
   "source": [
    "es = Elasticsearch([{'host': 'localhost', 'port': 9200,\"scheme\": \"http\"}])"
   ]
  },
  {
   "cell_type": "code",
   "execution_count": 7,
   "metadata": {},
   "outputs": [
    {
     "data": {
      "text/plain": [
       "True"
      ]
     },
     "execution_count": 7,
     "metadata": {},
     "output_type": "execute_result"
    }
   ],
   "source": [
    "es.ping()"
   ]
  },
  {
   "cell_type": "code",
   "execution_count": 8,
   "metadata": {},
   "outputs": [],
   "source": [
    "# document = {\"Title\":\"Anti-Hero\",\"Artist\":\"Taylor Swift\",\"Rank\":1,\"Last Week\":\"2\",\"Peak Positon\":1,\"Weeks on charts\":4,\"Date\":\"26\\\\/11\\\\/2022\"}"
   ]
  },
  {
   "cell_type": "code",
   "execution_count": 9,
   "metadata": {},
   "outputs": [],
   "source": [
    "# response = es.index(index=\"billboard\", id=1 ,document=document)\n",
    "# response['result']\n",
    "# response"
   ]
  },
  {
   "cell_type": "code",
   "execution_count": 10,
   "metadata": {},
   "outputs": [],
   "source": [
    "# res = es.get(index=\"billboard\",id=1)\n",
    "# # pprint.pprint(res[\"_source\"])\n",
    "# res[\"_source\"]"
   ]
  },
  {
   "cell_type": "code",
   "execution_count": 11,
   "metadata": {},
   "outputs": [],
   "source": [
    "# # define the index name and document type\n",
    "# index_name = 'billboard'\n",
    "# doc_type = '_doc'\n",
    "\n",
    "# # define the action list to be passed to the bulk method\n",
    "# actions = [\n",
    "#     {\n",
    "#         '_index': index_name,\n",
    "#         '_type': doc_type,\n",
    "#         '_source': data\n",
    "#     }\n",
    "#     for i in data\n",
    "# ]\n",
    "\n",
    "# # use the bulk method to index all documents\n",
    "# response = bulk(es, actions=actions)"
   ]
  },
  {
   "cell_type": "code",
   "execution_count": 12,
   "metadata": {},
   "outputs": [
    {
     "name": "stderr",
     "output_type": "stream",
     "text": [
      "c:\\Users\\camil\\AppData\\Local\\Programs\\Python\\Python310\\lib\\site-packages\\elasticsearch\\connection\\base.py:200: ElasticsearchWarning: [types removal] Specifying types in bulk requests is deprecated.\n",
      "  warnings.warn(message, category=ElasticsearchWarning)\n"
     ]
    },
    {
     "data": {
      "text/plain": [
       "(2400, [])"
      ]
     },
     "execution_count": 12,
     "metadata": {},
     "output_type": "execute_result"
    }
   ],
   "source": [
    "def generate_data(data):\n",
    "    for docu in data:\n",
    "        yield {\n",
    "            \"_index\": \"billboard\",\n",
    "            \"_type\": \"song\",\n",
    "            \"_source\": {k:v if v else None for k,v in docu.items()},\n",
    "        }\n",
    "\n",
    "bulk(es, generate_data(data))"
   ]
  },
  {
   "cell_type": "code",
   "execution_count": 20,
   "metadata": {},
   "outputs": [
    {
     "data": {
      "text/plain": [
       "{'took': 0,\n",
       " 'timed_out': False,\n",
       " '_shards': {'total': 1, 'successful': 1, 'skipped': 0, 'failed': 0},\n",
       " 'hits': {'total': {'value': 2400, 'relation': 'eq'},\n",
       "  'max_score': 1.0,\n",
       "  'hits': [{'_index': 'billboard',\n",
       "    '_type': 'song',\n",
       "    '_id': 'wasuW4YBxD1DNUC-qFhN',\n",
       "    '_score': 1.0,\n",
       "    '_source': {'Title': 'Anti-Hero',\n",
       "     'Artist': 'Taylor Swift',\n",
       "     'Rank': 1,\n",
       "     'Last Week': '2',\n",
       "     'Peak Positon': 1,\n",
       "     'Weeks on charts': 4,\n",
       "     'Date': '26/11/2022'}},\n",
       "   {'_index': 'billboard',\n",
       "    '_type': 'song',\n",
       "    '_id': 'wqsuW4YBxD1DNUC-qFhN',\n",
       "    '_score': 1.0,\n",
       "    '_source': {'Title': 'Unholy',\n",
       "     'Artist': 'Sam Smith & Kim Petras',\n",
       "     'Rank': 2,\n",
       "     'Last Week': '4',\n",
       "     'Peak Positon': 1,\n",
       "     'Weeks on charts': 8,\n",
       "     'Date': '26/11/2022'}},\n",
       "   {'_index': 'billboard',\n",
       "    '_type': 'song',\n",
       "    '_id': 'w6suW4YBxD1DNUC-qFhN',\n",
       "    '_score': 1.0,\n",
       "    '_source': {'Title': 'Rich Flex',\n",
       "     'Artist': 'Drake & 21 Savage',\n",
       "     'Rank': 3,\n",
       "     'Last Week': '1',\n",
       "     'Peak Positon': 1,\n",
       "     'Weeks on charts': 2,\n",
       "     'Date': '26/11/2022'}},\n",
       "   {'_index': 'billboard',\n",
       "    '_type': 'song',\n",
       "    '_id': 'xKsuW4YBxD1DNUC-qFhN',\n",
       "    '_score': 1.0,\n",
       "    '_source': {'Title': \"I'm Good (Blue)\",\n",
       "     'Artist': 'David Guetta & Bebe Rexha',\n",
       "     'Rank': 4,\n",
       "     'Last Week': '11',\n",
       "     'Peak Positon': 2,\n",
       "     'Weeks on charts': 12,\n",
       "     'Date': '26/11/2022'}},\n",
       "   {'_index': 'billboard',\n",
       "    '_type': 'song',\n",
       "    '_id': 'xasuW4YBxD1DNUC-qFhN',\n",
       "    '_score': 1.0,\n",
       "    '_source': {'Title': 'Calm Down',\n",
       "     'Artist': 'Rema & Selena Gomez',\n",
       "     'Rank': 5,\n",
       "     'Last Week': '20',\n",
       "     'Peak Positon': 5,\n",
       "     'Weeks on charts': 20,\n",
       "     'Date': '26/11/2022'}},\n",
       "   {'_index': 'billboard',\n",
       "    '_type': 'song',\n",
       "    '_id': 'xqsuW4YBxD1DNUC-qFhN',\n",
       "    '_score': 1.0,\n",
       "    '_source': {'Title': 'As It Was',\n",
       "     'Artist': 'Harry Styles',\n",
       "     'Rank': 6,\n",
       "     'Last Week': '16',\n",
       "     'Peak Positon': 1,\n",
       "     'Weeks on charts': 33,\n",
       "     'Date': '26/11/2022'}},\n",
       "   {'_index': 'billboard',\n",
       "    '_type': 'song',\n",
       "    '_id': 'x6suW4YBxD1DNUC-qFhN',\n",
       "    '_score': 1.0,\n",
       "    '_source': {'Title': 'Lift Me Up',\n",
       "     'Artist': 'Rihanna',\n",
       "     'Rank': 7,\n",
       "     'Last Week': '23',\n",
       "     'Peak Positon': 3,\n",
       "     'Weeks on charts': 3,\n",
       "     'Date': '26/11/2022'}},\n",
       "   {'_index': 'billboard',\n",
       "    '_type': 'song',\n",
       "    '_id': 'yKsuW4YBxD1DNUC-qFhN',\n",
       "    '_score': 1.0,\n",
       "    '_source': {'Title': 'Under The Influence',\n",
       "     'Artist': 'Chris Brown',\n",
       "     'Rank': 8,\n",
       "     'Last Week': '18',\n",
       "     'Peak Positon': 3,\n",
       "     'Weeks on charts': 17,\n",
       "     'Date': '26/11/2022'}},\n",
       "   {'_index': 'billboard',\n",
       "    '_type': 'song',\n",
       "    '_id': 'yasuW4YBxD1DNUC-qFhN',\n",
       "    '_score': 1.0,\n",
       "    '_source': {'Title': 'La Bachata',\n",
       "     'Artist': 'Manuel Turizo',\n",
       "     'Rank': 9,\n",
       "     'Last Week': '22',\n",
       "     'Peak Positon': 6,\n",
       "     'Weeks on charts': 19,\n",
       "     'Date': '26/11/2022'}},\n",
       "   {'_index': 'billboard',\n",
       "    '_type': 'song',\n",
       "    '_id': 'yqsuW4YBxD1DNUC-qFhN',\n",
       "    '_score': 1.0,\n",
       "    '_source': {'Title': 'Made You Look',\n",
       "     'Artist': 'Meghan Trainor',\n",
       "     'Rank': 10,\n",
       "     'Last Week': '37',\n",
       "     'Peak Positon': 10,\n",
       "     'Weeks on charts': 4,\n",
       "     'Date': '26/11/2022'}}]}}"
      ]
     },
     "execution_count": 20,
     "metadata": {},
     "output_type": "execute_result"
    }
   ],
   "source": [
    "result = es.search(index=\"billboard\", query= {\"match_all\": {}})\n",
    "result"
   ]
  },
  {
   "cell_type": "code",
   "execution_count": 21,
   "metadata": {},
   "outputs": [
    {
     "data": {
      "text/plain": [
       "'2400 documents correspondent à la requêtes qui a pris 0 ms'"
      ]
     },
     "execution_count": 21,
     "metadata": {},
     "output_type": "execute_result"
    }
   ],
   "source": [
    "N_DOCS = result['hits']['total']['value']\n",
    "f\"{N_DOCS} document{'s' if N_DOCS> 1 else '' } correspondent à la requêtes qui a pris {result['took']} ms\""
   ]
  },
  {
   "cell_type": "code",
   "execution_count": 14,
   "metadata": {},
   "outputs": [
    {
     "name": "stdout",
     "output_type": "stream",
     "text": [
      "health status index                    uuid                   pri rep docs.count docs.deleted store.size pri.store.size\n",
      "green  open   .kibana_task_manager_1   EXIwN7TRSVqNquk2ayLb4A   1   0          2            1     16.8kb         16.8kb\n",
      "green  open   .apm-agent-configuration UL5dxL77QXCnt2-BKIT2aQ   1   0          0            0       283b           283b\n",
      "yellow open   billboard                2vrh2HRMRUWtqJwXYWhJ6w   1   1          0            0    128.1kb        128.1kb\n",
      "green  open   .kibana_1                jodusnl1QCuev0azrBTcxg   1   0         19            8       79kb           79kb\n"
     ]
    },
    {
     "name": "stderr",
     "output_type": "stream",
     "text": [
      "  % Total    % Received % Xferd  Average Speed   Time    Time     Time  Current\n",
      "                                 Dload  Upload   Total   Spent    Left  Speed\n",
      "\n",
      "  0     0    0     0    0     0      0      0 --:--:-- --:--:-- --:--:--     0\n",
      "100   600  100   600    0     0  54107      0 --:--:-- --:--:-- --:--:-- 60000\n",
      "curl: (3) URL using bad/illegal format or missing URL\n",
      "  % Total    % Received % Xferd  Average Speed   Time    Time     Time  Current\n",
      "                                 Dload  Upload   Total   Spent    Left  Speed\n",
      "\n",
      "  0     0    0     0    0     0      0      0 --:--:-- --:--:-- --:--:--     0\n",
      "  0     0    0     0    0     0      0      0 --:--:--  0:00:01 --:--:--     0\n",
      "  0     0    0     0    0     0      0      0 --:--:--  0:00:02 --:--:--     0curl: (6) Could not resolve host: elasticsearch\n"
     ]
    }
   ],
   "source": [
    "!curl http://localhost:9200/_cat/indices?v #!curl http://elasticsearch:9200/_cat/indices?v"
   ]
  },
  {
   "cell_type": "code",
   "execution_count": 15,
   "metadata": {},
   "outputs": [
    {
     "name": "stdout",
     "output_type": "stream",
     "text": [
      "{\"took\":0,\"timed_out\":false,\"_shards\":{\"total\":1,\"successful\":1,\"skipped\":0,\"failed\":0},\"hits\":{\"total\":{\"value\":2400,\"relation\":\"eq\"},\"max_score\":1.0,\"hits\":[{\"_index\":\"billboard\",\"_type\":\"song\",\"_id\":\"wasuW4YBxD1DNUC-qFhN\",\"_score\":1.0,\"_source\":{\"Title\":\"Anti-Hero\",\"Artist\":\"Taylor Swift\",\"Rank\":1,\"Last Week\":\"2\",\"Peak Positon\":1,\"Weeks on charts\":4,\"Date\":\"26/11/2022\"}},{\"_index\":\"billboard\",\"_type\":\"song\",\"_id\":\"wqsuW4YBxD1DNUC-qFhN\",\"_score\":1.0,\"_source\":{\"Title\":\"Unholy\",\"Artist\":\"Sam Smith & Kim Petras\",\"Rank\":2,\"Last Week\":\"4\",\"Peak Positon\":1,\"Weeks on charts\":8,\"Date\":\"26/11/2022\"}},{\"_index\":\"billboard\",\"_type\":\"song\",\"_id\":\"w6suW4YBxD1DNUC-qFhN\",\"_score\":1.0,\"_source\":{\"Title\":\"Rich Flex\",\"Artist\":\"Drake & 21 Savage\",\"Rank\":3,\"Last Week\":\"1\",\"Peak Positon\":1,\"Weeks on charts\":2,\"Date\":\"26/11/2022\"}},{\"_index\":\"billboard\",\"_type\":\"song\",\"_id\":\"xKsuW4YBxD1DNUC-qFhN\",\"_score\":1.0,\"_source\":{\"Title\":\"I'm Good (Blue)\",\"Artist\":\"David Guetta & Bebe Rexha\",\"Rank\":4,\"Last Week\":\"11\",\"Peak Positon\":2,\"Weeks on charts\":12,\"Date\":\"26/11/2022\"}},{\"_index\":\"billboard\",\"_type\":\"song\",\"_id\":\"xasuW4YBxD1DNUC-qFhN\",\"_score\":1.0,\"_source\":{\"Title\":\"Calm Down\",\"Artist\":\"Rema & Selena Gomez\",\"Rank\":5,\"Last Week\":\"20\",\"Peak Positon\":5,\"Weeks on charts\":20,\"Date\":\"26/11/2022\"}},{\"_index\":\"billboard\",\"_type\":\"song\",\"_id\":\"xqsuW4YBxD1DNUC-qFhN\",\"_score\":1.0,\"_source\":{\"Title\":\"As It Was\",\"Artist\":\"Harry Styles\",\"Rank\":6,\"Last Week\":\"16\",\"Peak Positon\":1,\"Weeks on charts\":33,\"Date\":\"26/11/2022\"}},{\"_index\":\"billboard\",\"_type\":\"song\",\"_id\":\"x6suW4YBxD1DNUC-qFhN\",\"_score\":1.0,\"_source\":{\"Title\":\"Lift Me Up\",\"Artist\":\"Rihanna\",\"Rank\":7,\"Last Week\":\"23\",\"Peak Positon\":3,\"Weeks on charts\":3,\"Date\":\"26/11/2022\"}},{\"_index\":\"billboard\",\"_type\":\"song\",\"_id\":\"yKsuW4YBxD1DNUC-qFhN\",\"_score\":1.0,\"_source\":{\"Title\":\"Under The Influence\",\"Artist\":\"Chris Brown\",\"Rank\":8,\"Last Week\":\"18\",\"Peak Positon\":3,\"Weeks on charts\":17,\"Date\":\"26/11/2022\"}},{\"_index\":\"billboard\",\"_type\":\"song\",\"_id\":\"yasuW4YBxD1DNUC-qFhN\",\"_score\":1.0,\"_source\":{\"Title\":\"La Bachata\",\"Artist\":\"Manuel Turizo\",\"Rank\":9,\"Last Week\":\"22\",\"Peak Positon\":6,\"Weeks on charts\":19,\"Date\":\"26/11/2022\"}},{\"_index\":\"billboard\",\"_type\":\"song\",\"_id\":\"yqsuW4YBxD1DNUC-qFhN\",\"_score\":1.0,\"_source\":{\"Title\":\"Made You Look\",\"Artist\":\"Meghan Trainor\",\"Rank\":10,\"Last Week\":\"37\",\"Peak Positon\":10,\"Weeks on charts\":4,\"Date\":\"26/11/2022\"}}]}}\n"
     ]
    },
    {
     "name": "stderr",
     "output_type": "stream",
     "text": [
      "  % Total    % Received % Xferd  Average Speed   Time    Time     Time  Current\n",
      "                                 Dload  Upload   Total   Spent    Left  Speed\n",
      "\n",
      "  0     0    0     0    0     0      0      0 --:--:-- --:--:-- --:--:--     0\n",
      "100  2406  100  2406    0     0   453k      0 --:--:-- --:--:-- --:--:--  587k\n",
      "curl: (3) URL using bad/illegal format or missing URL\n",
      "  % Total    % Received % Xferd  Average Speed   Time    Time     Time  Current\n",
      "                                 Dload  Upload   Total   Spent    Left  Speed\n",
      "\n",
      "  0     0    0     0    0     0      0      0 --:--:-- --:--:-- --:--:--     0\n",
      "  0     0    0     0    0     0      0      0 --:--:-- --:--:-- --:--:--     0\n",
      "  0     0    0     0    0     0      0      0 --:--:--  0:00:01 --:--:--     0curl: (6) Could not resolve host: elasticsearch\n"
     ]
    }
   ],
   "source": [
    "!curl http://localhost:9200/billboard/_search #!curl http://elasticsearch:9200/movies/_search"
   ]
  },
  {
   "cell_type": "code",
   "execution_count": 16,
   "metadata": {},
   "outputs": [],
   "source": [
    "# res = es.index(index=\"algorithms\", doc_type='billboard', id=1, body=data)\n",
    "# print(res['result'])"
   ]
  },
  {
   "cell_type": "code",
   "execution_count": 17,
   "metadata": {},
   "outputs": [],
   "source": [
    "# Define the Elasticsearch document\n",
    "class MyDocument(Document):\n",
    "    title = Text()\n",
    "    artist = Text()\n",
    "    rank = Integer()\n",
    "    class Meta:\n",
    "        index = \"your_index\"\n"
   ]
  },
  {
   "cell_type": "code",
   "execution_count": 18,
   "metadata": {},
   "outputs": [],
   "source": [
    "# # Transfer the data from MongoDB to Elasticsearch\n",
    "# for document in collection.find():\n",
    "#     doc = MyDocument(meta={\"id\": document[\"_id\"]}, title=document[\"Title\"], artist=document[\"Artist\"],rank=document[\"Rank\"])\n",
    "#     doc.save(using=es)"
   ]
  }
 ],
 "metadata": {
  "kernelspec": {
   "display_name": "Python 3",
   "language": "python",
   "name": "python3"
  },
  "language_info": {
   "codemirror_mode": {
    "name": "ipython",
    "version": 3
   },
   "file_extension": ".py",
   "mimetype": "text/x-python",
   "name": "python",
   "nbconvert_exporter": "python",
   "pygments_lexer": "ipython3",
   "version": "3.10.2"
  },
  "orig_nbformat": 4,
  "vscode": {
   "interpreter": {
    "hash": "680909a85cd0f96ba1c50ae49c7276dc4874e63b5fd1d1624a0b59680dc2cd74"
   }
  }
 },
 "nbformat": 4,
 "nbformat_minor": 2
}
