{
 "cells": [
  {
   "cell_type": "code",
   "execution_count": 151,
   "metadata": {},
   "outputs": [],
   "source": [
    "from selenium import webdriver\n",
    "from webdriver_manager.chrome import ChromeDriverManager\n",
    "from selenium.webdriver.support.wait import WebDriverWait \n",
    "from selenium.webdriver.chrome.service import Service\n",
    "from selenium.webdriver.common.keys import Keys\n",
    "from selenium.webdriver.common.by import By\n",
    "import time \n",
    "import pandas as pd\n",
    "import pymongo\n",
    "from pymongo import MongoClient\n",
    "from elasticsearch import Elasticsearch\n",
    "from elasticsearch_dsl import Document, Text, Integer\n",
    "from elasticsearch.helpers import bulk\n",
    "import numpy as np"
   ]
  },
  {
   "cell_type": "code",
   "execution_count": 152,
   "metadata": {},
   "outputs": [],
   "source": [
    "# driver_genius = webdriver.Chrome(ChromeDriverManager().install())\n",
    "# ouvrir le site et accepter les cookies\n",
    "# driver_genius.get(\"https://genius.com/Miley-cyrus-flowers-lyrics\")\n",
    "# driver_genius.find_element(By.XPATH,\"/html/body/div[2]/div[3]/div[1]/div/div[2]/div/button[1]\").click()\n",
    "# driver_genius.find_element(By.CSS_SELECTOR,\"SongInfo__Title-nekw6x-1 iRKrFW\").text\n",
    "# for i in range(len(genius)):\n",
    "\n",
    "#     # activer la recherche\n",
    "#     element = driver_genius.find_element(By.XPATH,\"/html/body/div[1]/div/div[1]/div[1]/form/input\")\n",
    "#     element.send_keys(genius[i][0]+' '+genius[i][1], Keys.ENTER)\n",
    "\n",
    "\n",
    "#     # clicker sur la chanson\n",
    "#     driver_genius.find_element(By.XPATH,\"/html/body/routable-page/ng-outlet/search-results-page/div/div[2]/div[1]/div[1]/search-result-section/div/div[2]/search-result-items/div/search-result-item/div/mini-song-card/a/div[2]\").click()\n",
    "#     # date = driver_genius.find_element(By.XPATH,\"/html/body/div[1]/main/div[1]/div[4]/div/div[1]/div[2]/div\")\n",
    "#     # print(date.text)\n",
    "#     # print(driver_genius.find_element(By.XPATH, \"/html/body/div[1]/main/div[1]/div[4]/div/div[1]/div[2]/div\").text)\n",
    "#     print(i)\n",
    "#     driver_genius.get(\"https://genius.com/\")\n",
    "#     # on revient à l'accueil\n",
    "#     driver_genius.back()\n",
    "#     driver_genius.back()\n",
    "\n",
    "\n",
    "#     WebDriverWait(driver_genius, timeout=10)\n",
    "# time.sleep(100)\n"
   ]
  },
  {
   "cell_type": "code",
   "execution_count": 153,
   "metadata": {},
   "outputs": [
    {
     "name": "stdout",
     "output_type": "stream",
     "text": [
      "<class 'pandas.core.frame.DataFrame'>\n",
      "RangeIndex: 4200 entries, 0 to 4199\n",
      "Data columns (total 7 columns):\n",
      " #   Column           Non-Null Count  Dtype \n",
      "---  ------           --------------  ----- \n",
      " 0   Title            4200 non-null   object\n",
      " 1   Artist           4200 non-null   object\n",
      " 2   Rank             4200 non-null   int64 \n",
      " 3   Last Week        4200 non-null   object\n",
      " 4   Peak Positon     4200 non-null   int64 \n",
      " 5   Weeks on charts  4200 non-null   int64 \n",
      " 6   Date             4200 non-null   object\n",
      "dtypes: int64(3), object(4)\n",
      "memory usage: 229.8+ KB\n"
     ]
    }
   ],
   "source": [
    "df = pd.read_csv('dataframe.csv',delimiter=';')\n",
    "df.info()"
   ]
  },
  {
   "cell_type": "code",
   "execution_count": 154,
   "metadata": {},
   "outputs": [
    {
     "data": {
      "text/plain": [
       "0         0\n",
       "1         4\n",
       "2         2\n",
       "3         1\n",
       "4         3\n",
       "       ... \n",
       "4195    193\n",
       "4196    174\n",
       "4197      0\n",
       "4198    181\n",
       "4199      0\n",
       "Name: Last Week, Length: 4200, dtype: object"
      ]
     },
     "execution_count": 154,
     "metadata": {},
     "output_type": "execute_result"
    }
   ],
   "source": [
    "df['Last Week'] = df['Last Week'].replace(\"-\",0)\n",
    "df['Last Week']"
   ]
  },
  {
   "cell_type": "code",
   "execution_count": 155,
   "metadata": {},
   "outputs": [
    {
     "name": "stdout",
     "output_type": "stream",
     "text": [
      "<class 'pandas.core.frame.DataFrame'>\n",
      "RangeIndex: 4200 entries, 0 to 4199\n",
      "Data columns (total 7 columns):\n",
      " #   Column           Non-Null Count  Dtype         \n",
      "---  ------           --------------  -----         \n",
      " 0   Title            4200 non-null   object        \n",
      " 1   Artist           4200 non-null   object        \n",
      " 2   Rank             4200 non-null   int64         \n",
      " 3   Last Week        4200 non-null   int64         \n",
      " 4   Peak Positon     4200 non-null   int64         \n",
      " 5   Weeks on charts  4200 non-null   int64         \n",
      " 6   Date             4200 non-null   datetime64[ns]\n",
      "dtypes: datetime64[ns](1), int64(4), object(2)\n",
      "memory usage: 229.8+ KB\n"
     ]
    }
   ],
   "source": [
    "df['Last Week']= df['Last Week'].astype('int64')\n",
    "df['Date']=pd.to_datetime(df['Date'])\n",
    "df.info()"
   ]
  },
  {
   "cell_type": "code",
   "execution_count": 156,
   "metadata": {},
   "outputs": [],
   "source": [
    "data = df.to_dict('records')\n",
    "# data = df.to_json(date_format='dd/mm/yyyy',orient='records')\n",
    "# data"
   ]
  },
  {
   "cell_type": "code",
   "execution_count": 157,
   "metadata": {},
   "outputs": [],
   "source": [
    "# client = MongoClient(\"mongodb://localhost:27017/\")\n",
    "# db = client[\"mydatabase\"]\n",
    "# collection = db[\"mycollection\"]\n",
    "\n",
    "# print(client.list_database_names())\n",
    "# print(db.list_collection_names())\n",
    "# client.drop_database(db)\n",
    "# collection.drop()\n",
    "# print(client.list_database_names())\n",
    "# print(db.list_collection_names())\n",
    "\n",
    "# db = client[\"mydatabase\"]\n",
    "# collection = db[\"mycollection\"]\n",
    "# print(type(client))\n",
    "# print(type(db))\n",
    "# print(collection)\n",
    "\n",
    "# collection.insert_many(data)\n",
    "# collection.find_one()\n",
    "\n",
    "# cursor = collection.find()\n",
    "# # next(cursor)\n",
    "# for document in cursor :\n",
    "#     # print('-----')\n",
    "#     print(document)"
   ]
  },
  {
   "cell_type": "code",
   "execution_count": 158,
   "metadata": {},
   "outputs": [],
   "source": [
    "es = Elasticsearch([{'host': 'localhost', 'port': 9200,\"scheme\": \"http\"}])"
   ]
  },
  {
   "cell_type": "code",
   "execution_count": 159,
   "metadata": {},
   "outputs": [
    {
     "data": {
      "text/plain": [
       "True"
      ]
     },
     "execution_count": 159,
     "metadata": {},
     "output_type": "execute_result"
    }
   ],
   "source": [
    "es.ping()"
   ]
  },
  {
   "cell_type": "code",
   "execution_count": 160,
   "metadata": {},
   "outputs": [],
   "source": [
    "# document = {\"Title\":\"Anti-Hero\",\"Artist\":\"Taylor Swift\",\"Rank\":1,\"Last Week\":\"2\",\"Peak Positon\":1,\"Weeks on charts\":4,\"Date\":\"26\\\\/11\\\\/2022\"}"
   ]
  },
  {
   "cell_type": "code",
   "execution_count": 161,
   "metadata": {},
   "outputs": [],
   "source": [
    "# response = es.index(index=\"billboard\", id=1 ,document=document)\n",
    "# response['result']\n",
    "# response"
   ]
  },
  {
   "cell_type": "code",
   "execution_count": 162,
   "metadata": {},
   "outputs": [],
   "source": [
    "# res = es.get(index=\"billboard\",id=1)\n",
    "# # pprint.pprint(res[\"_source\"])\n",
    "# res[\"_source\"]"
   ]
  },
  {
   "cell_type": "code",
   "execution_count": 163,
   "metadata": {},
   "outputs": [],
   "source": [
    "# # define the index name and document type\n",
    "# index_name = 'billboard'\n",
    "# doc_type = '_doc'\n",
    "\n",
    "# # define the action list to be passed to the bulk method\n",
    "# actions = [\n",
    "#     {\n",
    "#         '_index': index_name,\n",
    "#         '_type': doc_type,\n",
    "#         '_source': data\n",
    "#     }\n",
    "#     for i in data\n",
    "# ]\n",
    "\n",
    "# # use the bulk method to index all documents\n",
    "# response = bulk(es, actions=actions)"
   ]
  },
  {
   "cell_type": "code",
   "execution_count": 164,
   "metadata": {},
   "outputs": [
    {
     "name": "stderr",
     "output_type": "stream",
     "text": [
      "C:\\Users\\camil\\AppData\\Local\\Temp\\ipykernel_8184\\1081182445.py:1: DeprecationWarning: Using positional arguments for APIs is deprecated and will be disabled in 8.0.0. Instead use only keyword arguments for all APIs. See https://github.com/elastic/elasticsearch-py/issues/1698 for more information\n",
      "  es.indices.exists('billboard')\n"
     ]
    },
    {
     "data": {
      "text/plain": [
       "True"
      ]
     },
     "execution_count": 164,
     "metadata": {},
     "output_type": "execute_result"
    }
   ],
   "source": [
    "es.indices.exists('billboard')"
   ]
  },
  {
   "cell_type": "code",
   "execution_count": 165,
   "metadata": {},
   "outputs": [
    {
     "name": "stderr",
     "output_type": "stream",
     "text": [
      "C:\\Users\\camil\\AppData\\Local\\Temp\\ipykernel_8184\\2795846709.py:9: DeprecationWarning: Using positional arguments for APIs is deprecated and will be disabled in 8.0.0. Instead use only keyword arguments for all APIs. See https://github.com/elastic/elasticsearch-py/issues/1698 for more information\n",
      "  if es.indices.exists('billboard')==True:\n",
      "c:\\Users\\camil\\AppData\\Local\\Programs\\Python\\Python310\\lib\\site-packages\\elasticsearch\\connection\\base.py:200: ElasticsearchWarning: [types removal] Specifying types in bulk requests is deprecated.\n",
      "  warnings.warn(message, category=ElasticsearchWarning)\n"
     ]
    }
   ],
   "source": [
    "def generate_data(data):\n",
    "    for docu in data:\n",
    "        yield {\n",
    "            \"_index\": \"billboard\",\n",
    "            \"_type\": \"song\",\n",
    "            \"_source\": {k:v if v else None for k,v in docu.items()},\n",
    "        }\n",
    "        \n",
    "if es.indices.exists('billboard')==True:\n",
    "    es.indices.delete(index='billboard')\n",
    "    bulk(es, generate_data(data))\n",
    "else :\n",
    "    bulk(es, generate_data(data))"
   ]
  },
  {
   "cell_type": "code",
   "execution_count": 166,
   "metadata": {},
   "outputs": [
    {
     "name": "stderr",
     "output_type": "stream",
     "text": [
      "C:\\Users\\camil\\AppData\\Local\\Temp\\ipykernel_8184\\1081182445.py:1: DeprecationWarning: Using positional arguments for APIs is deprecated and will be disabled in 8.0.0. Instead use only keyword arguments for all APIs. See https://github.com/elastic/elasticsearch-py/issues/1698 for more information\n",
      "  es.indices.exists('billboard')\n"
     ]
    },
    {
     "data": {
      "text/plain": [
       "True"
      ]
     },
     "execution_count": 166,
     "metadata": {},
     "output_type": "execute_result"
    }
   ],
   "source": [
    "es.indices.exists('billboard')"
   ]
  },
  {
   "cell_type": "code",
   "execution_count": 167,
   "metadata": {},
   "outputs": [
    {
     "data": {
      "text/plain": [
       "{'took': 0,\n",
       " 'timed_out': False,\n",
       " '_shards': {'total': 1, 'successful': 1, 'skipped': 0, 'failed': 0},\n",
       " 'hits': {'total': {'value': 0, 'relation': 'eq'},\n",
       "  'max_score': None,\n",
       "  'hits': []}}"
      ]
     },
     "execution_count": 167,
     "metadata": {},
     "output_type": "execute_result"
    }
   ],
   "source": [
    "result = es.search(index=\"billboard\", query= {\"match_all\": {}})\n",
    "result"
   ]
  },
  {
   "cell_type": "code",
   "execution_count": 168,
   "metadata": {},
   "outputs": [
    {
     "data": {
      "text/plain": [
       "'0 document correspondent à la requêtes qui a pris 0 ms'"
      ]
     },
     "execution_count": 168,
     "metadata": {},
     "output_type": "execute_result"
    }
   ],
   "source": [
    "N_DOCS = result['hits']['total']['value']\n",
    "f\"{N_DOCS} document{'s' if N_DOCS> 1 else '' } correspondent à la requêtes qui a pris {result['took']} ms\""
   ]
  },
  {
   "cell_type": "code",
   "execution_count": 169,
   "metadata": {},
   "outputs": [
    {
     "name": "stdout",
     "output_type": "stream",
     "text": [
      "health status index                    uuid                   pri rep docs.count docs.deleted store.size pri.store.size\n",
      "green  open   .kibana_task_manager_1   EXIwN7TRSVqNquk2ayLb4A   1   0          2            1     23.9kb         23.9kb\n",
      "green  open   .apm-agent-configuration UL5dxL77QXCnt2-BKIT2aQ   1   0          0            0       283b           283b\n",
      "yellow open   billboard                LZUeTCY5SKSpDT_vNeLexg   1   1       4200            0    555.4kb        555.4kb\n",
      "green  open   .kibana_1                jodusnl1QCuev0azrBTcxg   1   0         21            1       26kb           26kb\n"
     ]
    },
    {
     "name": "stderr",
     "output_type": "stream",
     "text": [
      "  % Total    % Received % Xferd  Average Speed   Time    Time     Time  Current\n",
      "                                 Dload  Upload   Total   Spent    Left  Speed\n",
      "\n",
      "  0     0    0     0    0     0      0      0 --:--:-- --:--:-- --:--:--     0\n",
      "100   600  100   600    0     0  23205      0 --:--:-- --:--:-- --:--:-- 24000\n",
      "curl: (3) URL using bad/illegal format or missing URL\n",
      "  % Total    % Received % Xferd  Average Speed   Time    Time     Time  Current\n",
      "                                 Dload  Upload   Total   Spent    Left  Speed\n",
      "\n",
      "  0     0    0     0    0     0      0      0 --:--:-- --:--:-- --:--:--     0\n",
      "  0     0    0     0    0     0      0      0 --:--:-- --:--:-- --:--:--     0\n",
      "  0     0    0     0    0     0      0      0 --:--:--  0:00:01 --:--:--     0curl: (6) Could not resolve host: elasticsearch\n"
     ]
    }
   ],
   "source": [
    "!curl http://localhost:9200/_cat/indices?v #!curl http://elasticsearch:9200/_cat/indices?v"
   ]
  },
  {
   "cell_type": "code",
   "execution_count": 170,
   "metadata": {},
   "outputs": [],
   "source": [
    "# cherche toutes les chansons avec pour artiste BLACKPINK\n",
    "QUERY = {\n",
    "    \"query\": {\n",
    "        \"term\": {\n",
    "            \"Artist.keyword\": \"BLACKPINK\"\n",
    "        }\n",
    "    }\n",
    "}"
   ]
  },
  {
   "cell_type": "code",
   "execution_count": 171,
   "metadata": {},
   "outputs": [
    {
     "name": "stderr",
     "output_type": "stream",
     "text": [
      "C:\\Users\\camil\\AppData\\Local\\Temp\\ipykernel_8184\\3680423717.py:1: DeprecationWarning: The 'body' parameter is deprecated for the 'search' API and will be removed in a future version. Instead use API parameters directly. See https://github.com/elastic/elasticsearch-py/issues/1698 for more information\n",
      "  result = es.search(index=\"billboard\", body=QUERY)\n"
     ]
    },
    {
     "data": {
      "text/plain": [
       "'51 documents correspondent à la requêtes qui a pris 48 ms'"
      ]
     },
     "execution_count": 171,
     "metadata": {},
     "output_type": "execute_result"
    }
   ],
   "source": [
    "result = es.search(index=\"billboard\", body=QUERY)\n",
    "N_DOCS = result['hits']['total']['value']\n",
    "f\"{N_DOCS} document{'s' if N_DOCS> 1 else '' } correspondent à la requêtes qui a pris {result['took']} ms\""
   ]
  },
  {
   "cell_type": "code",
   "execution_count": 172,
   "metadata": {},
   "outputs": [
    {
     "data": {
      "text/plain": [
       "{'Shut Down': 4,\n",
       " 'Pink Venom': 10,\n",
       " 'Typa Girl': 16,\n",
       " 'Hard To Love': 27,\n",
       " 'The Happiest Girl': 34,\n",
       " 'Yeah Yeah Yeah': 43,\n",
       " 'Tally': 52,\n",
       " 'Ready For Love': 60}"
      ]
     },
     "execution_count": 172,
     "metadata": {},
     "output_type": "execute_result"
    }
   ],
   "source": [
    "# affiche le titre et le rang pour le resultat de la requete\n",
    "{elt['_source']['Title']:elt['_source']['Rank'] for elt in result[\"hits\"][\"hits\"]}"
   ]
  },
  {
   "cell_type": "code",
   "execution_count": 173,
   "metadata": {},
   "outputs": [
    {
     "name": "stderr",
     "output_type": "stream",
     "text": [
      "C:\\Users\\camil\\AppData\\Local\\Temp\\ipykernel_8184\\1732994941.py:9: DeprecationWarning: The 'body' parameter is deprecated for the 'search' API and will be removed in a future version. Instead use API parameters directly. See https://github.com/elastic/elasticsearch-py/issues/1698 for more information\n",
      "  result = es.search(index=\"billboard\", body=QUERY)\n"
     ]
    },
    {
     "data": {
      "text/plain": [
       "'0 document correspondent à la requêtes qui a pris 0 ms'"
      ]
     },
     "execution_count": 173,
     "metadata": {},
     "output_type": "execute_result"
    }
   ],
   "source": [
    "# result['hits']['hits']\n",
    "QUERY = {\n",
    "    \"query\": {\n",
    "        \"term\": {\n",
    "            \"Title\": \"Christmas\"\n",
    "        }\n",
    "    }\n",
    "}\n",
    "result = es.search(index=\"billboard\", body=QUERY)\n",
    "N_DOCS = result['hits']['total']['value']\n",
    "f\"{N_DOCS} document{'s' if N_DOCS> 1 else '' } correspondent à la requêtes qui a pris {result['took']} ms\""
   ]
  },
  {
   "cell_type": "code",
   "execution_count": 194,
   "metadata": {},
   "outputs": [
    {
     "name": "stderr",
     "output_type": "stream",
     "text": [
      "C:\\Users\\camil\\AppData\\Local\\Temp\\ipykernel_8184\\431253462.py:14: DeprecationWarning: The 'body' parameter is deprecated for the 'search' API and will be removed in a future version. Instead use API parameters directly. See https://github.com/elastic/elasticsearch-py/issues/1698 for more information\n",
      "  result = es.search(index=\"billboard\", body=QUERY)\n"
     ]
    },
    {
     "data": {
      "text/plain": [
       "[{'key': 'Taylor Swift', 'doc_count': 150},\n",
       " {'key': 'Bad Bunny', 'doc_count': 102},\n",
       " {'key': 'Ed Sheeran', 'doc_count': 95},\n",
       " {'key': 'SZA', 'doc_count': 89},\n",
       " {'key': 'The Weeknd', 'doc_count': 79},\n",
       " {'key': 'Eminem', 'doc_count': 72},\n",
       " {'key': 'Harry Styles', 'doc_count': 59},\n",
       " {'key': 'Arctic Monkeys', 'doc_count': 56},\n",
       " {'key': 'BLACKPINK', 'doc_count': 51},\n",
       " {'key': 'Drake & 21 Savage', 'doc_count': 51}]"
      ]
     },
     "execution_count": 194,
     "metadata": {},
     "output_type": "execute_result"
    }
   ],
   "source": [
    "# affiche les top 10 d'artistes qui ont le plus de chansons dans le billboard\n",
    "QUERY ={\n",
    "  \"aggs\": {\n",
    "    \"artist\": {\n",
    "      \"terms\": {\n",
    "        \"field\": \"Artist.keyword\",\n",
    "      }\n",
    "    }\n",
    "  }\n",
    "}\n",
    "result = es.search(index=\"billboard\", body=QUERY)\n",
    "result[\"aggregations\"][\"artist\"][\"buckets\"]"
   ]
  },
  {
   "cell_type": "code",
   "execution_count": null,
   "metadata": {},
   "outputs": [],
   "source": [
    "{\n",
    "  \"aggs\": {\n",
    "    \"genres\": {\n",
    "      \"terms\": {\n",
    "        \"field\": \"genre.keyword\"\n",
    "      },\n",
    "      \"aggs\": {\n",
    "        \"avg_rating\": {\n",
    "          \"avg\": {\n",
    "            \"field\": \"rating\"\n",
    "          }\n",
    "        },\n",
    "        \"sales\": {\n",
    "          \"sum\": {\n",
    "            \"field\": \"sales\"\n",
    "          }\n",
    "        }\n",
    "      }\n",
    "    }\n",
    "  }\n",
    "}\n"
   ]
  },
  {
   "cell_type": "code",
   "execution_count": 198,
   "metadata": {},
   "outputs": [
    {
     "name": "stderr",
     "output_type": "stream",
     "text": [
      "C:\\Users\\camil\\AppData\\Local\\Temp\\ipykernel_8184\\3956439160.py:19: DeprecationWarning: The 'body' parameter is deprecated for the 'search' API and will be removed in a future version. Instead use API parameters directly. See https://github.com/elastic/elasticsearch-py/issues/1698 for more information\n",
      "  result = es.search(index=\"billboard\", body=QUERY)\n"
     ]
    },
    {
     "data": {
      "text/plain": [
       "[{'key_as_string': '2022-10-01T00:00:00.000Z',\n",
       "  'key': 1664582400000,\n",
       "  'doc_count': 1000,\n",
       "  'title': {'doc_count_error_upper_bound': 0,\n",
       "   'sum_other_doc_count': 950,\n",
       "   'buckets': [{'key': '2 Be Loved (Am I Ready)', 'doc_count': 5},\n",
       "    {'key': '505', 'doc_count': 5},\n",
       "    {'key': 'About Damn Time', 'doc_count': 5},\n",
       "    {'key': 'After Like', 'doc_count': 5},\n",
       "    {'key': \"All Too Well (Taylor's Version)\", 'doc_count': 5},\n",
       "    {'key': 'Another Love', 'doc_count': 5},\n",
       "    {'key': 'As It Was', 'doc_count': 5},\n",
       "    {'key': 'Atlantis', 'doc_count': 5},\n",
       "    {'key': 'B.O.T.A. (Baddest Of Them All)', 'doc_count': 5},\n",
       "    {'key': 'Baby Shark', 'doc_count': 5}]}},\n",
       " {'key_as_string': '2022-11-01T00:00:00.000Z',\n",
       "  'key': 1667260800000,\n",
       "  'doc_count': 800,\n",
       "  'title': {'doc_count_error_upper_bound': 0,\n",
       "   'sum_other_doc_count': 755,\n",
       "   'buckets': [{'key': 'Miss You', 'doc_count': 7},\n",
       "    {'key': 'Die For You', 'doc_count': 6},\n",
       "    {'key': '505', 'doc_count': 4},\n",
       "    {'key': 'About Damn Time', 'doc_count': 4},\n",
       "    {'key': 'After Like', 'doc_count': 4},\n",
       "    {'key': 'Another Love', 'doc_count': 4},\n",
       "    {'key': 'Anti-Hero', 'doc_count': 4},\n",
       "    {'key': 'Antifragile', 'doc_count': 4},\n",
       "    {'key': 'As It Was', 'doc_count': 4},\n",
       "    {'key': 'B.O.T.A. (Baddest Of Them All)', 'doc_count': 4}]}},\n",
       " {'key_as_string': '2022-12-01T00:00:00.000Z',\n",
       "  'key': 1669852800000,\n",
       "  'doc_count': 1000,\n",
       "  'title': {'doc_count_error_upper_bound': 0,\n",
       "   'sum_other_doc_count': 941,\n",
       "   'buckets': [{'key': 'Die For You', 'doc_count': 9},\n",
       "    {'key': 'Have Yourself A Merry Little Christmas', 'doc_count': 8},\n",
       "    {'key': 'Christmas (Baby Please Come Home)', 'doc_count': 6},\n",
       "    {'key': \"Santa Claus Is Comin' To Town\", 'doc_count': 6},\n",
       "    {'key': 'A Holly Jolly Christmas', 'doc_count': 5},\n",
       "    {'key': 'About Damn Time', 'doc_count': 5},\n",
       "    {'key': 'All I Want For Christmas Is You', 'doc_count': 5},\n",
       "    {'key': 'Another Love', 'doc_count': 5},\n",
       "    {'key': 'Anti-Hero', 'doc_count': 5},\n",
       "    {'key': 'Antifragile', 'doc_count': 5}]}},\n",
       " {'key_as_string': '2023-01-01T00:00:00.000Z',\n",
       "  'key': 1672531200000,\n",
       "  'doc_count': 1000,\n",
       "  'title': {'doc_count_error_upper_bound': 0,\n",
       "   'sum_other_doc_count': 950,\n",
       "   'buckets': [{'key': '10:35', 'doc_count': 5},\n",
       "    {'key': 'About Damn Time', 'doc_count': 5},\n",
       "    {'key': 'Another Love', 'doc_count': 5},\n",
       "    {'key': 'Anti-Hero', 'doc_count': 5},\n",
       "    {'key': 'Antifragile', 'doc_count': 5},\n",
       "    {'key': 'As It Was', 'doc_count': 5},\n",
       "    {'key': 'Baby Shark', 'doc_count': 5},\n",
       "    {'key': 'Bad Habit', 'doc_count': 5},\n",
       "    {'key': 'Bad Habits', 'doc_count': 5},\n",
       "    {'key': 'Believer', 'doc_count': 5}]}},\n",
       " {'key_as_string': '2023-02-01T00:00:00.000Z',\n",
       "  'key': 1675209600000,\n",
       "  'doc_count': 400,\n",
       "  'title': {'doc_count_error_upper_bound': 0,\n",
       "   'sum_other_doc_count': 380,\n",
       "   'buckets': [{'key': '10:35', 'doc_count': 2},\n",
       "    {'key': '505', 'doc_count': 2},\n",
       "    {'key': 'AMG', 'doc_count': 2},\n",
       "    {'key': 'About Damn Time', 'doc_count': 2},\n",
       "    {'key': 'Another Love', 'doc_count': 2},\n",
       "    {'key': 'Anti-Hero', 'doc_count': 2},\n",
       "    {'key': 'Antifragile', 'doc_count': 2},\n",
       "    {'key': 'As It Was', 'doc_count': 2},\n",
       "    {'key': 'Attention', 'doc_count': 2},\n",
       "    {'key': 'Baby Shark', 'doc_count': 2}]}}]"
      ]
     },
     "execution_count": 198,
     "metadata": {},
     "output_type": "execute_result"
    }
   ],
   "source": [
    "# chaque mois top des chansons qui apparaissent le plus sur le billbaord (pas en fonction de leur rang)\n",
    "QUERY = {\n",
    "  \"aggs\": {\n",
    "    \"song_by_month\": {\n",
    "      \"date_histogram\": {\n",
    "        \"field\": \"Date\",\n",
    "        \"calendar_interval\": \"month\"\n",
    "      },\n",
    "      \"aggs\": {\n",
    "        \"title\": {\n",
    "          \"terms\": {\n",
    "            \"field\": \"Title.keyword\"\n",
    "          }\n",
    "        }\n",
    "      }\n",
    "    }\n",
    "  }\n",
    "}\n",
    "result = es.search(index=\"billboard\", body=QUERY)\n",
    "result[\"aggregations\"][\"song_by_month\"][\"buckets\"]"
   ]
  },
  {
   "cell_type": "code",
   "execution_count": 175,
   "metadata": {},
   "outputs": [
    {
     "name": "stderr",
     "output_type": "stream",
     "text": [
      "C:\\Users\\camil\\AppData\\Local\\Temp\\ipykernel_8184\\1238742633.py:10: DeprecationWarning: The 'body' parameter is deprecated for the 'search' API and will be removed in a future version. Instead use API parameters directly. See https://github.com/elastic/elasticsearch-py/issues/1698 for more information\n",
      "  result = es.search(index=\"billboard\", body=QUERY)\n"
     ]
    },
    {
     "data": {
      "text/plain": [
       "{'value': 31.349047619047617}"
      ]
     },
     "execution_count": 175,
     "metadata": {},
     "output_type": "execute_result"
    }
   ],
   "source": [
    "QUERY= {\n",
    "  \"aggs\": {\n",
    "    \"avg_weeks_on_chart\": {\n",
    "      \"avg\": {\n",
    "        \"field\": \"Weeks on charts\"\n",
    "      }\n",
    "    }\n",
    "  }\n",
    "}\n",
    "result = es.search(index=\"billboard\", body=QUERY)\n",
    "result[\"aggregations\"][\"avg_weeks_on_chart\"]"
   ]
  },
  {
   "cell_type": "code",
   "execution_count": 176,
   "metadata": {},
   "outputs": [
    {
     "name": "stderr",
     "output_type": "stream",
     "text": [
      "C:\\Users\\camil\\AppData\\Local\\Temp\\ipykernel_8184\\2806668549.py:11: DeprecationWarning: The 'body' parameter is deprecated for the 'search' API and will be removed in a future version. Instead use API parameters directly. See https://github.com/elastic/elasticsearch-py/issues/1698 for more information\n",
      "  result = es.search(index=\"billboard\", body=QUERY)\n"
     ]
    },
    {
     "data": {
      "text/plain": [
       "{'buckets': [{'key_as_string': '2022-10-01T00:00:00.000Z',\n",
       "   'key': 1664582400000,\n",
       "   'doc_count': 1000},\n",
       "  {'key_as_string': '2022-11-01T00:00:00.000Z',\n",
       "   'key': 1667260800000,\n",
       "   'doc_count': 800},\n",
       "  {'key_as_string': '2022-12-01T00:00:00.000Z',\n",
       "   'key': 1669852800000,\n",
       "   'doc_count': 1000},\n",
       "  {'key_as_string': '2023-01-01T00:00:00.000Z',\n",
       "   'key': 1672531200000,\n",
       "   'doc_count': 1000},\n",
       "  {'key_as_string': '2023-02-01T00:00:00.000Z',\n",
       "   'key': 1675209600000,\n",
       "   'doc_count': 400}]}"
      ]
     },
     "execution_count": 176,
     "metadata": {},
     "output_type": "execute_result"
    }
   ],
   "source": [
    "QUERY = {\n",
    "  \"aggs\": {\n",
    "    \"top_song_per_month\": {\n",
    "      \"date_histogram\": {\n",
    "        \"field\": \"Date\",\n",
    "        \"calendar_interval\": \"month\"\n",
    "      }\n",
    "    }\n",
    "  }\n",
    "}\n",
    "result = es.search(index=\"billboard\", body=QUERY)\n",
    "result[\"aggregations\"][\"top_song_per_month\"]"
   ]
  },
  {
   "cell_type": "code",
   "execution_count": 177,
   "metadata": {},
   "outputs": [
    {
     "name": "stderr",
     "output_type": "stream",
     "text": [
      "C:\\Users\\camil\\AppData\\Local\\Temp\\ipykernel_8184\\2297239962.py:41: DeprecationWarning: The 'body' parameter is deprecated for the 'search' API and will be removed in a future version. Instead use API parameters directly. See https://github.com/elastic/elasticsearch-py/issues/1698 for more information\n",
      "  result = es.search(index=\"billboard\", body=QUERY)\n"
     ]
    },
    {
     "data": {
      "text/plain": [
       "[{'key': 'Die For You',\n",
       "  'doc_count': 27,\n",
       "  'artists': {'doc_count_error_upper_bound': 0,\n",
       "   'sum_other_doc_count': 0,\n",
       "   'buckets': [{'key': 'The Weeknd',\n",
       "     'doc_count': 21,\n",
       "     'unique_artists': {'value': 1}},\n",
       "    {'key': 'Joji', 'doc_count': 6, 'unique_artists': {'value': 1}}]}},\n",
       " {'key': 'Miss You',\n",
       "  'doc_count': 22,\n",
       "  'artists': {'doc_count_error_upper_bound': 0,\n",
       "   'sum_other_doc_count': 0,\n",
       "   'buckets': [{'key': 'Oliver Tree & Robin Schulz',\n",
       "     'doc_count': 18,\n",
       "     'unique_artists': {'value': 1}},\n",
       "    {'key': 'southstar', 'doc_count': 4, 'unique_artists': {'value': 1}}]}},\n",
       " {'key': 'About Damn Time',\n",
       "  'doc_count': 21,\n",
       "  'artists': {'doc_count_error_upper_bound': 0,\n",
       "   'sum_other_doc_count': 0,\n",
       "   'buckets': [{'key': 'Lizzo',\n",
       "     'doc_count': 21,\n",
       "     'unique_artists': {'value': 1}}]}},\n",
       " {'key': 'Another Love',\n",
       "  'doc_count': 21,\n",
       "  'artists': {'doc_count_error_upper_bound': 0,\n",
       "   'sum_other_doc_count': 0,\n",
       "   'buckets': [{'key': 'Tom Odell',\n",
       "     'doc_count': 21,\n",
       "     'unique_artists': {'value': 1}}]}},\n",
       " {'key': 'As It Was',\n",
       "  'doc_count': 21,\n",
       "  'artists': {'doc_count_error_upper_bound': 0,\n",
       "   'sum_other_doc_count': 0,\n",
       "   'buckets': [{'key': 'Harry Styles',\n",
       "     'doc_count': 21,\n",
       "     'unique_artists': {'value': 1}}]}},\n",
       " {'key': 'Baby Shark',\n",
       "  'doc_count': 21,\n",
       "  'artists': {'doc_count_error_upper_bound': 0,\n",
       "   'sum_other_doc_count': 0,\n",
       "   'buckets': [{'key': 'Pinkfong',\n",
       "     'doc_count': 21,\n",
       "     'unique_artists': {'value': 1}}]}},\n",
       " {'key': 'Bad Habit',\n",
       "  'doc_count': 21,\n",
       "  'artists': {'doc_count_error_upper_bound': 0,\n",
       "   'sum_other_doc_count': 0,\n",
       "   'buckets': [{'key': 'Steve Lacy',\n",
       "     'doc_count': 21,\n",
       "     'unique_artists': {'value': 1}}]}},\n",
       " {'key': 'Bad Habits',\n",
       "  'doc_count': 21,\n",
       "  'artists': {'doc_count_error_upper_bound': 0,\n",
       "   'sum_other_doc_count': 0,\n",
       "   'buckets': [{'key': 'Ed Sheeran',\n",
       "     'doc_count': 21,\n",
       "     'unique_artists': {'value': 1}}]}},\n",
       " {'key': 'Believer',\n",
       "  'doc_count': 21,\n",
       "  'artists': {'doc_count_error_upper_bound': 0,\n",
       "   'sum_other_doc_count': 0,\n",
       "   'buckets': [{'key': 'Imagine Dragons',\n",
       "     'doc_count': 21,\n",
       "     'unique_artists': {'value': 1}}]}},\n",
       " {'key': 'Blinding Lights',\n",
       "  'doc_count': 21,\n",
       "  'artists': {'doc_count_error_upper_bound': 0,\n",
       "   'sum_other_doc_count': 0,\n",
       "   'buckets': [{'key': 'The Weeknd',\n",
       "     'doc_count': 21,\n",
       "     'unique_artists': {'value': 1}}]}}]"
      ]
     },
     "execution_count": 177,
     "metadata": {},
     "output_type": "execute_result"
    }
   ],
   "source": [
    "# QUERY ={\n",
    "#   \"aggs\": {\n",
    "#     \"title\": {\n",
    "#       \"terms\": {\n",
    "#         \"field\": \"Title.keyword\"\n",
    "#       },\n",
    "#       \"aggs\": {\n",
    "#         \"artists\": {\n",
    "#           \"terms\": {\n",
    "#             \"field\": \"Artist.keyword\"\n",
    "#           }\n",
    "#         }\n",
    "#       }\n",
    "#     }\n",
    "#   }\n",
    "# }\n",
    "QUERY={\n",
    "  \"aggs\": {\n",
    "    \"title\": {\n",
    "      \"terms\": {\n",
    "        \"field\": \"Title.keyword\"\n",
    "      },\n",
    "      \"aggs\": {\n",
    "        \"artists\": {\n",
    "          \"terms\": {\n",
    "            \"field\": \"Artist.keyword\"\n",
    "          },\n",
    "          \"aggs\": {\n",
    "            \"unique_artists\": {\n",
    "              \"cardinality\": {\n",
    "                \"field\": \"Artist.keyword\"\n",
    "              }\n",
    "            }\n",
    "          }\n",
    "        }\n",
    "      }\n",
    "    }\n",
    "  }\n",
    "}\n",
    "\n",
    "result = es.search(index=\"billboard\", body=QUERY)\n",
    "result = result[\"aggregations\"][\"title\"][\"buckets\"]\n",
    "result"
   ]
  },
  {
   "cell_type": "code",
   "execution_count": 178,
   "metadata": {},
   "outputs": [
    {
     "name": "stdout",
     "output_type": "stream",
     "text": [
      "('Die For You', 27)\n",
      "('Miss You', 22)\n",
      "('About Damn Time', 21)\n",
      "('Another Love', 21)\n",
      "('As It Was', 21)\n",
      "('Baby Shark', 21)\n",
      "('Bad Habit', 21)\n",
      "('Bad Habits', 21)\n",
      "('Believer', 21)\n",
      "('Blinding Lights', 21)\n",
      "('The Weeknd', 21)\n",
      "('Joji', 6)\n",
      "('Oliver Tree & Robin Schulz', 18)\n",
      "('southstar', 4)\n",
      "('Lizzo', 21)\n",
      "('Tom Odell', 21)\n",
      "('Harry Styles', 21)\n",
      "('Pinkfong', 21)\n",
      "('Steve Lacy', 21)\n",
      "('Ed Sheeran', 21)\n",
      "('Imagine Dragons', 21)\n",
      "('The Weeknd', 21)\n"
     ]
    }
   ],
   "source": [
    "for i in range(len(result)):\n",
    "  title = result[i]['key'],result[i]['doc_count']\n",
    "  print(title)\n",
    "for i in range(len(result)):\n",
    "  artistesdict = result[i]['artists']['buckets']\n",
    "  for j in range(len(artistesdict)):\n",
    "    artiste = artistesdict[j]['key'],artistesdict[j]['doc_count']\n",
    "    print(artiste)"
   ]
  },
  {
   "cell_type": "code",
   "execution_count": 179,
   "metadata": {},
   "outputs": [],
   "source": [
    "# Define the Elasticsearch document\n",
    "class MyDocument(Document):\n",
    "    title = Text()\n",
    "    artist = Text()\n",
    "    rank = Integer()\n",
    "    class Meta:\n",
    "        index = \"your_index\"\n"
   ]
  },
  {
   "cell_type": "code",
   "execution_count": 180,
   "metadata": {},
   "outputs": [],
   "source": [
    "# # Transfer the data from MongoDB to Elasticsearch\n",
    "# for document in collection.find():\n",
    "#     doc = MyDocument(meta={\"id\": document[\"_id\"]}, title=document[\"Title\"], artist=document[\"Artist\"],rank=document[\"Rank\"])\n",
    "#     doc.save(using=es)"
   ]
  }
 ],
 "metadata": {
  "kernelspec": {
   "display_name": "Python 3",
   "language": "python",
   "name": "python3"
  },
  "language_info": {
   "codemirror_mode": {
    "name": "ipython",
    "version": 3
   },
   "file_extension": ".py",
   "mimetype": "text/x-python",
   "name": "python",
   "nbconvert_exporter": "python",
   "pygments_lexer": "ipython3",
   "version": "3.10.2"
  },
  "orig_nbformat": 4,
  "vscode": {
   "interpreter": {
    "hash": "680909a85cd0f96ba1c50ae49c7276dc4874e63b5fd1d1624a0b59680dc2cd74"
   }
  }
 },
 "nbformat": 4,
 "nbformat_minor": 2
}
