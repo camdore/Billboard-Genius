{
 "cells": [
  {
   "cell_type": "code",
   "execution_count": 2,
   "metadata": {},
   "outputs": [
    {
     "name": "stderr",
     "output_type": "stream",
     "text": [
      "C:\\Users\\Camille\\AppData\\Local\\Temp\\ipykernel_21528\\66893964.py:14: DeprecationWarning: executable_path has been deprecated, please pass in a Service object\n",
      "  driver = webdriver.Chrome(ChromeDriverManager().install())\n"
     ]
    }
   ],
   "source": [
    "from selenium import webdriver\n",
    "from webdriver_manager.chrome import ChromeDriverManager\n",
    "from selenium.webdriver.chrome.service import Service\n",
    "from bs4 import BeautifulSoup\n",
    "from selenium.webdriver.common.by import By\n",
    "import time \n",
    "import pandas as pd\n",
    "\n",
    "# Initialize the webdriver\n",
    "# de manière basique\n",
    "# driver = webdriver.Chrome()\n",
    "\n",
    "# avec ChromeDriverManager mieux car update du driver automatiquement\n",
    "driver = webdriver.Chrome(ChromeDriverManager().install())\n",
    "\n",
    "# si on a télécharger le driver directement dans le dossier \n",
    "# service = Service(executable_path=\"./chromedriver.exe\")\n",
    "# driver = webdriver.Chrome(service=service)"
   ]
  },
  {
   "cell_type": "code",
   "execution_count": 3,
   "metadata": {},
   "outputs": [],
   "source": [
    "# Navigate to the website\n",
    "# driver.get(\"https://www.billboard.com/charts/hot-100/\")\n",
    "driver.get(\"https://www.billboard.com/charts/billboard-global-200/\")\n",
    "\n",
    "# Wait for the page to load\n",
    "driver.implicitly_wait(10)\n",
    "\n",
    "# reject all cookies\n",
    "driver.find_element(By.XPATH,\"/html/body/div[6]/div[2]/div/div/div[2]/div/div/button[1]\").click()"
   ]
  },
  {
   "cell_type": "code",
   "execution_count": 4,
   "metadata": {},
   "outputs": [],
   "source": [
    "iterateur = list(range(1,110,11))\n",
    "iterateur.remove(1)\n",
    "iterateur200 = list(range(1,220,11))\n",
    "iterateur200.remove(1)"
   ]
  },
  {
   "cell_type": "code",
   "execution_count": 5,
   "metadata": {},
   "outputs": [],
   "source": [
    "def scraper(list,xpath,iterateur,nb_max):\n",
    "    for i in range(2,nb_max):\n",
    "        if i not in iterateur : \n",
    "            WebElement = driver.find_element(By.XPATH,xpath%(i))\n",
    "            list.append(WebElement.text)\n",
    "\n",
    "    return list"
   ]
  },
  {
   "cell_type": "code",
   "execution_count": 6,
   "metadata": {},
   "outputs": [],
   "source": [
    "XpathTitle = \"/html/body/div[4]/main/div[2]/div[3]/div/div/div/div[2]/div[%d]/ul/li[4]/ul/li[1]/h3\"\n",
    "XpathArtist = \"/html/body/div[4]/main/div[2]/div[3]/div/div/div/div[2]/div[%d]/ul/li[4]/ul/li[1]/span\"\n",
    "XpathRank = \"/html/body/div[4]/main/div[2]/div[3]/div/div/div/div[2]/div[%d]/ul/li[1]/span \"\n",
    "XpathLastWeek = \"/html/body/div[4]/main/div[2]/div[3]/div/div/div/div[2]/div[%d]/ul/li[4]/ul/li[4]/span\"\n",
    "XpathPeakPosition = \"/html/body/div[4]/main/div[2]/div[3]/div/div/div/div[2]/div[%d]/ul/li[4]/ul/li[5]/span\"\n",
    "XpathWeeksOnChart = \"/html/body/div[4]/main/div[2]/div[3]/div/div/div/div[2]/div[%d]/ul/li[4]/ul/li[6]/span\""
   ]
  },
  {
   "cell_type": "code",
   "execution_count": 7,
   "metadata": {},
   "outputs": [],
   "source": [
    "allXpath = [XpathTitle,XpathArtist,XpathRank,XpathLastWeek,XpathPeakPosition,XpathWeeksOnChart]"
   ]
  },
  {
   "cell_type": "code",
   "execution_count": 8,
   "metadata": {},
   "outputs": [],
   "source": [
    "title,artist,rank,last_week,peak_pos,weeks_on_chart = [],[],[],[],[],[]\n",
    "allList = [title,artist,rank,last_week,peak_pos,weeks_on_chart]"
   ]
  },
  {
   "cell_type": "code",
   "execution_count": 9,
   "metadata": {},
   "outputs": [],
   "source": [
    "# for i, j in zip(allList, allXpath):\n",
    "#     i = scraper(i,j,iterateur200,221)"
   ]
  },
  {
   "cell_type": "code",
   "execution_count": 10,
   "metadata": {},
   "outputs": [],
   "source": [
    "i = [scraper(i,j,iterateur200,221) for i, j in zip(allList, allXpath)]"
   ]
  },
  {
   "cell_type": "code",
   "execution_count": null,
   "metadata": {},
   "outputs": [],
   "source": []
  },
  {
   "cell_type": "code",
   "execution_count": 11,
   "metadata": {},
   "outputs": [],
   "source": [
    "# title = scraper(title,XpathTitle,iterateur200,221)\n",
    "# artist = scraper(artist,XpathArtist,iterateur200,221)\n",
    "# rank = scraper(rank,XpathRank,iterateur200,221)\n",
    "# last_week = scraper(last_week,XpathLastWeek,iterateur200,221)\n",
    "# peak_pos = scraper(peak_pos,XpathPeakPosition,iterateur200,221)\n",
    "# weeks_on_chart = scraper(weeks_on_chart,XpathWeeksOnChart,iterateur200,221)"
   ]
  },
  {
   "cell_type": "code",
   "execution_count": 12,
   "metadata": {},
   "outputs": [],
   "source": []
  },
  {
   "cell_type": "code",
   "execution_count": 13,
   "metadata": {},
   "outputs": [
    {
     "data": {
      "text/html": [
       "<div>\n",
       "<style scoped>\n",
       "    .dataframe tbody tr th:only-of-type {\n",
       "        vertical-align: middle;\n",
       "    }\n",
       "\n",
       "    .dataframe tbody tr th {\n",
       "        vertical-align: top;\n",
       "    }\n",
       "\n",
       "    .dataframe thead th {\n",
       "        text-align: right;\n",
       "    }\n",
       "</style>\n",
       "<table border=\"1\" class=\"dataframe\">\n",
       "  <thead>\n",
       "    <tr style=\"text-align: right;\">\n",
       "      <th></th>\n",
       "      <th>Title</th>\n",
       "      <th>Artist</th>\n",
       "      <th>Rank</th>\n",
       "      <th>Last Week</th>\n",
       "      <th>Peak Positon</th>\n",
       "      <th>Weeks on charts</th>\n",
       "    </tr>\n",
       "  </thead>\n",
       "  <tbody>\n",
       "    <tr>\n",
       "      <th>0</th>\n",
       "      <td>Flowers</td>\n",
       "      <td>Miley Cyrus</td>\n",
       "      <td>1</td>\n",
       "      <td>1</td>\n",
       "      <td>1</td>\n",
       "      <td>2</td>\n",
       "    </tr>\n",
       "    <tr>\n",
       "      <th>1</th>\n",
       "      <td>Bzrp Music Sessions, Vol. 53</td>\n",
       "      <td>Bizarrap &amp; Shakira</td>\n",
       "      <td>2</td>\n",
       "      <td>2</td>\n",
       "      <td>2</td>\n",
       "      <td>3</td>\n",
       "    </tr>\n",
       "    <tr>\n",
       "      <th>2</th>\n",
       "      <td>Kill Bill</td>\n",
       "      <td>SZA</td>\n",
       "      <td>3</td>\n",
       "      <td>3</td>\n",
       "      <td>1</td>\n",
       "      <td>7</td>\n",
       "    </tr>\n",
       "    <tr>\n",
       "      <th>3</th>\n",
       "      <td>Calm Down</td>\n",
       "      <td>Rema &amp; Selena Gomez</td>\n",
       "      <td>4</td>\n",
       "      <td>4</td>\n",
       "      <td>3</td>\n",
       "      <td>30</td>\n",
       "    </tr>\n",
       "    <tr>\n",
       "      <th>4</th>\n",
       "      <td>Unholy</td>\n",
       "      <td>Sam Smith &amp; Kim Petras</td>\n",
       "      <td>5</td>\n",
       "      <td>6</td>\n",
       "      <td>1</td>\n",
       "      <td>18</td>\n",
       "    </tr>\n",
       "    <tr>\n",
       "      <th>...</th>\n",
       "      <td>...</td>\n",
       "      <td>...</td>\n",
       "      <td>...</td>\n",
       "      <td>...</td>\n",
       "      <td>...</td>\n",
       "      <td>...</td>\n",
       "    </tr>\n",
       "    <tr>\n",
       "      <th>195</th>\n",
       "      <td>Wasted On You</td>\n",
       "      <td>Morgan Wallen</td>\n",
       "      <td>196</td>\n",
       "      <td>-</td>\n",
       "      <td>19</td>\n",
       "      <td>49</td>\n",
       "    </tr>\n",
       "    <tr>\n",
       "      <th>196</th>\n",
       "      <td>Gatita</td>\n",
       "      <td>Bellakath</td>\n",
       "      <td>197</td>\n",
       "      <td>147</td>\n",
       "      <td>113</td>\n",
       "      <td>6</td>\n",
       "    </tr>\n",
       "    <tr>\n",
       "      <th>197</th>\n",
       "      <td>Wake Me Up!</td>\n",
       "      <td>Avicii</td>\n",
       "      <td>198</td>\n",
       "      <td>200</td>\n",
       "      <td>154</td>\n",
       "      <td>34</td>\n",
       "    </tr>\n",
       "    <tr>\n",
       "      <th>198</th>\n",
       "      <td>Only Love Can Hurt Like This</td>\n",
       "      <td>Paloma Faith</td>\n",
       "      <td>199</td>\n",
       "      <td>-</td>\n",
       "      <td>75</td>\n",
       "      <td>26</td>\n",
       "    </tr>\n",
       "    <tr>\n",
       "      <th>199</th>\n",
       "      <td>The Loneliest</td>\n",
       "      <td>Maneskin</td>\n",
       "      <td>200</td>\n",
       "      <td>-</td>\n",
       "      <td>75</td>\n",
       "      <td>5</td>\n",
       "    </tr>\n",
       "  </tbody>\n",
       "</table>\n",
       "<p>200 rows × 6 columns</p>\n",
       "</div>"
      ],
      "text/plain": [
       "                            Title                  Artist Rank Last Week  \\\n",
       "0                         Flowers             Miley Cyrus    1         1   \n",
       "1    Bzrp Music Sessions, Vol. 53      Bizarrap & Shakira    2         2   \n",
       "2                       Kill Bill                     SZA    3         3   \n",
       "3                       Calm Down     Rema & Selena Gomez    4         4   \n",
       "4                          Unholy  Sam Smith & Kim Petras    5         6   \n",
       "..                            ...                     ...  ...       ...   \n",
       "195                 Wasted On You           Morgan Wallen  196         -   \n",
       "196                        Gatita               Bellakath  197       147   \n",
       "197                   Wake Me Up!                  Avicii  198       200   \n",
       "198  Only Love Can Hurt Like This            Paloma Faith  199         -   \n",
       "199                 The Loneliest                Maneskin  200         -   \n",
       "\n",
       "    Peak Positon Weeks on charts  \n",
       "0              1               2  \n",
       "1              2               3  \n",
       "2              1               7  \n",
       "3              3              30  \n",
       "4              1              18  \n",
       "..           ...             ...  \n",
       "195           19              49  \n",
       "196          113               6  \n",
       "197          154              34  \n",
       "198           75              26  \n",
       "199           75               5  \n",
       "\n",
       "[200 rows x 6 columns]"
      ]
     },
     "execution_count": 13,
     "metadata": {},
     "output_type": "execute_result"
    }
   ],
   "source": [
    "df = pd.DataFrame(list(zip(title,artist,rank,last_week,peak_pos,weeks_on_chart)),columns=['Title','Artist','Rank','Last Week','Peak Positon','Weeks on charts'])\n",
    "df"
   ]
  }
 ],
 "metadata": {
  "kernelspec": {
   "display_name": "Python 3",
   "language": "python",
   "name": "python3"
  },
  "language_info": {
   "codemirror_mode": {
    "name": "ipython",
    "version": 3
   },
   "file_extension": ".py",
   "mimetype": "text/x-python",
   "name": "python",
   "nbconvert_exporter": "python",
   "pygments_lexer": "ipython3",
   "version": "3.10.2"
  },
  "orig_nbformat": 4,
  "vscode": {
   "interpreter": {
    "hash": "fb1b171ad96b984d56ca83d54236ba1409bc9d92f05242ec8e2a2a0b48ca0a7e"
   }
  }
 },
 "nbformat": 4,
 "nbformat_minor": 2
}
